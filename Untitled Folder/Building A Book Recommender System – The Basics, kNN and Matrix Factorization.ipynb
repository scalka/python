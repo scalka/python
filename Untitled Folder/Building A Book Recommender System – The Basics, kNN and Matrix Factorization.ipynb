{
 "cells": [
  {
   "cell_type": "markdown",
   "metadata": {},
   "source": [
    "https://datascienceplus.com/building-a-book-recommender-system-the-basics-knn-and-matrix-factorization/"
   ]
  },
  {
   "cell_type": "code",
   "execution_count": 4,
   "metadata": {
    "collapsed": true
   },
   "outputs": [],
   "source": [
    "import numpy as np\n",
    "import pandas as pd\n",
    "import matplotlib.pyplot as plt"
   ]
  },
  {
   "cell_type": "code",
   "execution_count": 5,
   "metadata": {
    "collapsed": true
   },
   "outputs": [],
   "source": [
    "recipes = pd.read_csv('../datasets/allrecipes/allrecipes_less.csv', sep=\",\", error_bad_lines=False, encoding=\"latin-1\")"
   ]
  },
  {
   "cell_type": "code",
   "execution_count": 6,
   "metadata": {
    "collapsed": true
   },
   "outputs": [],
   "source": [
    "users = pd.read_csv('../datasets/allrecipes/user_info.csv', sep=',', error_bad_lines=False, encoding=\"latin-1\")"
   ]
  },
  {
   "cell_type": "code",
   "execution_count": 23,
   "metadata": {
    "collapsed": true
   },
   "outputs": [],
   "source": [
    "ratings = pd.read_csv('../datasets/allrecipes/user_recipe_ratings.csv', sep=',', error_bad_lines=False, encoding=\"latin-1\")"
   ]
  },
  {
   "cell_type": "code",
   "execution_count": 8,
   "metadata": {
    "collapsed": true
   },
   "outputs": [],
   "source": [
    "recipes.columns = ['item_id', 'ingredients', 'prep_time_minutes', 'rating_stars', 'review_count', 'time_scraped', 'title', 'total_time_minutes']"
   ]
  },
  {
   "cell_type": "code",
   "execution_count": 9,
   "metadata": {
    "collapsed": true
   },
   "outputs": [],
   "source": [
    "users.columns = ['user_id', 'location', 'age']"
   ]
  },
  {
   "cell_type": "code",
   "execution_count": 10,
   "metadata": {
    "collapsed": true
   },
   "outputs": [],
   "source": [
    "ratings.columns = ['user_id', 'item_id', 'rating']"
   ]
  },
  {
   "cell_type": "code",
   "execution_count": 11,
   "metadata": {},
   "outputs": [
    {
     "name": "stdout",
     "output_type": "stream",
     "text": [
      "(6000, 3)\n",
      "['user_id', 'item_id', 'rating']\n"
     ]
    },
    {
     "data": {
      "text/html": [
       "<div>\n",
       "<style>\n",
       "    .dataframe thead tr:only-child th {\n",
       "        text-align: right;\n",
       "    }\n",
       "\n",
       "    .dataframe thead th {\n",
       "        text-align: left;\n",
       "    }\n",
       "\n",
       "    .dataframe tbody tr th {\n",
       "        vertical-align: top;\n",
       "    }\n",
       "</style>\n",
       "<table border=\"1\" class=\"dataframe\">\n",
       "  <thead>\n",
       "    <tr style=\"text-align: right;\">\n",
       "      <th></th>\n",
       "      <th>user_id</th>\n",
       "      <th>item_id</th>\n",
       "      <th>rating</th>\n",
       "    </tr>\n",
       "  </thead>\n",
       "  <tbody>\n",
       "    <tr>\n",
       "      <th>0</th>\n",
       "      <td>1</td>\n",
       "      <td>873197</td>\n",
       "      <td>5</td>\n",
       "    </tr>\n",
       "    <tr>\n",
       "      <th>1</th>\n",
       "      <td>1</td>\n",
       "      <td>1019857</td>\n",
       "      <td>3</td>\n",
       "    </tr>\n",
       "    <tr>\n",
       "      <th>2</th>\n",
       "      <td>1</td>\n",
       "      <td>186236</td>\n",
       "      <td>5</td>\n",
       "    </tr>\n",
       "    <tr>\n",
       "      <th>3</th>\n",
       "      <td>1</td>\n",
       "      <td>408626</td>\n",
       "      <td>2</td>\n",
       "    </tr>\n",
       "    <tr>\n",
       "      <th>4</th>\n",
       "      <td>1</td>\n",
       "      <td>1813958</td>\n",
       "      <td>3</td>\n",
       "    </tr>\n",
       "  </tbody>\n",
       "</table>\n",
       "</div>"
      ],
      "text/plain": [
       "   user_id  item_id  rating\n",
       "0        1   873197       5\n",
       "1        1  1019857       3\n",
       "2        1   186236       5\n",
       "3        1   408626       2\n",
       "4        1  1813958       3"
      ]
     },
     "execution_count": 11,
     "metadata": {},
     "output_type": "execute_result"
    }
   ],
   "source": [
    "'num of rating and num of fields' \n",
    "print(ratings.shape)\n",
    "print(list(ratings.columns))\n",
    "ratings.head()"
   ]
  },
  {
   "cell_type": "markdown",
   "metadata": {
    "collapsed": true
   },
   "source": [
    "## Ratings distribution"
   ]
  },
  {
   "cell_type": "code",
   "execution_count": 12,
   "metadata": {},
   "outputs": [
    {
     "data": {
      "image/png": "[encoded data removed]",
      "text/plain": [
       "<matplotlib.figure.Figure at 0x1f2afd32da0>"
      ]
     },
     "metadata": {},
     "output_type": "display_data"
    }
   ],
   "source": [
    "plt.rc(\"font\", size=15)\n",
    "ratings.rating.value_counts(sort=False).plot(kind='bar')\n",
    "plt.title('Rating distribution')\n",
    "plt.xlabel('Rating')\n",
    "plt.ylabel('Count')\n",
    "#plt.savefig('system1.png', bbox_inches='tight')\n",
    "plt.show()"
   ]
  },
  {
   "cell_type": "markdown",
   "metadata": {},
   "source": [
    "## Books data"
   ]
  },
  {
   "cell_type": "code",
   "execution_count": 13,
   "metadata": {},
   "outputs": [
    {
     "name": "stdout",
     "output_type": "stream",
     "text": [
      "(225602, 8)\n",
      "['item_id', 'ingredients', 'prep_time_minutes', 'rating_stars', 'review_count', 'time_scraped', 'title', 'total_time_minutes']\n"
     ]
    },
    {
     "data": {
      "text/html": [
       "<div>\n",
       "<style>\n",
       "    .dataframe thead tr:only-child th {\n",
       "        text-align: right;\n",
       "    }\n",
       "\n",
       "    .dataframe thead th {\n",
       "        text-align: left;\n",
       "    }\n",
       "\n",
       "    .dataframe tbody tr th {\n",
       "        vertical-align: top;\n",
       "    }\n",
       "</style>\n",
       "<table border=\"1\" class=\"dataframe\">\n",
       "  <thead>\n",
       "    <tr style=\"text-align: right;\">\n",
       "      <th></th>\n",
       "      <th>item_id</th>\n",
       "      <th>ingredients</th>\n",
       "      <th>prep_time_minutes</th>\n",
       "      <th>rating_stars</th>\n",
       "      <th>review_count</th>\n",
       "      <th>time_scraped</th>\n",
       "      <th>title</th>\n",
       "      <th>total_time_minutes</th>\n",
       "    </tr>\n",
       "  </thead>\n",
       "  <tbody>\n",
       "    <tr>\n",
       "      <th>0</th>\n",
       "      <td>0</td>\n",
       "      <td>['1/2 cup unsalted butter, chilled and cubed',...</td>\n",
       "      <td>55</td>\n",
       "      <td>4.32</td>\n",
       "      <td>46</td>\n",
       "      <td>1498204021</td>\n",
       "      <td>Basil, Roasted Peppers and Monterey Jack Cornb...</td>\n",
       "      <td>100</td>\n",
       "    </tr>\n",
       "    <tr>\n",
       "      <th>1</th>\n",
       "      <td>1</td>\n",
       "      <td>['1/2 cup Parmesan cheese', '3/4 teaspoon grou...</td>\n",
       "      <td>0</td>\n",
       "      <td>4.18</td>\n",
       "      <td>44</td>\n",
       "      <td>1498204301</td>\n",
       "      <td>Crispy Cheese Twists</td>\n",
       "      <td>0</td>\n",
       "    </tr>\n",
       "    <tr>\n",
       "      <th>2</th>\n",
       "      <td>2</td>\n",
       "      <td>['2 cups hot water', '1/2 cup margarine', '1/3...</td>\n",
       "      <td>0</td>\n",
       "      <td>3.65</td>\n",
       "      <td>168</td>\n",
       "      <td>1498206088</td>\n",
       "      <td>Mom's Yeast Rolls</td>\n",
       "      <td>0</td>\n",
       "    </tr>\n",
       "    <tr>\n",
       "      <th>3</th>\n",
       "      <td>3</td>\n",
       "      <td>['1 1/2 cups white sugar', '1/2 cup vegetable ...</td>\n",
       "      <td>0</td>\n",
       "      <td>4.70</td>\n",
       "      <td>344</td>\n",
       "      <td>1498209193</td>\n",
       "      <td>Sweet Potato Bread I</td>\n",
       "      <td>0</td>\n",
       "    </tr>\n",
       "    <tr>\n",
       "      <th>4</th>\n",
       "      <td>4</td>\n",
       "      <td>['1/4 cup butter', '1 teaspoon white sugar', '...</td>\n",
       "      <td>20</td>\n",
       "      <td>4.71</td>\n",
       "      <td>6</td>\n",
       "      <td>1498205251</td>\n",
       "      <td>Orange Buns</td>\n",
       "      <td>170</td>\n",
       "    </tr>\n",
       "  </tbody>\n",
       "</table>\n",
       "</div>"
      ],
      "text/plain": [
       "   item_id                                        ingredients  \\\n",
       "0        0  ['1/2 cup unsalted butter, chilled and cubed',...   \n",
       "1        1  ['1/2 cup Parmesan cheese', '3/4 teaspoon grou...   \n",
       "2        2  ['2 cups hot water', '1/2 cup margarine', '1/3...   \n",
       "3        3  ['1 1/2 cups white sugar', '1/2 cup vegetable ...   \n",
       "4        4  ['1/4 cup butter', '1 teaspoon white sugar', '...   \n",
       "\n",
       "   prep_time_minutes  rating_stars  review_count  time_scraped  \\\n",
       "0                 55          4.32            46    1498204021   \n",
       "1                  0          4.18            44    1498204301   \n",
       "2                  0          3.65           168    1498206088   \n",
       "3                  0          4.70           344    1498209193   \n",
       "4                 20          4.71             6    1498205251   \n",
       "\n",
       "                                               title  total_time_minutes  \n",
       "0  Basil, Roasted Peppers and Monterey Jack Cornb...                 100  \n",
       "1                               Crispy Cheese Twists                   0  \n",
       "2                                  Mom's Yeast Rolls                   0  \n",
       "3                               Sweet Potato Bread I                   0  \n",
       "4                                        Orange Buns                 170  "
      ]
     },
     "execution_count": 13,
     "metadata": {},
     "output_type": "execute_result"
    }
   ],
   "source": [
    "print(recipes.shape)\n",
    "print(list(recipes.columns))\n",
    "recipes.head()"
   ]
  },
  {
   "cell_type": "markdown",
   "metadata": {},
   "source": [
    "## Users data"
   ]
  },
  {
   "cell_type": "code",
   "execution_count": 14,
   "metadata": {},
   "outputs": [
    {
     "name": "stdout",
     "output_type": "stream",
     "text": [
      "(1000, 3)\n",
      "['user_id', 'location', 'age']\n"
     ]
    },
    {
     "data": {
      "text/html": [
       "<div>\n",
       "<style>\n",
       "    .dataframe thead tr:only-child th {\n",
       "        text-align: right;\n",
       "    }\n",
       "\n",
       "    .dataframe thead th {\n",
       "        text-align: left;\n",
       "    }\n",
       "\n",
       "    .dataframe tbody tr th {\n",
       "        vertical-align: top;\n",
       "    }\n",
       "</style>\n",
       "<table border=\"1\" class=\"dataframe\">\n",
       "  <thead>\n",
       "    <tr style=\"text-align: right;\">\n",
       "      <th></th>\n",
       "      <th>user_id</th>\n",
       "      <th>location</th>\n",
       "      <th>age</th>\n",
       "    </tr>\n",
       "  </thead>\n",
       "  <tbody>\n",
       "    <tr>\n",
       "      <th>0</th>\n",
       "      <td>1</td>\n",
       "      <td>new york</td>\n",
       "      <td>23</td>\n",
       "    </tr>\n",
       "    <tr>\n",
       "      <th>1</th>\n",
       "      <td>2</td>\n",
       "      <td>california</td>\n",
       "      <td>24</td>\n",
       "    </tr>\n",
       "    <tr>\n",
       "      <th>2</th>\n",
       "      <td>3</td>\n",
       "      <td>yukon territory</td>\n",
       "      <td>27</td>\n",
       "    </tr>\n",
       "    <tr>\n",
       "      <th>3</th>\n",
       "      <td>4</td>\n",
       "      <td>v.n.gaia</td>\n",
       "      <td>33</td>\n",
       "    </tr>\n",
       "    <tr>\n",
       "      <th>4</th>\n",
       "      <td>5</td>\n",
       "      <td>hants</td>\n",
       "      <td>22</td>\n",
       "    </tr>\n",
       "  </tbody>\n",
       "</table>\n",
       "</div>"
      ],
      "text/plain": [
       "   user_id          location  age\n",
       "0        1          new york   23\n",
       "1        2        california   24\n",
       "2        3   yukon territory   27\n",
       "3        4          v.n.gaia   33\n",
       "4        5             hants   22"
      ]
     },
     "execution_count": 14,
     "metadata": {},
     "output_type": "execute_result"
    }
   ],
   "source": [
    "print(users.shape)\n",
    "print(list(users.columns))\n",
    "users.head()"
   ]
  },
  {
   "cell_type": "markdown",
   "metadata": {},
   "source": [
    "### Age distribution"
   ]
  },
  {
   "cell_type": "code",
   "execution_count": 15,
   "metadata": {},
   "outputs": [
    {
     "data": {
      "image/png": "[encoded data removed]",
      "text/plain": [
       "<matplotlib.figure.Figure at 0x1f2afd32a20>"
      ]
     },
     "metadata": {},
     "output_type": "display_data"
    }
   ],
   "source": [
    "users.age.hist(bins=[0, 10, 20, 30, 40, 50, 100])\n",
    "plt.title('Age Distribution\\n')\n",
    "plt.xlabel('Age')\n",
    "plt.ylabel('Count')\n",
    "#plt.savefig('system2.png', bbox_inches='tight')\n",
    "plt.show()"
   ]
  },
  {
   "cell_type": "markdown",
   "metadata": {},
   "source": [
    "## Recommendations based on rating counts"
   ]
  },
  {
   "cell_type": "markdown",
   "metadata": {},
   "source": [
    "### Fake data"
   ]
  },
  {
   "cell_type": "code",
   "execution_count": 16,
   "metadata": {},
   "outputs": [
    {
     "data": {
      "text/html": [
       "<div>\n",
       "<style>\n",
       "    .dataframe thead tr:only-child th {\n",
       "        text-align: right;\n",
       "    }\n",
       "\n",
       "    .dataframe thead th {\n",
       "        text-align: left;\n",
       "    }\n",
       "\n",
       "    .dataframe tbody tr th {\n",
       "        vertical-align: top;\n",
       "    }\n",
       "</style>\n",
       "<table border=\"1\" class=\"dataframe\">\n",
       "  <thead>\n",
       "    <tr style=\"text-align: right;\">\n",
       "      <th></th>\n",
       "      <th>rating</th>\n",
       "    </tr>\n",
       "    <tr>\n",
       "      <th>item_id</th>\n",
       "      <th></th>\n",
       "    </tr>\n",
       "  </thead>\n",
       "  <tbody>\n",
       "    <tr>\n",
       "      <th>598490</th>\n",
       "      <td>2</td>\n",
       "    </tr>\n",
       "    <tr>\n",
       "      <th>1919522</th>\n",
       "      <td>2</td>\n",
       "    </tr>\n",
       "    <tr>\n",
       "      <th>263578</th>\n",
       "      <td>2</td>\n",
       "    </tr>\n",
       "    <tr>\n",
       "      <th>965624</th>\n",
       "      <td>2</td>\n",
       "    </tr>\n",
       "    <tr>\n",
       "      <th>2046974</th>\n",
       "      <td>2</td>\n",
       "    </tr>\n",
       "  </tbody>\n",
       "</table>\n",
       "</div>"
      ],
      "text/plain": [
       "         rating\n",
       "item_id        \n",
       "598490        2\n",
       "1919522       2\n",
       "263578        2\n",
       "965624        2\n",
       "2046974       2"
      ]
     },
     "execution_count": 16,
     "metadata": {},
     "output_type": "execute_result"
    }
   ],
   "source": [
    "rating_count = pd.DataFrame(ratings.groupby('item_id')['rating'].count())\n",
    "rating_count.sort_values('rating', ascending=False).head()"
   ]
  },
  {
   "cell_type": "markdown",
   "metadata": {},
   "source": [
    "### Real data"
   ]
  },
  {
   "cell_type": "code",
   "execution_count": 17,
   "metadata": {},
   "outputs": [
    {
     "data": {
      "text/html": [
       "<div>\n",
       "<style>\n",
       "    .dataframe thead tr:only-child th {\n",
       "        text-align: right;\n",
       "    }\n",
       "\n",
       "    .dataframe thead th {\n",
       "        text-align: left;\n",
       "    }\n",
       "\n",
       "    .dataframe tbody tr th {\n",
       "        vertical-align: top;\n",
       "    }\n",
       "</style>\n",
       "<table border=\"1\" class=\"dataframe\">\n",
       "  <thead>\n",
       "    <tr style=\"text-align: right;\">\n",
       "      <th></th>\n",
       "      <th>item_id</th>\n",
       "      <th>ingredients</th>\n",
       "      <th>prep_time_minutes</th>\n",
       "      <th>rating_stars</th>\n",
       "      <th>review_count</th>\n",
       "      <th>time_scraped</th>\n",
       "      <th>title</th>\n",
       "      <th>total_time_minutes</th>\n",
       "    </tr>\n",
       "  </thead>\n",
       "  <tbody>\n",
       "    <tr>\n",
       "      <th>15606</th>\n",
       "      <td>15606</td>\n",
       "      <td>['1 pound sweet Italian sausage', '3/4 pound l...</td>\n",
       "      <td>150</td>\n",
       "      <td>4.79</td>\n",
       "      <td>10673</td>\n",
       "      <td>1498162841</td>\n",
       "      <td>World's Best Lasagna</td>\n",
       "      <td>195</td>\n",
       "    </tr>\n",
       "    <tr>\n",
       "      <th>12893</th>\n",
       "      <td>12893</td>\n",
       "      <td>['2 cups all-purpose flour', '1 teaspoon bakin...</td>\n",
       "      <td>65</td>\n",
       "      <td>4.57</td>\n",
       "      <td>9668</td>\n",
       "      <td>1498147211</td>\n",
       "      <td>Banana Banana Bread</td>\n",
       "      <td>80</td>\n",
       "    </tr>\n",
       "    <tr>\n",
       "      <th>39537</th>\n",
       "      <td>39537</td>\n",
       "      <td>['3 1/2 cups peeled and diced potatoes', '1/3 ...</td>\n",
       "      <td>25</td>\n",
       "      <td>4.84</td>\n",
       "      <td>9585</td>\n",
       "      <td>1498201808</td>\n",
       "      <td>Delicious Ham and Potato Soup</td>\n",
       "      <td>45</td>\n",
       "    </tr>\n",
       "    <tr>\n",
       "      <th>10952</th>\n",
       "      <td>10952</td>\n",
       "      <td>['1 1/2 cups all-purpose flour', '1 teaspoon b...</td>\n",
       "      <td>20</td>\n",
       "      <td>4.80</td>\n",
       "      <td>9583</td>\n",
       "      <td>1498135698</td>\n",
       "      <td>Banana Crumb Muffins</td>\n",
       "      <td>35</td>\n",
       "    </tr>\n",
       "    <tr>\n",
       "      <th>145182</th>\n",
       "      <td>145182</td>\n",
       "      <td>['3/4 cup milk', '2 tablespoons white vinegar'...</td>\n",
       "      <td>10</td>\n",
       "      <td>4.82</td>\n",
       "      <td>9432</td>\n",
       "      <td>1498128270</td>\n",
       "      <td>Fluffy Pancakes</td>\n",
       "      <td>25</td>\n",
       "    </tr>\n",
       "  </tbody>\n",
       "</table>\n",
       "</div>"
      ],
      "text/plain": [
       "        item_id                                        ingredients  \\\n",
       "15606     15606  ['1 pound sweet Italian sausage', '3/4 pound l...   \n",
       "12893     12893  ['2 cups all-purpose flour', '1 teaspoon bakin...   \n",
       "39537     39537  ['3 1/2 cups peeled and diced potatoes', '1/3 ...   \n",
       "10952     10952  ['1 1/2 cups all-purpose flour', '1 teaspoon b...   \n",
       "145182   145182  ['3/4 cup milk', '2 tablespoons white vinegar'...   \n",
       "\n",
       "        prep_time_minutes  rating_stars  review_count  time_scraped  \\\n",
       "15606                 150          4.79         10673    1498162841   \n",
       "12893                  65          4.57          9668    1498147211   \n",
       "39537                  25          4.84          9585    1498201808   \n",
       "10952                  20          4.80          9583    1498135698   \n",
       "145182                 10          4.82          9432    1498128270   \n",
       "\n",
       "                                title  total_time_minutes  \n",
       "15606            World's Best Lasagna                 195  \n",
       "12893             Banana Banana Bread                  80  \n",
       "39537   Delicious Ham and Potato Soup                  45  \n",
       "10952            Banana Crumb Muffins                  35  \n",
       "145182                Fluffy Pancakes                  25  "
      ]
     },
     "execution_count": 17,
     "metadata": {},
     "output_type": "execute_result"
    }
   ],
   "source": [
    "most_rated_recipes = recipes.sort_values('review_count', ascending = False).head()\n",
    "most_rated_recipes"
   ]
  },
  {
   "cell_type": "markdown",
   "metadata": {},
   "source": [
    "## Recommendations based on correlations\n",
    "Pearsons correlation coefficient for ratings for two recipes\n",
    "First, we need to find out the average rating, and the number of ratings each recipe received"
   ]
  },
  {
   "cell_type": "code",
   "execution_count": 18,
   "metadata": {},
   "outputs": [
    {
     "data": {
      "text/html": [
       "<div>\n",
       "<style>\n",
       "    .dataframe thead tr:only-child th {\n",
       "        text-align: right;\n",
       "    }\n",
       "\n",
       "    .dataframe thead th {\n",
       "        text-align: left;\n",
       "    }\n",
       "\n",
       "    .dataframe tbody tr th {\n",
       "        vertical-align: top;\n",
       "    }\n",
       "</style>\n",
       "<table border=\"1\" class=\"dataframe\">\n",
       "  <thead>\n",
       "    <tr style=\"text-align: right;\">\n",
       "      <th></th>\n",
       "      <th>rating</th>\n",
       "      <th>ratingCount</th>\n",
       "    </tr>\n",
       "    <tr>\n",
       "      <th>item_id</th>\n",
       "      <th></th>\n",
       "      <th></th>\n",
       "    </tr>\n",
       "  </thead>\n",
       "  <tbody>\n",
       "    <tr>\n",
       "      <th>598490</th>\n",
       "      <td>2.5</td>\n",
       "      <td>2</td>\n",
       "    </tr>\n",
       "    <tr>\n",
       "      <th>1919522</th>\n",
       "      <td>3.0</td>\n",
       "      <td>2</td>\n",
       "    </tr>\n",
       "    <tr>\n",
       "      <th>263578</th>\n",
       "      <td>1.0</td>\n",
       "      <td>2</td>\n",
       "    </tr>\n",
       "    <tr>\n",
       "      <th>965624</th>\n",
       "      <td>5.0</td>\n",
       "      <td>2</td>\n",
       "    </tr>\n",
       "    <tr>\n",
       "      <th>2046974</th>\n",
       "      <td>4.5</td>\n",
       "      <td>2</td>\n",
       "    </tr>\n",
       "  </tbody>\n",
       "</table>\n",
       "</div>"
      ],
      "text/plain": [
       "         rating  ratingCount\n",
       "item_id                     \n",
       "598490      2.5            2\n",
       "1919522     3.0            2\n",
       "263578      1.0            2\n",
       "965624      5.0            2\n",
       "2046974     4.5            2"
      ]
     },
     "execution_count": 18,
     "metadata": {},
     "output_type": "execute_result"
    }
   ],
   "source": [
    "average_rating = pd.DataFrame(ratings.groupby('item_id')['rating'].mean())\n",
    "average_rating['ratingCount'] = pd.DataFrame(ratings.groupby('item_id')['rating'].count())\n",
    "average_rating.sort_values('ratingCount', ascending=False).head()"
   ]
  },
  {
   "cell_type": "markdown",
   "metadata": {},
   "source": [
    "To ensure statistical significance, users with less than 200 ratings, and books with less than 100 ratings are excluded."
   ]
  },
  {
   "cell_type": "code",
   "execution_count": 19,
   "metadata": {
    "collapsed": true
   },
   "outputs": [],
   "source": [
    "#counts1 = ratings['user_id'].value_counts()\n",
    "#ratings = ratings[ratings['user_id'].isin(counts1[counts1 >= 200].index)]\n",
    "#counts = ratings['rating'].value_counts()\n",
    "#ratings = ratings[ratings['rating'].isin(counts[counts >= 100].index)]"
   ]
  },
  {
   "cell_type": "markdown",
   "metadata": {},
   "source": [
    "## Rating matrix\n",
    "We convert the ratings table to a 2D matrix. The matrix will be sparse because not every user rated every book."
   ]
  },
  {
   "cell_type": "code",
   "execution_count": 24,
   "metadata": {},
   "outputs": [
    {
     "name": "stdout",
     "output_type": "stream",
     "text": [
      "(1000, 5990)\n"
     ]
    },
    {
     "data": {
      "text/html": [
       "<div>\n",
       "<style>\n",
       "    .dataframe thead tr:only-child th {\n",
       "        text-align: right;\n",
       "    }\n",
       "\n",
       "    .dataframe thead th {\n",
       "        text-align: left;\n",
       "    }\n",
       "\n",
       "    .dataframe tbody tr th {\n",
       "        vertical-align: top;\n",
       "    }\n",
       "</style>\n",
       "<table border=\"1\" class=\"dataframe\">\n",
       "  <thead>\n",
       "    <tr style=\"text-align: right;\">\n",
       "      <th>item_id</th>\n",
       "      <th>159</th>\n",
       "      <th>549</th>\n",
       "      <th>550</th>\n",
       "      <th>756</th>\n",
       "      <th>1330</th>\n",
       "      <th>1960</th>\n",
       "      <th>1980</th>\n",
       "      <th>2054</th>\n",
       "      <th>2130</th>\n",
       "      <th>2196</th>\n",
       "      <th>...</th>\n",
       "      <th>2251212</th>\n",
       "      <th>2251634</th>\n",
       "      <th>2252049</th>\n",
       "      <th>2252403</th>\n",
       "      <th>2252707</th>\n",
       "      <th>2254405</th>\n",
       "      <th>2255216</th>\n",
       "      <th>2255229</th>\n",
       "      <th>2255610</th>\n",
       "      <th>2255743</th>\n",
       "    </tr>\n",
       "    <tr>\n",
       "      <th>user_id</th>\n",
       "      <th></th>\n",
       "      <th></th>\n",
       "      <th></th>\n",
       "      <th></th>\n",
       "      <th></th>\n",
       "      <th></th>\n",
       "      <th></th>\n",
       "      <th></th>\n",
       "      <th></th>\n",
       "      <th></th>\n",
       "      <th></th>\n",
       "      <th></th>\n",
       "      <th></th>\n",
       "      <th></th>\n",
       "      <th></th>\n",
       "      <th></th>\n",
       "      <th></th>\n",
       "      <th></th>\n",
       "      <th></th>\n",
       "      <th></th>\n",
       "      <th></th>\n",
       "    </tr>\n",
       "  </thead>\n",
       "  <tbody>\n",
       "    <tr>\n",
       "      <th>1</th>\n",
       "      <td>NaN</td>\n",
       "      <td>NaN</td>\n",
       "      <td>NaN</td>\n",
       "      <td>NaN</td>\n",
       "      <td>NaN</td>\n",
       "      <td>NaN</td>\n",
       "      <td>NaN</td>\n",
       "      <td>NaN</td>\n",
       "      <td>NaN</td>\n",
       "      <td>NaN</td>\n",
       "      <td>...</td>\n",
       "      <td>NaN</td>\n",
       "      <td>NaN</td>\n",
       "      <td>NaN</td>\n",
       "      <td>NaN</td>\n",
       "      <td>NaN</td>\n",
       "      <td>NaN</td>\n",
       "      <td>NaN</td>\n",
       "      <td>NaN</td>\n",
       "      <td>NaN</td>\n",
       "      <td>NaN</td>\n",
       "    </tr>\n",
       "    <tr>\n",
       "      <th>2</th>\n",
       "      <td>NaN</td>\n",
       "      <td>NaN</td>\n",
       "      <td>NaN</td>\n",
       "      <td>NaN</td>\n",
       "      <td>NaN</td>\n",
       "      <td>NaN</td>\n",
       "      <td>NaN</td>\n",
       "      <td>NaN</td>\n",
       "      <td>NaN</td>\n",
       "      <td>NaN</td>\n",
       "      <td>...</td>\n",
       "      <td>NaN</td>\n",
       "      <td>NaN</td>\n",
       "      <td>NaN</td>\n",
       "      <td>NaN</td>\n",
       "      <td>NaN</td>\n",
       "      <td>NaN</td>\n",
       "      <td>NaN</td>\n",
       "      <td>NaN</td>\n",
       "      <td>NaN</td>\n",
       "      <td>NaN</td>\n",
       "    </tr>\n",
       "    <tr>\n",
       "      <th>3</th>\n",
       "      <td>NaN</td>\n",
       "      <td>NaN</td>\n",
       "      <td>NaN</td>\n",
       "      <td>NaN</td>\n",
       "      <td>NaN</td>\n",
       "      <td>NaN</td>\n",
       "      <td>NaN</td>\n",
       "      <td>NaN</td>\n",
       "      <td>NaN</td>\n",
       "      <td>NaN</td>\n",
       "      <td>...</td>\n",
       "      <td>NaN</td>\n",
       "      <td>NaN</td>\n",
       "      <td>NaN</td>\n",
       "      <td>NaN</td>\n",
       "      <td>NaN</td>\n",
       "      <td>NaN</td>\n",
       "      <td>NaN</td>\n",
       "      <td>NaN</td>\n",
       "      <td>NaN</td>\n",
       "      <td>NaN</td>\n",
       "    </tr>\n",
       "    <tr>\n",
       "      <th>4</th>\n",
       "      <td>NaN</td>\n",
       "      <td>NaN</td>\n",
       "      <td>NaN</td>\n",
       "      <td>NaN</td>\n",
       "      <td>NaN</td>\n",
       "      <td>NaN</td>\n",
       "      <td>NaN</td>\n",
       "      <td>NaN</td>\n",
       "      <td>NaN</td>\n",
       "      <td>NaN</td>\n",
       "      <td>...</td>\n",
       "      <td>NaN</td>\n",
       "      <td>NaN</td>\n",
       "      <td>NaN</td>\n",
       "      <td>NaN</td>\n",
       "      <td>NaN</td>\n",
       "      <td>NaN</td>\n",
       "      <td>NaN</td>\n",
       "      <td>NaN</td>\n",
       "      <td>NaN</td>\n",
       "      <td>NaN</td>\n",
       "    </tr>\n",
       "    <tr>\n",
       "      <th>5</th>\n",
       "      <td>NaN</td>\n",
       "      <td>NaN</td>\n",
       "      <td>NaN</td>\n",
       "      <td>NaN</td>\n",
       "      <td>NaN</td>\n",
       "      <td>NaN</td>\n",
       "      <td>NaN</td>\n",
       "      <td>NaN</td>\n",
       "      <td>NaN</td>\n",
       "      <td>NaN</td>\n",
       "      <td>...</td>\n",
       "      <td>NaN</td>\n",
       "      <td>NaN</td>\n",
       "      <td>NaN</td>\n",
       "      <td>NaN</td>\n",
       "      <td>NaN</td>\n",
       "      <td>NaN</td>\n",
       "      <td>NaN</td>\n",
       "      <td>NaN</td>\n",
       "      <td>NaN</td>\n",
       "      <td>NaN</td>\n",
       "    </tr>\n",
       "  </tbody>\n",
       "</table>\n",
       "<p>5 rows × 5990 columns</p>\n",
       "</div>"
      ],
      "text/plain": [
       "item_id  159      549      550      756      1330     1960     1980     \\\n",
       "user_id                                                                  \n",
       "1            NaN      NaN      NaN      NaN      NaN      NaN      NaN   \n",
       "2            NaN      NaN      NaN      NaN      NaN      NaN      NaN   \n",
       "3            NaN      NaN      NaN      NaN      NaN      NaN      NaN   \n",
       "4            NaN      NaN      NaN      NaN      NaN      NaN      NaN   \n",
       "5            NaN      NaN      NaN      NaN      NaN      NaN      NaN   \n",
       "\n",
       "item_id  2054     2130     2196      ...     2251212  2251634  2252049  \\\n",
       "user_id                              ...                                 \n",
       "1            NaN      NaN      NaN   ...         NaN      NaN      NaN   \n",
       "2            NaN      NaN      NaN   ...         NaN      NaN      NaN   \n",
       "3            NaN      NaN      NaN   ...         NaN      NaN      NaN   \n",
       "4            NaN      NaN      NaN   ...         NaN      NaN      NaN   \n",
       "5            NaN      NaN      NaN   ...         NaN      NaN      NaN   \n",
       "\n",
       "item_id  2252403  2252707  2254405  2255216  2255229  2255610  2255743  \n",
       "user_id                                                                 \n",
       "1            NaN      NaN      NaN      NaN      NaN      NaN      NaN  \n",
       "2            NaN      NaN      NaN      NaN      NaN      NaN      NaN  \n",
       "3            NaN      NaN      NaN      NaN      NaN      NaN      NaN  \n",
       "4            NaN      NaN      NaN      NaN      NaN      NaN      NaN  \n",
       "5            NaN      NaN      NaN      NaN      NaN      NaN      NaN  \n",
       "\n",
       "[5 rows x 5990 columns]"
      ]
     },
     "execution_count": 24,
     "metadata": {},
     "output_type": "execute_result"
    }
   ],
   "source": [
    "ratings_pivot = ratings.pivot(index='user_id', columns='item_id').rating\n",
    "userId = ratings_pivot.index\n",
    "recipeId = ratings_pivot.columns\n",
    "print(ratings_pivot.shape)\n",
    "ratings_pivot.head()"
   ]
  },
  {
   "cell_type": "markdown",
   "metadata": {},
   "source": [
    "Let’s find out which books are correlated with the \"Delicious Ham and Potato Soup\""
   ]
  },
  {
   "cell_type": "code",
   "execution_count": 35,
   "metadata": {
    "collapsed": true
   },
   "outputs": [],
   "source": [
    "soup_ratings = ratings_pivot[1919522]"
   ]
  },
  {
   "cell_type": "code",
   "execution_count": 40,
   "metadata": {},
   "outputs": [
    {
     "name": "stderr",
     "output_type": "stream",
     "text": [
      "C:\\Users\\calka\\Anaconda3\\lib\\site-packages\\numpy\\lib\\function_base.py:3159: RuntimeWarning: Degrees of freedom <= 0 for slice\n",
      "  c = cov(x, y, rowvar)\n",
      "C:\\Users\\calka\\Anaconda3\\lib\\site-packages\\numpy\\lib\\function_base.py:3093: RuntimeWarning: divide by zero encountered in double_scalars\n",
      "  c *= 1. / np.float64(fact)\n"
     ]
    },
    {
     "data": {
      "text/html": [
       "<div>\n",
       "<style>\n",
       "    .dataframe thead tr:only-child th {\n",
       "        text-align: right;\n",
       "    }\n",
       "\n",
       "    .dataframe thead th {\n",
       "        text-align: left;\n",
       "    }\n",
       "\n",
       "    .dataframe tbody tr th {\n",
       "        vertical-align: top;\n",
       "    }\n",
       "</style>\n",
       "<table border=\"1\" class=\"dataframe\">\n",
       "  <thead>\n",
       "    <tr style=\"text-align: right;\">\n",
       "      <th></th>\n",
       "      <th>pearsonR</th>\n",
       "      <th>ratingCount</th>\n",
       "    </tr>\n",
       "    <tr>\n",
       "      <th>item_id</th>\n",
       "      <th></th>\n",
       "      <th></th>\n",
       "    </tr>\n",
       "  </thead>\n",
       "  <tbody>\n",
       "    <tr>\n",
       "      <th>1919522</th>\n",
       "      <td>1.0</td>\n",
       "      <td>2</td>\n",
       "    </tr>\n",
       "  </tbody>\n",
       "</table>\n",
       "</div>"
      ],
      "text/plain": [
       "         pearsonR  ratingCount\n",
       "item_id                       \n",
       "1919522       1.0            2"
      ]
     },
     "execution_count": 40,
     "metadata": {},
     "output_type": "execute_result"
    }
   ],
   "source": [
    "similar_to_soup = ratings_pivot.corrwith(soup_ratings)\n",
    "corr_soup = pd.DataFrame(similar_to_soup, columns=['pearsonR'])\n",
    "corr_soup.dropna(inplace=True)\n",
    "corr_summary = corr_soup.join(average_rating['ratingCount'])\n",
    "corr_summary[corr_summary['ratingCount']>=0.01].sort_values('pearsonR', ascending=False).head(10)"
   ]
  },
  {
   "cell_type": "code",
   "execution_count": null,
   "metadata": {
    "collapsed": true
   },
   "outputs": [],
   "source": [
    "recipes_corr_to_soup = pd.DataFrame(['1919522', '1919523', '1919524'], \n",
    "                                  index=np.arange(9), columns=['item_id'])\n",
    "corr_books = pd.merge(books_corr_to_bones, books, on='ISBN')\n",
    "corr_books"
   ]
  },
  {
   "cell_type": "code",
   "execution_count": null,
   "metadata": {
    "collapsed": true
   },
   "outputs": [],
   "source": []
  },
  {
   "cell_type": "code",
   "execution_count": null,
   "metadata": {
    "collapsed": true
   },
   "outputs": [],
   "source": []
  },
  {
   "cell_type": "code",
   "execution_count": null,
   "metadata": {
    "collapsed": true
   },
   "outputs": [],
   "source": []
  },
  {
   "cell_type": "code",
   "execution_count": null,
   "metadata": {
    "collapsed": true
   },
   "outputs": [],
   "source": []
  },
  {
   "cell_type": "code",
   "execution_count": null,
   "metadata": {
    "collapsed": true
   },
   "outputs": [],
   "source": []
  }
 ],
 "metadata": {
  "kernelspec": {
   "display_name": "Python 3",
   "language": "python",
   "name": "python3"
  },
  "language_info": {
   "codemirror_mode": {
    "name": "ipython",
    "version": 3
   },
   "file_extension": ".py",
   "mimetype": "text/x-python",
   "name": "python",
   "nbconvert_exporter": "python",
   "pygments_lexer": "ipython3",
   "version": "3.6.3"
  }
 },
 "nbformat": 4,
 "nbformat_minor": 2
}
