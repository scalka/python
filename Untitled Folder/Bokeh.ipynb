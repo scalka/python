{
 "cells": [
  {
   "cell_type": "markdown",
   "metadata": {},
   "source": [
    "Introduction to Bokeh\n",
    "In this tutorial we'll learn how to use Bokeh to build interactive visualizations viewable in a browser. Generally this tutorial will have the following format\n",
    "plotting - Intermediate interface allowing control to all parts of a plot\n",
    "- Vectorized attributes\n",
    "- Toolbars\n",
    "- Linked Brushing\n",
    "- Interactivity\n",
    "\n",
    "Install\n",
    "This tutorial uses many different libraries that are all available with the Anaconda Distribution. Once you have Anaconda install, please run these commands from a terminal:\n",
    "$ conda install -y bokeh\n",
    "\n",
    "Introduction to Bokeh\n",
    "Provide a first-class visualization library for web-aware applications, without requiring web-level programming.\n",
    "Write a visualization python. Bokeh creates data descripors and a scenegraph consumed by BokehJS. This works in ipython notebook, creating static files and interacting with dynamic data sources.\n",
    "Bokeh includes pre-built schemas in bokeh.charts, a low-level composition interface (similar to matplotlib), a server for large and/or dynamic datasources and widgets for providing client-side realtime interaction.\n",
    "The non-JS framework also has prototypes in other languages (Scala, Julia...maybe R).\n",
    "Note: There are examples notebooks in bokeh/examples/plotting/notebooks. Start an ipython notebook server there to get more examples."
   ]
  },
  {
   "cell_type": "code",
   "execution_count": 2,
   "metadata": {
    "collapsed": true
   },
   "outputs": [],
   "source": [
    "import pandas as pd\n",
    "import numpy as np"
   ]
  },
  {
   "cell_type": "markdown",
   "metadata": {},
   "source": [
    "# Output\n",
    "Bokeh can output to html, a notebook, or just fragments for embedding in a web application.\n",
    "To start playing, we'll use the notebook. Later we will see the other types of output."
   ]
  },
  {
   "cell_type": "code",
   "execution_count": 4,
   "metadata": {},
   "outputs": [
    {
     "data": {
      "text/html": [
       "\n",
       "    <div class=\"bk-root\">\n",
       "        <a href=\"https://bokeh.pydata.org\" target=\"_blank\" class=\"bk-logo bk-logo-small bk-logo-notebook\"></a>\n",
       "        <span id=\"9fae751e-83a3-4e3e-b1d5-ffa7b0e57c30\">Loading BokehJS ...</span>\n",
       "    </div>"
      ]
     },
     "metadata": {},
     "output_type": "display_data"
    },
    {
     "data": {
      "application/javascript": [
       "\n",
       "(function(root) {\n",
       "  function now() {\n",
       "    return new Date();\n",
       "  }\n",
       "\n",
       "  var force = true;\n",
       "\n",
       "  if (typeof (root._bokeh_onload_callbacks) === \"undefined\" || force === true) {\n",
       "    root._bokeh_onload_callbacks = [];\n",
       "    root._bokeh_is_loading = undefined;\n",
       "  }\n",
       "\n",
       "  var JS_MIME_TYPE = 'application/javascript';\n",
       "  var HTML_MIME_TYPE = 'text/html';\n",
       "  var EXEC_MIME_TYPE = 'application/vnd.bokehjs_exec.v0+json';\n",
       "  var CLASS_NAME = 'output_bokeh rendered_html';\n",
       "\n",
       "  /**\n",
       "   * Render data to the DOM node\n",
       "   */\n",
       "  function render(props, node) {\n",
       "    var script = document.createElement(\"script\");\n",
       "    node.appendChild(script);\n",
       "  }\n",
       "\n",
       "  /**\n",
       "   * Handle when an output is cleared or removed\n",
       "   */\n",
       "  function handleClearOutput(event, handle) {\n",
       "    var cell = handle.cell;\n",
       "\n",
       "    var id = cell.output_area._bokeh_element_id;\n",
       "    var server_id = cell.output_area._bokeh_server_id;\n",
       "    // Clean up Bokeh references\n",
       "    if (id !== undefined) {\n",
       "      Bokeh.index[id].model.document.clear();\n",
       "      delete Bokeh.index[id];\n",
       "    }\n",
       "\n",
       "    if (server_id !== undefined) {\n",
       "      // Clean up Bokeh references\n",
       "      var cmd = \"from bokeh.io.state import curstate; print(curstate().uuid_to_server['\" + server_id + \"'].get_sessions()[0].document.roots[0]._id)\";\n",
       "      cell.notebook.kernel.execute(cmd, {\n",
       "        iopub: {\n",
       "          output: function(msg) {\n",
       "            var element_id = msg.content.text.trim();\n",
       "            Bokeh.index[element_id].model.document.clear();\n",
       "            delete Bokeh.index[element_id];\n",
       "          }\n",
       "        }\n",
       "      });\n",
       "      // Destroy server and session\n",
       "      var cmd = \"import bokeh.io.notebook as ion; ion.destroy_server('\" + server_id + \"')\";\n",
       "      cell.notebook.kernel.execute(cmd);\n",
       "    }\n",
       "  }\n",
       "\n",
       "  /**\n",
       "   * Handle when a new output is added\n",
       "   */\n",
       "  function handleAddOutput(event, handle) {\n",
       "    var output_area = handle.output_area;\n",
       "    var output = handle.output;\n",
       "\n",
       "    // limit handleAddOutput to display_data with EXEC_MIME_TYPE content only\n",
       "    if ((output.output_type != \"display_data\") || (!output.data.hasOwnProperty(EXEC_MIME_TYPE))) {\n",
       "      return\n",
       "    }\n",
       "\n",
       "    var toinsert = output_area.element.find(`.${CLASS_NAME.split(' ')[0]}`);\n",
       "\n",
       "    if (output.metadata[EXEC_MIME_TYPE][\"id\"] !== undefined) {\n",
       "      toinsert[0].firstChild.textContent = output.data[JS_MIME_TYPE];\n",
       "      // store reference to embed id on output_area\n",
       "      output_area._bokeh_element_id = output.metadata[EXEC_MIME_TYPE][\"id\"];\n",
       "    }\n",
       "    if (output.metadata[EXEC_MIME_TYPE][\"server_id\"] !== undefined) {\n",
       "      var bk_div = document.createElement(\"div\");\n",
       "      bk_div.innerHTML = output.data[HTML_MIME_TYPE];\n",
       "      var script_attrs = bk_div.children[0].attributes;\n",
       "      for (var i = 0; i < script_attrs.length; i++) {\n",
       "        toinsert[0].firstChild.setAttribute(script_attrs[i].name, script_attrs[i].value);\n",
       "      }\n",
       "      // store reference to server id on output_area\n",
       "      output_area._bokeh_server_id = output.metadata[EXEC_MIME_TYPE][\"server_id\"];\n",
       "    }\n",
       "  }\n",
       "\n",
       "  function register_renderer(events, OutputArea) {\n",
       "\n",
       "    function append_mime(data, metadata, element) {\n",
       "      // create a DOM node to render to\n",
       "      var toinsert = this.create_output_subarea(\n",
       "        metadata,\n",
       "        CLASS_NAME,\n",
       "        EXEC_MIME_TYPE\n",
       "      );\n",
       "      this.keyboard_manager.register_events(toinsert);\n",
       "      // Render to node\n",
       "      var props = {data: data, metadata: metadata[EXEC_MIME_TYPE]};\n",
       "      render(props, toinsert[0]);\n",
       "      element.append(toinsert);\n",
       "      return toinsert\n",
       "    }\n",
       "\n",
       "    /* Handle when an output is cleared or removed */\n",
       "    events.on('clear_output.CodeCell', handleClearOutput);\n",
       "    events.on('delete.Cell', handleClearOutput);\n",
       "\n",
       "    /* Handle when a new output is added */\n",
       "    events.on('output_added.OutputArea', handleAddOutput);\n",
       "\n",
       "    /**\n",
       "     * Register the mime type and append_mime function with output_area\n",
       "     */\n",
       "    OutputArea.prototype.register_mime_type(EXEC_MIME_TYPE, append_mime, {\n",
       "      /* Is output safe? */\n",
       "      safe: true,\n",
       "      /* Index of renderer in `output_area.display_order` */\n",
       "      index: 0\n",
       "    });\n",
       "  }\n",
       "\n",
       "  // register the mime type if in Jupyter Notebook environment and previously unregistered\n",
       "  if (root.Jupyter !== undefined) {\n",
       "    var events = require('base/js/events');\n",
       "    var OutputArea = require('notebook/js/outputarea').OutputArea;\n",
       "\n",
       "    if (OutputArea.prototype.mime_types().indexOf(EXEC_MIME_TYPE) == -1) {\n",
       "      register_renderer(events, OutputArea);\n",
       "    }\n",
       "  }\n",
       "\n",
       "  \n",
       "  if (typeof (root._bokeh_timeout) === \"undefined\" || force === true) {\n",
       "    root._bokeh_timeout = Date.now() + 5000;\n",
       "    root._bokeh_failed_load = false;\n",
       "  }\n",
       "\n",
       "  var NB_LOAD_WARNING = {'data': {'text/html':\n",
       "     \"<div style='background-color: #fdd'>\\n\"+\n",
       "     \"<p>\\n\"+\n",
       "     \"BokehJS does not appear to have successfully loaded. If loading BokehJS from CDN, this \\n\"+\n",
       "     \"may be due to a slow or bad network connection. Possible fixes:\\n\"+\n",
       "     \"</p>\\n\"+\n",
       "     \"<ul>\\n\"+\n",
       "     \"<li>re-rerun `output_notebook()` to attempt to load from CDN again, or</li>\\n\"+\n",
       "     \"<li>use INLINE resources instead, as so:</li>\\n\"+\n",
       "     \"</ul>\\n\"+\n",
       "     \"<code>\\n\"+\n",
       "     \"from bokeh.resources import INLINE\\n\"+\n",
       "     \"output_notebook(resources=INLINE)\\n\"+\n",
       "     \"</code>\\n\"+\n",
       "     \"</div>\"}};\n",
       "\n",
       "  function display_loaded() {\n",
       "    var el = document.getElementById(\"9fae751e-83a3-4e3e-b1d5-ffa7b0e57c30\");\n",
       "    if (el != null) {\n",
       "      el.textContent = \"BokehJS is loading...\";\n",
       "    }\n",
       "    if (root.Bokeh !== undefined) {\n",
       "      if (el != null) {\n",
       "        el.textContent = \"BokehJS \" + root.Bokeh.version + \" successfully loaded.\";\n",
       "      }\n",
       "    } else if (Date.now() < root._bokeh_timeout) {\n",
       "      setTimeout(display_loaded, 100)\n",
       "    }\n",
       "  }\n",
       "\n",
       "\n",
       "  function run_callbacks() {\n",
       "    try {\n",
       "      root._bokeh_onload_callbacks.forEach(function(callback) { callback() });\n",
       "    }\n",
       "    finally {\n",
       "      delete root._bokeh_onload_callbacks\n",
       "    }\n",
       "    console.info(\"Bokeh: all callbacks have finished\");\n",
       "  }\n",
       "\n",
       "  function load_libs(js_urls, callback) {\n",
       "    root._bokeh_onload_callbacks.push(callback);\n",
       "    if (root._bokeh_is_loading > 0) {\n",
       "      console.log(\"Bokeh: BokehJS is being loaded, scheduling callback at\", now());\n",
       "      return null;\n",
       "    }\n",
       "    if (js_urls == null || js_urls.length === 0) {\n",
       "      run_callbacks();\n",
       "      return null;\n",
       "    }\n",
       "    console.log(\"Bokeh: BokehJS not loaded, scheduling load and callback at\", now());\n",
       "    root._bokeh_is_loading = js_urls.length;\n",
       "    for (var i = 0; i < js_urls.length; i++) {\n",
       "      var url = js_urls[i];\n",
       "      var s = document.createElement('script');\n",
       "      s.src = url;\n",
       "      s.async = false;\n",
       "      s.onreadystatechange = s.onload = function() {\n",
       "        root._bokeh_is_loading--;\n",
       "        if (root._bokeh_is_loading === 0) {\n",
       "          console.log(\"Bokeh: all BokehJS libraries loaded\");\n",
       "          run_callbacks()\n",
       "        }\n",
       "      };\n",
       "      s.onerror = function() {\n",
       "        console.warn(\"failed to load library \" + url);\n",
       "      };\n",
       "      console.log(\"Bokeh: injecting script tag for BokehJS library: \", url);\n",
       "      document.getElementsByTagName(\"head\")[0].appendChild(s);\n",
       "    }\n",
       "  };var element = document.getElementById(\"9fae751e-83a3-4e3e-b1d5-ffa7b0e57c30\");\n",
       "  if (element == null) {\n",
       "    console.log(\"Bokeh: ERROR: autoload.js configured with elementid '9fae751e-83a3-4e3e-b1d5-ffa7b0e57c30' but no matching script tag was found. \")\n",
       "    return false;\n",
       "  }\n",
       "\n",
       "  var js_urls = [\"https://cdn.pydata.org/bokeh/release/bokeh-0.12.10.min.js\", \"https://cdn.pydata.org/bokeh/release/bokeh-widgets-0.12.10.min.js\", \"https://cdn.pydata.org/bokeh/release/bokeh-tables-0.12.10.min.js\", \"https://cdn.pydata.org/bokeh/release/bokeh-gl-0.12.10.min.js\"];\n",
       "\n",
       "  var inline_js = [\n",
       "    function(Bokeh) {\n",
       "      Bokeh.set_log_level(\"info\");\n",
       "    },\n",
       "    \n",
       "    function(Bokeh) {\n",
       "      \n",
       "    },\n",
       "    function(Bokeh) {\n",
       "      console.log(\"Bokeh: injecting CSS: https://cdn.pydata.org/bokeh/release/bokeh-0.12.10.min.css\");\n",
       "      Bokeh.embed.inject_css(\"https://cdn.pydata.org/bokeh/release/bokeh-0.12.10.min.css\");\n",
       "      console.log(\"Bokeh: injecting CSS: https://cdn.pydata.org/bokeh/release/bokeh-widgets-0.12.10.min.css\");\n",
       "      Bokeh.embed.inject_css(\"https://cdn.pydata.org/bokeh/release/bokeh-widgets-0.12.10.min.css\");\n",
       "      console.log(\"Bokeh: injecting CSS: https://cdn.pydata.org/bokeh/release/bokeh-tables-0.12.10.min.css\");\n",
       "      Bokeh.embed.inject_css(\"https://cdn.pydata.org/bokeh/release/bokeh-tables-0.12.10.min.css\");\n",
       "    }\n",
       "  ];\n",
       "\n",
       "  function run_inline_js() {\n",
       "    \n",
       "    if ((root.Bokeh !== undefined) || (force === true)) {\n",
       "      for (var i = 0; i < inline_js.length; i++) {\n",
       "        inline_js[i].call(root, root.Bokeh);\n",
       "      }if (force === true) {\n",
       "        display_loaded();\n",
       "      }} else if (Date.now() < root._bokeh_timeout) {\n",
       "      setTimeout(run_inline_js, 100);\n",
       "    } else if (!root._bokeh_failed_load) {\n",
       "      console.log(\"Bokeh: BokehJS failed to load within specified timeout.\");\n",
       "      root._bokeh_failed_load = true;\n",
       "    } else if (force !== true) {\n",
       "      var cell = $(document.getElementById(\"9fae751e-83a3-4e3e-b1d5-ffa7b0e57c30\")).parents('.cell').data().cell;\n",
       "      cell.output_area.append_execute_result(NB_LOAD_WARNING)\n",
       "    }\n",
       "\n",
       "  }\n",
       "\n",
       "  if (root._bokeh_is_loading === 0) {\n",
       "    console.log(\"Bokeh: BokehJS loaded, going straight to plotting\");\n",
       "    run_inline_js();\n",
       "  } else {\n",
       "    load_libs(js_urls, function() {\n",
       "      console.log(\"Bokeh: BokehJS plotting callback run at\", now());\n",
       "      run_inline_js();\n",
       "    });\n",
       "  }\n",
       "}(window));"
      ],
      "application/vnd.bokehjs_load.v0+json": "\n(function(root) {\n  function now() {\n    return new Date();\n  }\n\n  var force = true;\n\n  if (typeof (root._bokeh_onload_callbacks) === \"undefined\" || force === true) {\n    root._bokeh_onload_callbacks = [];\n    root._bokeh_is_loading = undefined;\n  }\n\n  \n\n  \n  if (typeof (root._bokeh_timeout) === \"undefined\" || force === true) {\n    root._bokeh_timeout = Date.now() + 5000;\n    root._bokeh_failed_load = false;\n  }\n\n  var NB_LOAD_WARNING = {'data': {'text/html':\n     \"<div style='background-color: #fdd'>\\n\"+\n     \"<p>\\n\"+\n     \"BokehJS does not appear to have successfully loaded. If loading BokehJS from CDN, this \\n\"+\n     \"may be due to a slow or bad network connection. Possible fixes:\\n\"+\n     \"</p>\\n\"+\n     \"<ul>\\n\"+\n     \"<li>re-rerun `output_notebook()` to attempt to load from CDN again, or</li>\\n\"+\n     \"<li>use INLINE resources instead, as so:</li>\\n\"+\n     \"</ul>\\n\"+\n     \"<code>\\n\"+\n     \"from bokeh.resources import INLINE\\n\"+\n     \"output_notebook(resources=INLINE)\\n\"+\n     \"</code>\\n\"+\n     \"</div>\"}};\n\n  function display_loaded() {\n    var el = document.getElementById(\"9fae751e-83a3-4e3e-b1d5-ffa7b0e57c30\");\n    if (el != null) {\n      el.textContent = \"BokehJS is loading...\";\n    }\n    if (root.Bokeh !== undefined) {\n      if (el != null) {\n        el.textContent = \"BokehJS \" + root.Bokeh.version + \" successfully loaded.\";\n      }\n    } else if (Date.now() < root._bokeh_timeout) {\n      setTimeout(display_loaded, 100)\n    }\n  }\n\n\n  function run_callbacks() {\n    try {\n      root._bokeh_onload_callbacks.forEach(function(callback) { callback() });\n    }\n    finally {\n      delete root._bokeh_onload_callbacks\n    }\n    console.info(\"Bokeh: all callbacks have finished\");\n  }\n\n  function load_libs(js_urls, callback) {\n    root._bokeh_onload_callbacks.push(callback);\n    if (root._bokeh_is_loading > 0) {\n      console.log(\"Bokeh: BokehJS is being loaded, scheduling callback at\", now());\n      return null;\n    }\n    if (js_urls == null || js_urls.length === 0) {\n      run_callbacks();\n      return null;\n    }\n    console.log(\"Bokeh: BokehJS not loaded, scheduling load and callback at\", now());\n    root._bokeh_is_loading = js_urls.length;\n    for (var i = 0; i < js_urls.length; i++) {\n      var url = js_urls[i];\n      var s = document.createElement('script');\n      s.src = url;\n      s.async = false;\n      s.onreadystatechange = s.onload = function() {\n        root._bokeh_is_loading--;\n        if (root._bokeh_is_loading === 0) {\n          console.log(\"Bokeh: all BokehJS libraries loaded\");\n          run_callbacks()\n        }\n      };\n      s.onerror = function() {\n        console.warn(\"failed to load library \" + url);\n      };\n      console.log(\"Bokeh: injecting script tag for BokehJS library: \", url);\n      document.getElementsByTagName(\"head\")[0].appendChild(s);\n    }\n  };var element = document.getElementById(\"9fae751e-83a3-4e3e-b1d5-ffa7b0e57c30\");\n  if (element == null) {\n    console.log(\"Bokeh: ERROR: autoload.js configured with elementid '9fae751e-83a3-4e3e-b1d5-ffa7b0e57c30' but no matching script tag was found. \")\n    return false;\n  }\n\n  var js_urls = [\"https://cdn.pydata.org/bokeh/release/bokeh-0.12.10.min.js\", \"https://cdn.pydata.org/bokeh/release/bokeh-widgets-0.12.10.min.js\", \"https://cdn.pydata.org/bokeh/release/bokeh-tables-0.12.10.min.js\", \"https://cdn.pydata.org/bokeh/release/bokeh-gl-0.12.10.min.js\"];\n\n  var inline_js = [\n    function(Bokeh) {\n      Bokeh.set_log_level(\"info\");\n    },\n    \n    function(Bokeh) {\n      \n    },\n    function(Bokeh) {\n      console.log(\"Bokeh: injecting CSS: https://cdn.pydata.org/bokeh/release/bokeh-0.12.10.min.css\");\n      Bokeh.embed.inject_css(\"https://cdn.pydata.org/bokeh/release/bokeh-0.12.10.min.css\");\n      console.log(\"Bokeh: injecting CSS: https://cdn.pydata.org/bokeh/release/bokeh-widgets-0.12.10.min.css\");\n      Bokeh.embed.inject_css(\"https://cdn.pydata.org/bokeh/release/bokeh-widgets-0.12.10.min.css\");\n      console.log(\"Bokeh: injecting CSS: https://cdn.pydata.org/bokeh/release/bokeh-tables-0.12.10.min.css\");\n      Bokeh.embed.inject_css(\"https://cdn.pydata.org/bokeh/release/bokeh-tables-0.12.10.min.css\");\n    }\n  ];\n\n  function run_inline_js() {\n    \n    if ((root.Bokeh !== undefined) || (force === true)) {\n      for (var i = 0; i < inline_js.length; i++) {\n        inline_js[i].call(root, root.Bokeh);\n      }if (force === true) {\n        display_loaded();\n      }} else if (Date.now() < root._bokeh_timeout) {\n      setTimeout(run_inline_js, 100);\n    } else if (!root._bokeh_failed_load) {\n      console.log(\"Bokeh: BokehJS failed to load within specified timeout.\");\n      root._bokeh_failed_load = true;\n    } else if (force !== true) {\n      var cell = $(document.getElementById(\"9fae751e-83a3-4e3e-b1d5-ffa7b0e57c30\")).parents('.cell').data().cell;\n      cell.output_area.append_execute_result(NB_LOAD_WARNING)\n    }\n\n  }\n\n  if (root._bokeh_is_loading === 0) {\n    console.log(\"Bokeh: BokehJS loaded, going straight to plotting\");\n    run_inline_js();\n  } else {\n    load_libs(js_urls, function() {\n      console.log(\"Bokeh: BokehJS plotting callback run at\", now());\n      run_inline_js();\n    });\n  }\n}(window));"
     },
     "metadata": {},
     "output_type": "display_data"
    }
   ],
   "source": [
    "from bokeh.plotting import output_notebook  \n",
    "output_notebook() # Tell Bokeh to output in an ipython notebook (other options later)"
   ]
  },
  {
   "cell_type": "markdown",
   "metadata": {},
   "source": [
    "# Plotting.py\n",
    "This is a mid-level interface, used by the charting library (and other parts of bokeh). It can also be used directly. The basic idea: there is an active plot, and you are modifying it."
   ]
  },
  {
   "cell_type": "code",
   "execution_count": 5,
   "metadata": {
    "collapsed": true
   },
   "outputs": [],
   "source": [
    "import numpy as np\n",
    "from bokeh.plotting import *\n",
    "\n",
    "N = 102\n",
    "#linspace - linarray(range) from 0 to 4pi with N (102) points\n",
    "lin_arr = np.linspace(0, 4*np.pi, N)\n",
    "\n",
    "sin_arr = np.sin(lin_arr)\n",
    "cos_arr = np.cos(lin_arr)\n"
   ]
  },
  {
   "cell_type": "code",
   "execution_count": 8,
   "metadata": {},
   "outputs": [
    {
     "data": {
      "text/plain": [
       "array([  0.00000000e+00,   1.24098753e-01,   2.46278907e-01,\n",
       "         3.64651526e-01,   4.77386540e-01,   5.82741036e-01,\n",
       "         6.79086207e-01,   7.64932532e-01,   8.38952804e-01,\n",
       "         9.00002652e-01,   9.47138229e-01,   9.79630808e-01,\n",
       "         9.96978044e-01,   9.98911745e-01,   9.85402015e-01,\n",
       "         9.56657719e-01,   9.13123250e-01,   8.55471663e-01,\n",
       "         7.84594265e-01,   7.01586840e-01,   6.07732703e-01,\n",
       "         5.04482863e-01,   3.93433590e-01,   2.76301733e-01,\n",
       "         1.54898180e-01,   3.10998623e-02,  -9.31792675e-02,\n",
       "        -2.16017822e-01,  -3.35516686e-01,  -4.49828376e-01,\n",
       "        -5.57185605e-01,  -6.55928602e-01,  -7.44530775e-01,\n",
       "        -8.21622313e-01,  -8.86011359e-01,  -9.36702445e-01,\n",
       "        -9.72911871e-01,  -9.94079831e-01,  -9.99879063e-01,\n",
       "        -9.90219910e-01,  -9.65251704e-01,  -9.25360461e-01,\n",
       "        -8.71162908e-01,  -8.03496955e-01,  -7.23408733e-01,\n",
       "        -6.32136428e-01,  -5.31091132e-01,  -4.21835032e-01,\n",
       "        -3.06057255e-01,  -1.85547754e-01,  -6.21696374e-02,\n",
       "         6.21696374e-02,   1.85547754e-01,   3.06057255e-01,\n",
       "         4.21835032e-01,   5.31091132e-01,   6.32136428e-01,\n",
       "         7.23408733e-01,   8.03496955e-01,   8.71162908e-01,\n",
       "         9.25360461e-01,   9.65251704e-01,   9.90219910e-01,\n",
       "         9.99879063e-01,   9.94079831e-01,   9.72911871e-01,\n",
       "         9.36702445e-01,   8.86011359e-01,   8.21622313e-01,\n",
       "         7.44530775e-01,   6.55928602e-01,   5.57185605e-01,\n",
       "         4.49828376e-01,   3.35516686e-01,   2.16017822e-01,\n",
       "         9.31792675e-02,  -3.10998623e-02,  -1.54898180e-01,\n",
       "        -2.76301733e-01,  -3.93433590e-01,  -5.04482863e-01,\n",
       "        -6.07732703e-01,  -7.01586840e-01,  -7.84594265e-01,\n",
       "        -8.55471663e-01,  -9.13123250e-01,  -9.56657719e-01,\n",
       "        -9.85402015e-01,  -9.98911745e-01,  -9.96978044e-01,\n",
       "        -9.79630808e-01,  -9.47138229e-01,  -9.00002652e-01,\n",
       "        -8.38952804e-01,  -7.64932532e-01,  -6.79086207e-01,\n",
       "        -5.82741036e-01,  -4.77386540e-01,  -3.64651526e-01,\n",
       "        -2.46278907e-01,  -1.24098753e-01,  -4.89858720e-16])"
      ]
     },
     "execution_count": 8,
     "metadata": {},
     "output_type": "execute_result"
    }
   ],
   "source": [
    "sin_arr"
   ]
  },
  {
   "cell_type": "code",
   "execution_count": 10,
   "metadata": {},
   "outputs": [
    {
     "data": {
      "text/html": [
       "\n",
       "<div class=\"bk-root\">\n",
       "    <div class=\"bk-plotdiv\" id=\"d8607fd3-5c50-4d33-a9f8-73f5437d0efe\"></div>\n",
       "</div>"
      ]
     },
     "metadata": {},
     "output_type": "display_data"
    },
    {
     "data": {
      "application/javascript": [
       "(function(root) {\n",
       "  function embed_document(root) {\n",
       "    var docs_json = {\"5c422684-7ae6-4af4-811a-38e69190dc1b\":{\"roots\":{\"references\":[{\"attributes\":{},\"id\":\"78c57073-b197-4457-82cd-a838a7770163\",\"type\":\"LinearScale\"},{\"attributes\":{},\"id\":\"1e8a2943-9ea3-4010-8aa7-e1ce49d46eea\",\"type\":\"BasicTicker\"},{\"attributes\":{\"dimension\":1,\"plot\":{\"id\":\"81a95c27-bafb-4dca-95b4-9b0150e2316e\",\"subtype\":\"Figure\",\"type\":\"Plot\"},\"ticker\":{\"id\":\"1e8a2943-9ea3-4010-8aa7-e1ce49d46eea\",\"type\":\"BasicTicker\"}},\"id\":\"c2aaa5a3-e318-4d39-8bb6-9f0395714f12\",\"type\":\"Grid\"},{\"attributes\":{},\"id\":\"34d9bc29-f167-4b93-a968-9afcbb461f43\",\"type\":\"LinearScale\"},{\"attributes\":{\"formatter\":{\"id\":\"c93b5821-e6c2-4ca1-b732-04e7df9759c2\",\"type\":\"BasicTickFormatter\"},\"plot\":{\"id\":\"81a95c27-bafb-4dca-95b4-9b0150e2316e\",\"subtype\":\"Figure\",\"type\":\"Plot\"},\"ticker\":{\"id\":\"1e8a2943-9ea3-4010-8aa7-e1ce49d46eea\",\"type\":\"BasicTicker\"}},\"id\":\"97219c14-4b3e-437f-8e89-5e8770a29ba2\",\"type\":\"LinearAxis\"},{\"attributes\":{},\"id\":\"89553ccd-4f04-4b7e-bdf5-2ad48363dad0\",\"type\":\"BasicTicker\"},{\"attributes\":{\"formatter\":{\"id\":\"0dfce5fc-f885-4c50-b2e4-f4068641d871\",\"type\":\"BasicTickFormatter\"},\"plot\":{\"id\":\"81a95c27-bafb-4dca-95b4-9b0150e2316e\",\"subtype\":\"Figure\",\"type\":\"Plot\"},\"ticker\":{\"id\":\"89553ccd-4f04-4b7e-bdf5-2ad48363dad0\",\"type\":\"BasicTicker\"}},\"id\":\"728dcd85-a328-49dc-b03b-dfa4984a667e\",\"type\":\"LinearAxis\"},{\"attributes\":{\"plot\":{\"id\":\"81a95c27-bafb-4dca-95b4-9b0150e2316e\",\"subtype\":\"Figure\",\"type\":\"Plot\"},\"ticker\":{\"id\":\"89553ccd-4f04-4b7e-bdf5-2ad48363dad0\",\"type\":\"BasicTicker\"}},\"id\":\"7470f3e3-6801-4265-929e-729dafc10656\",\"type\":\"Grid\"},{\"attributes\":{\"callback\":null},\"id\":\"a57e8299-274a-4661-bdd9-7bff6d2b5938\",\"type\":\"DataRange1d\"},{\"attributes\":{\"fill_alpha\":{\"value\":0.1},\"fill_color\":{\"value\":\"#1f77b4\"},\"line_alpha\":{\"value\":0.1},\"line_color\":{\"value\":\"#1f77b4\"},\"x\":{\"field\":\"x\"},\"y\":{\"field\":\"y\"}},\"id\":\"e41b1af6-a922-4b91-a5ed-dc0726325093\",\"type\":\"Circle\"},{\"attributes\":{},\"id\":\"c93b5821-e6c2-4ca1-b732-04e7df9759c2\",\"type\":\"BasicTickFormatter\"},{\"attributes\":{\"bottom_units\":\"screen\",\"fill_alpha\":{\"value\":0.5},\"fill_color\":{\"value\":\"lightgrey\"},\"left_units\":\"screen\",\"level\":\"overlay\",\"line_alpha\":{\"value\":1.0},\"line_color\":{\"value\":\"black\"},\"line_dash\":[4,4],\"line_width\":{\"value\":2},\"plot\":null,\"render_mode\":\"css\",\"right_units\":\"screen\",\"top_units\":\"screen\"},\"id\":\"72ed0c77-afd6-4513-9f13-01d3f0d3f275\",\"type\":\"BoxAnnotation\"},{\"attributes\":{\"callback\":null},\"id\":\"b858ae84-a226-45a4-a4ac-c16fbf6ec62e\",\"type\":\"DataRange1d\"},{\"attributes\":{},\"id\":\"526acf34-29c5-4c90-9864-b666f438ec18\",\"type\":\"PanTool\"},{\"attributes\":{},\"id\":\"441b8a83-cd3f-4026-8a31-9846db3d4734\",\"type\":\"ResetTool\"},{\"attributes\":{\"overlay\":{\"id\":\"72ed0c77-afd6-4513-9f13-01d3f0d3f275\",\"type\":\"BoxAnnotation\"}},\"id\":\"cc758771-6607-4b94-9a9d-1ee2ed0bf8bd\",\"type\":\"BoxZoomTool\"},{\"attributes\":{},\"id\":\"10a14ccc-b5a2-4f94-b5b8-c44d53fbb287\",\"type\":\"SaveTool\"},{\"attributes\":{\"data_source\":{\"id\":\"ef294da2-7407-4c81-9015-e16ef417d079\",\"type\":\"ColumnDataSource\"},\"glyph\":{\"id\":\"99c9b61e-7004-4741-9a7d-d8e91d58f361\",\"type\":\"Circle\"},\"hover_glyph\":null,\"muted_glyph\":null,\"nonselection_glyph\":{\"id\":\"b71549e7-5fa2-4409-ad7b-96d1cfa6ee0e\",\"type\":\"Circle\"},\"selection_glyph\":null,\"view\":{\"id\":\"b6e16860-9003-43e5-82c7-49471bf02b7e\",\"type\":\"CDSView\"}},\"id\":\"c651ac4a-18bb-427c-9c6f-fbb519879d75\",\"type\":\"GlyphRenderer\"},{\"attributes\":{},\"id\":\"4d89db0b-7bd7-4dbc-b13e-0b33e202bf87\",\"type\":\"WheelZoomTool\"},{\"attributes\":{\"active_drag\":\"auto\",\"active_inspect\":\"auto\",\"active_scroll\":\"auto\",\"active_tap\":\"auto\",\"tools\":[{\"id\":\"526acf34-29c5-4c90-9864-b666f438ec18\",\"type\":\"PanTool\"},{\"id\":\"4d89db0b-7bd7-4dbc-b13e-0b33e202bf87\",\"type\":\"WheelZoomTool\"},{\"id\":\"cc758771-6607-4b94-9a9d-1ee2ed0bf8bd\",\"type\":\"BoxZoomTool\"},{\"id\":\"10a14ccc-b5a2-4f94-b5b8-c44d53fbb287\",\"type\":\"SaveTool\"},{\"id\":\"441b8a83-cd3f-4026-8a31-9846db3d4734\",\"type\":\"ResetTool\"},{\"id\":\"59ace9e6-b4a6-4656-8181-10f16d7e74ad\",\"type\":\"HelpTool\"}]},\"id\":\"f6a1baee-554b-4560-94c7-e12500c338d8\",\"type\":\"Toolbar\"},{\"attributes\":{\"callback\":null,\"column_names\":[\"x\",\"y\"],\"data\":{\"x\":{\"__ndarray__\":\"AAAAAAAAAADSRd8C9dm/P9JF3wL12c8/XnQnwnfj1z/SRd8C9dnfP6OLyyE56OM/XnQnwnfj5z8YXYNitt7rP9JF3wL12e8/Rped0Znq8T+ji8shOejzPwCA+XHY5fU/XnQnwnfj9z+7aFUSF+H5Pxhdg2K23vs/dVGxslXc/T/SRd8C9dn/PxidhinK6wBARped0ZnqAUB1kbR5aekCQKOLyyE56ANA0oXiyQjnBEAAgPlx2OUFQC96EBqo5AZAXnQnwnfjB0CMbj5qR+IIQLtoVRIX4QlA6WJsuubfCkAYXYNitt4LQEZXmgqG3QxAdVGxslXcDUCjS8haJdsOQNJF3wL12Q9AACB7VWJsEEAYnYYpyusQQC8akv0xaxFARped0ZnqEUBdFKmlAWoSQHWRtHlp6RJAjA7ATdFoE0Cji8shOegTQLsI1/WgZxRA0oXiyQjnFEDpAu6dcGYVQACA+XHY5RVAGP0ERkBlFkAvehAaqOQWQEb3G+4PZBdAXnQnwnfjF0B18TKW32IYQIxuPmpH4hhAo+tJPq9hGUC7aFUSF+EZQNLlYOZ+YBpA6WJsuubfGkAA4HeOTl8bQBhdg2K23htAL9qONh5eHEBGV5oKht0cQF7Upd7tXB1AdVGxslXcHUCMzryGvVseQKNLyFol2x5Au8jTLo1aH0DSRd8C9dkfQHVhdWuuLCBAACB7VWJsIECM3oA/FqwgQBidhinK6yBAo1uME34rIUAvGpL9MWshQLrYl+flqiFARped0ZnqIUDSVaO7TSoiQF0UqaUBaiJA6dKuj7WpIkB1kbR5aekiQABQumMdKSNAjA7ATdFoI0AYzcU3hagjQKOLyyE56CNAL0rRC+0nJEC7CNf1oGckQEbH3N9UpyRA0oXiyQjnJEBdROizvCYlQOkC7p1wZiVAdcHzhySmJUAAgPlx2OUlQIw+/1uMJSZAGP0ERkBlJkCjuwow9KQmQC96EBqo5CZAuzgWBFwkJ0BG9xvuD2QnQNK1IdjDoydAXnQnwnfjJ0DpMi2sKyMoQHXxMpbfYihAALA4gJOiKECMbj5qR+IoQBgtRFT7ISlA\",\"dtype\":\"float64\",\"shape\":[102]},\"y\":{\"__ndarray__\":\"AAAAAAAA8D9bZ1O/rMDvP6QcnJ6tA+8/i17Soe7L7T+aZRSfQR7sPyFLVytLAeo/buXLT2h95z95KQZwjZzkP8wS6eMeauE/PAOMwofl2z+8i0TPaIjUPzVDXNELtMk/MKOIrxbjsz979MXOP+Gnv7FaF3SKysW/iFNICEOj0r/4iFIEfRfav8PkZWA5kuC/QKgxQx7X47/OXLXifM3mvxuhWMCbaem/6AEmjiah6794BX0QV2vtv2jARNgXwe6/NBotTCCd779abwiSCfzvv+vweQVc3O+/B2WvBpU+77/mFCoKJSXuv0zXQvFllOy/Qeue0YmS6r8B4r1vgifov4Kgrc3hXOW/6S5WSrQ94r+gY47Oqazdv9x2L8R4aNa/KfOLiy+Xzb/a10GXoNC7v+FJu9yg2Y8/9fkGfaPbwT/oVHuWf7nQP6JiMgL8Qtg/8NYTcHJs3z8xyuIsxQzjP11/G7rrF+Y/BZDCIaHL6D9X1Wa6Mx3rP0qDR0J2A+0/zOxGMeR27j/rXeB5v3HvP65yXkMn8O8/r3JeQyfw7z/rXeB5v3HvP87sRjHkdu4/T4NHQnYD7T9e1Wa6Mx3rPwiQwiGhy+g/Zn8buusX5j87yuIsxQzjP/jWE3BybN8/qmIyAvxC2D8AVXuWf7nQPyb6Bn2j28E//Eq73KDZjz9310GXoNC7vxjzi4svl82/xXYvxHho1r+YY47Oqazdv+UuVkq0PeK/eKCtzeFc5b/74b1vgifovzjrntGJkuq/RtdC8WWU7L/kFCoKJSXuvwNlrwaVPu+/6vB5BVzc779abwiSCfzvvzYaLUwgne+/asBE2BfB7r96BX0QV2vtv+4BJo4moeu/IKFYwJtp6b/OXLXifM3mv0qoMUMe1+O/x+RlYDmS4L8WiVIEfRfav5xTSAhDo9K/w1oXdIrKxb9h9cXOP+Gnv+2iiK8W47M/JENc0Qu0yT+gi0TPaIjUPy0DjMKH5ds/yhLp4x5q4T9vKQZwjZzkP2rly09ofec/IUtXK0sB6j+VZRSfQR7sP4le0qHuy+0/oBycnq0D7z9aZ1O/rMDvPwAAAAAAAPA/\",\"dtype\":\"float64\",\"shape\":[102]}}},\"id\":\"ba923f39-fe2c-4b35-b9c4-1296750c373f\",\"type\":\"ColumnDataSource\"},{\"attributes\":{\"plot\":null,\"text\":\"\"},\"id\":\"252ea7a4-7a58-4688-8748-b38660652193\",\"type\":\"Title\"},{\"attributes\":{},\"id\":\"0dfce5fc-f885-4c50-b2e4-f4068641d871\",\"type\":\"BasicTickFormatter\"},{\"attributes\":{\"source\":{\"id\":\"ef294da2-7407-4c81-9015-e16ef417d079\",\"type\":\"ColumnDataSource\"}},\"id\":\"b6e16860-9003-43e5-82c7-49471bf02b7e\",\"type\":\"CDSView\"},{\"attributes\":{\"fill_color\":{\"value\":\"green\"},\"line_color\":{\"value\":\"green\"},\"x\":{\"field\":\"x\"},\"y\":{\"field\":\"y\"}},\"id\":\"10383cb5-f436-4da7-ad9b-cf10dc36248b\",\"type\":\"Circle\"},{\"attributes\":{},\"id\":\"59ace9e6-b4a6-4656-8181-10f16d7e74ad\",\"type\":\"HelpTool\"},{\"attributes\":{\"callback\":null,\"column_names\":[\"x\",\"y\"],\"data\":{\"x\":{\"__ndarray__\":\"AAAAAAAAAADSRd8C9dm/P9JF3wL12c8/XnQnwnfj1z/SRd8C9dnfP6OLyyE56OM/XnQnwnfj5z8YXYNitt7rP9JF3wL12e8/Rped0Znq8T+ji8shOejzPwCA+XHY5fU/XnQnwnfj9z+7aFUSF+H5Pxhdg2K23vs/dVGxslXc/T/SRd8C9dn/PxidhinK6wBARped0ZnqAUB1kbR5aekCQKOLyyE56ANA0oXiyQjnBEAAgPlx2OUFQC96EBqo5AZAXnQnwnfjB0CMbj5qR+IIQLtoVRIX4QlA6WJsuubfCkAYXYNitt4LQEZXmgqG3QxAdVGxslXcDUCjS8haJdsOQNJF3wL12Q9AACB7VWJsEEAYnYYpyusQQC8akv0xaxFARped0ZnqEUBdFKmlAWoSQHWRtHlp6RJAjA7ATdFoE0Cji8shOegTQLsI1/WgZxRA0oXiyQjnFEDpAu6dcGYVQACA+XHY5RVAGP0ERkBlFkAvehAaqOQWQEb3G+4PZBdAXnQnwnfjF0B18TKW32IYQIxuPmpH4hhAo+tJPq9hGUC7aFUSF+EZQNLlYOZ+YBpA6WJsuubfGkAA4HeOTl8bQBhdg2K23htAL9qONh5eHEBGV5oKht0cQF7Upd7tXB1AdVGxslXcHUCMzryGvVseQKNLyFol2x5Au8jTLo1aH0DSRd8C9dkfQHVhdWuuLCBAACB7VWJsIECM3oA/FqwgQBidhinK6yBAo1uME34rIUAvGpL9MWshQLrYl+flqiFARped0ZnqIUDSVaO7TSoiQF0UqaUBaiJA6dKuj7WpIkB1kbR5aekiQABQumMdKSNAjA7ATdFoI0AYzcU3hagjQKOLyyE56CNAL0rRC+0nJEC7CNf1oGckQEbH3N9UpyRA0oXiyQjnJEBdROizvCYlQOkC7p1wZiVAdcHzhySmJUAAgPlx2OUlQIw+/1uMJSZAGP0ERkBlJkCjuwow9KQmQC96EBqo5CZAuzgWBFwkJ0BG9xvuD2QnQNK1IdjDoydAXnQnwnfjJ0DpMi2sKyMoQHXxMpbfYihAALA4gJOiKECMbj5qR+IoQBgtRFT7ISlA\",\"dtype\":\"float64\",\"shape\":[102]},\"y\":{\"__ndarray__\":\"AAAAAAAAAACixvKT78S/P7PfRDURhs8/4oL0WnNW1z/ofURGgI3eP4Nke4fQpeI/3+o0/xK75T+iTtjJU3roP+zrDI2z2Oo/xFKeXNLM7D+30/XU9E7uP7z2LbUiWe8/zPShfz7n7z/UDnbDFffvP+J5os5piO8/xZYWpvCc7j9gXx5ATjjtP7hW1xsGYOs/5Ze7bmUb6T84PKE+ZnPmPxgZjtqLcuM/XvD8Prkk4D9ghoMUBC7ZP3qMf3btrtE/Pl0dHbTTwz8jrG9tpNifPwFjgrKY2re/nf5e1Himy7+yzzD6GnnVv1n/8PT8ydy/zwC/53bU4b/1/Zn6Xf3kv+vUOjQy0+e/0MpL4LpK6r8SoZl+NFrsv37/qWd3+e2/c5FNExgi778EBnCBgM/vv+QJlWAC/++/yz0squGv778Lab2KV+Puv/+Za4qNnO2/nuH4CJHg67+LetM+P7bpv25DUBIqJue/21GYLHY65L8Rs4fUsv7gv//fwFxY/9q/OiXKKnGW07+dn0VfB8DHvyIQJd+y1K+/XA8l37LUrz+Mn0VfB8DHPzIlyipxltM/6N/AXFj/2j8Gs4fUsv7gP9dRmCx2OuQ/ZUNQEiom5z+EetM+P7bpP5zh+AiR4Os//plrio2c7T8Iab2KV+PuP8o9LKrhr+8/5AmVYAL/7z8GBnCBgM/vP3SRTRMYIu8/g/+pZ3f57T8VoZl+NFrsP9PKS+C6Suo/9NQ6NDLT5z/7/Zn6Xf3kP9wAv+d21OE/b//w9PzJ3D+7zzD6GnnVP97+XtR4pss/RGOCspjatz+Wq29tpNifvw1dHR2008O/aox/du2u0b9YhoMUBC7Zv1Tw/D65JOC/ERmO2oty4784PKE+ZnPmv92Xu25lG+m/tlbXGwZg679aXx5ATjjtv8KWFqbwnO6/4nmizmmI77/UDnbDFffvv830oX8+5++/vfYttSJZ77+80/XU9E7uv8dSnlzSzOy/7esMjbPY6r+qTtjJU3rov+TqNP8Su+W/hGR7h9Cl4r/8fURGgI3ev+yC9FpzVte/8N9ENRGGz7/zxvKT78S/vwdcFDMmpsG8\",\"dtype\":\"float64\",\"shape\":[102]}}},\"id\":\"ef294da2-7407-4c81-9015-e16ef417d079\",\"type\":\"ColumnDataSource\"},{\"attributes\":{\"fill_alpha\":{\"value\":0.1},\"fill_color\":{\"value\":\"#1f77b4\"},\"line_alpha\":{\"value\":0.1},\"line_color\":{\"value\":\"#1f77b4\"},\"x\":{\"field\":\"x\"},\"y\":{\"field\":\"y\"}},\"id\":\"b71549e7-5fa2-4409-ad7b-96d1cfa6ee0e\",\"type\":\"Circle\"},{\"attributes\":{\"data_source\":{\"id\":\"ba923f39-fe2c-4b35-b9c4-1296750c373f\",\"type\":\"ColumnDataSource\"},\"glyph\":{\"id\":\"10383cb5-f436-4da7-ad9b-cf10dc36248b\",\"type\":\"Circle\"},\"hover_glyph\":null,\"muted_glyph\":null,\"nonselection_glyph\":{\"id\":\"e41b1af6-a922-4b91-a5ed-dc0726325093\",\"type\":\"Circle\"},\"selection_glyph\":null,\"view\":{\"id\":\"19de8b29-f901-4707-9194-325d4ed56485\",\"type\":\"CDSView\"}},\"id\":\"7430e789-3199-476f-a036-7ec97b421161\",\"type\":\"GlyphRenderer\"},{\"attributes\":{\"below\":[{\"id\":\"728dcd85-a328-49dc-b03b-dfa4984a667e\",\"type\":\"LinearAxis\"}],\"left\":[{\"id\":\"97219c14-4b3e-437f-8e89-5e8770a29ba2\",\"type\":\"LinearAxis\"}],\"renderers\":[{\"id\":\"728dcd85-a328-49dc-b03b-dfa4984a667e\",\"type\":\"LinearAxis\"},{\"id\":\"7470f3e3-6801-4265-929e-729dafc10656\",\"type\":\"Grid\"},{\"id\":\"97219c14-4b3e-437f-8e89-5e8770a29ba2\",\"type\":\"LinearAxis\"},{\"id\":\"c2aaa5a3-e318-4d39-8bb6-9f0395714f12\",\"type\":\"Grid\"},{\"id\":\"72ed0c77-afd6-4513-9f13-01d3f0d3f275\",\"type\":\"BoxAnnotation\"},{\"id\":\"c651ac4a-18bb-427c-9c6f-fbb519879d75\",\"type\":\"GlyphRenderer\"},{\"id\":\"7430e789-3199-476f-a036-7ec97b421161\",\"type\":\"GlyphRenderer\"}],\"title\":{\"id\":\"252ea7a4-7a58-4688-8748-b38660652193\",\"type\":\"Title\"},\"toolbar\":{\"id\":\"f6a1baee-554b-4560-94c7-e12500c338d8\",\"type\":\"Toolbar\"},\"x_range\":{\"id\":\"b858ae84-a226-45a4-a4ac-c16fbf6ec62e\",\"type\":\"DataRange1d\"},\"x_scale\":{\"id\":\"34d9bc29-f167-4b93-a968-9afcbb461f43\",\"type\":\"LinearScale\"},\"y_range\":{\"id\":\"a57e8299-274a-4661-bdd9-7bff6d2b5938\",\"type\":\"DataRange1d\"},\"y_scale\":{\"id\":\"78c57073-b197-4457-82cd-a838a7770163\",\"type\":\"LinearScale\"}},\"id\":\"81a95c27-bafb-4dca-95b4-9b0150e2316e\",\"subtype\":\"Figure\",\"type\":\"Plot\"},{\"attributes\":{\"source\":{\"id\":\"ba923f39-fe2c-4b35-b9c4-1296750c373f\",\"type\":\"ColumnDataSource\"}},\"id\":\"19de8b29-f901-4707-9194-325d4ed56485\",\"type\":\"CDSView\"},{\"attributes\":{\"fill_color\":{\"value\":\"#FF00FF\"},\"line_color\":{\"value\":\"#FF00FF\"},\"x\":{\"field\":\"x\"},\"y\":{\"field\":\"y\"}},\"id\":\"99c9b61e-7004-4741-9a7d-d8e91d58f361\",\"type\":\"Circle\"}],\"root_ids\":[\"81a95c27-bafb-4dca-95b4-9b0150e2316e\"]},\"title\":\"Bokeh Application\",\"version\":\"0.12.10\"}};\n",
       "    var render_items = [{\"docid\":\"5c422684-7ae6-4af4-811a-38e69190dc1b\",\"elementid\":\"d8607fd3-5c50-4d33-a9f8-73f5437d0efe\",\"modelid\":\"81a95c27-bafb-4dca-95b4-9b0150e2316e\"}];\n",
       "\n",
       "    root.Bokeh.embed.embed_items(docs_json, render_items);\n",
       "  }\n",
       "\n",
       "  if (root.Bokeh !== undefined) {\n",
       "    embed_document(root);\n",
       "  } else {\n",
       "    var attempts = 0;\n",
       "    var timer = setInterval(function(root) {\n",
       "      if (root.Bokeh !== undefined) {\n",
       "        embed_document(root);\n",
       "        clearInterval(timer);\n",
       "      }\n",
       "      attempts++;\n",
       "      if (attempts > 100) {\n",
       "        console.log(\"Bokeh: ERROR: Unable to embed document because BokehJS library is missing\")\n",
       "        clearInterval(timer);\n",
       "      }\n",
       "    }, 10, root)\n",
       "  }\n",
       "})(window);"
      ],
      "application/vnd.bokehjs_exec.v0+json": ""
     },
     "metadata": {
      "application/vnd.bokehjs_exec.v0+json": {
       "id": "81a95c27-bafb-4dca-95b4-9b0150e2316e"
      }
     },
     "output_type": "display_data"
    }
   ],
   "source": [
    "p1 = figure()\n",
    "#give me scatter plot, x, y, color\n",
    "#lin_arr = like column in numpy array\n",
    "p1.scatter(lin_arr, sin_arr, color=\"#FF00FF\")\n",
    "p1.scatter(lin_arr, cos_arr, color=\"green\")\n",
    "show(p1)"
   ]
  },
  {
   "cell_type": "markdown",
   "metadata": {},
   "source": [
    "Play with plotting arrays, try editting\n",
    "- color,\n",
    "- markers,\n",
    "- alpha (value between 0-1), and\n",
    "- size (int of pixels)\n",
    "\n",
    "\n",
    "### Other plotting things...\n",
    "There are lots of glyph types and lots of properties...https://bokeh.pydata.org/en/latest/docs/reference/plotting.html"
   ]
  },
  {
   "cell_type": "code",
   "execution_count": 20,
   "metadata": {},
   "outputs": [
    {
     "data": {
      "text/html": [
       "\n",
       "<div class=\"bk-root\">\n",
       "    <div class=\"bk-plotdiv\" id=\"9f6d43bf-3a41-4f24-a3ee-69efc9d877f0\"></div>\n",
       "</div>"
      ]
     },
     "metadata": {},
     "output_type": "display_data"
    },
    {
     "data": {
      "application/javascript": [
       "(function(root) {\n",
       "  function embed_document(root) {\n",
       "    var docs_json = {\"6409ee8e-1782-40af-9fb4-2b52968534bc\":{\"roots\":{\"references\":[{\"attributes\":{},\"id\":\"69ead585-7c1d-45c3-ba99-1f57f35446f4\",\"type\":\"PanTool\"},{\"attributes\":{\"bottom_units\":\"screen\",\"fill_alpha\":{\"value\":0.5},\"fill_color\":{\"value\":\"lightgrey\"},\"left_units\":\"screen\",\"level\":\"overlay\",\"line_alpha\":{\"value\":1.0},\"line_color\":{\"value\":\"black\"},\"line_dash\":[4,4],\"line_width\":{\"value\":2},\"plot\":null,\"render_mode\":\"css\",\"right_units\":\"screen\",\"top_units\":\"screen\"},\"id\":\"b1c22903-e6f4-488e-80e9-6419467b5794\",\"type\":\"BoxAnnotation\"},{\"attributes\":{\"overlay\":{\"id\":\"b1c22903-e6f4-488e-80e9-6419467b5794\",\"type\":\"BoxAnnotation\"}},\"id\":\"fa17f630-bd7a-4a9f-90d8-d93bd550bd25\",\"type\":\"BoxZoomTool\"},{\"attributes\":{},\"id\":\"b694c0a5-420c-44cd-a952-04a84400d5b5\",\"type\":\"LinearScale\"},{\"attributes\":{},\"id\":\"21721bb7-8c3c-4af7-a43e-e4e6a14c49f2\",\"type\":\"HelpTool\"},{\"attributes\":{},\"id\":\"b3b1516a-33dd-4d38-a629-0a4a26810e79\",\"type\":\"ResetTool\"},{\"attributes\":{\"below\":[{\"id\":\"c3245a5d-a1b4-434c-b3d4-98fa04251aa2\",\"type\":\"LinearAxis\"}],\"left\":[{\"id\":\"dee7f490-2cb3-4fda-abab-52064927be1b\",\"type\":\"LinearAxis\"}],\"renderers\":[{\"id\":\"c3245a5d-a1b4-434c-b3d4-98fa04251aa2\",\"type\":\"LinearAxis\"},{\"id\":\"8bb74b24-3aeb-4958-8bc9-f95f3544a6e3\",\"type\":\"Grid\"},{\"id\":\"dee7f490-2cb3-4fda-abab-52064927be1b\",\"type\":\"LinearAxis\"},{\"id\":\"62241f40-0d19-4837-b2d3-098d7e7b41e1\",\"type\":\"Grid\"},{\"id\":\"b1c22903-e6f4-488e-80e9-6419467b5794\",\"type\":\"BoxAnnotation\"},{\"id\":\"baeda5a2-c620-4314-bf05-88747f837f55\",\"type\":\"GlyphRenderer\"}],\"title\":{\"id\":\"be5ffa0d-ca09-4c5f-be54-429c6254a8e7\",\"type\":\"Title\"},\"toolbar\":{\"id\":\"6163b9ad-f130-40c7-8f9b-6bc02f5bb55c\",\"type\":\"Toolbar\"},\"x_range\":{\"id\":\"e4235538-e494-4f1d-88ec-01b2c6df44e4\",\"type\":\"DataRange1d\"},\"x_scale\":{\"id\":\"1500e9dd-7711-420a-8f82-6485997da3ff\",\"type\":\"LinearScale\"},\"y_range\":{\"id\":\"44adcc57-0e1b-46e7-9a9f-9b2becd9060a\",\"type\":\"DataRange1d\"},\"y_scale\":{\"id\":\"b694c0a5-420c-44cd-a952-04a84400d5b5\",\"type\":\"LinearScale\"}},\"id\":\"3aac8ee0-bc6f-450d-9e30-fb786ad8b667\",\"subtype\":\"Figure\",\"type\":\"Plot\"},{\"attributes\":{\"formatter\":{\"id\":\"bc223253-33b5-4fb8-a162-2a16793831b3\",\"type\":\"BasicTickFormatter\"},\"plot\":{\"id\":\"3aac8ee0-bc6f-450d-9e30-fb786ad8b667\",\"subtype\":\"Figure\",\"type\":\"Plot\"},\"ticker\":{\"id\":\"379bfa84-3ffe-4ee5-8ffc-8b4cea326a7b\",\"type\":\"BasicTicker\"}},\"id\":\"c3245a5d-a1b4-434c-b3d4-98fa04251aa2\",\"type\":\"LinearAxis\"},{\"attributes\":{\"plot\":{\"id\":\"3aac8ee0-bc6f-450d-9e30-fb786ad8b667\",\"subtype\":\"Figure\",\"type\":\"Plot\"},\"ticker\":{\"id\":\"379bfa84-3ffe-4ee5-8ffc-8b4cea326a7b\",\"type\":\"BasicTicker\"}},\"id\":\"8bb74b24-3aeb-4958-8bc9-f95f3544a6e3\",\"type\":\"Grid\"},{\"attributes\":{\"fill_alpha\":{\"value\":0.1},\"fill_color\":{\"value\":\"#1f77b4\"},\"line_alpha\":{\"value\":0.1},\"line_color\":{\"value\":\"#1f77b4\"},\"size\":{\"units\":\"screen\",\"value\":7},\"x\":{\"field\":\"x\"},\"y\":{\"field\":\"y\"}},\"id\":\"edf8c248-1851-40ed-af3a-fd303b0c400a\",\"type\":\"Square\"},{\"attributes\":{\"fill_color\":{\"value\":\"red\"},\"line_color\":{\"value\":\"red\"},\"size\":{\"units\":\"screen\",\"value\":7},\"x\":{\"field\":\"x\"},\"y\":{\"field\":\"y\"}},\"id\":\"1e77b266-c937-4e4e-af40-8d545dfef91c\",\"type\":\"Square\"},{\"attributes\":{},\"id\":\"1500e9dd-7711-420a-8f82-6485997da3ff\",\"type\":\"LinearScale\"},{\"attributes\":{\"callback\":null},\"id\":\"44adcc57-0e1b-46e7-9a9f-9b2becd9060a\",\"type\":\"DataRange1d\"},{\"attributes\":{},\"id\":\"d2690b59-1062-4d96-a61e-e362d4caf333\",\"type\":\"BasicTickFormatter\"},{\"attributes\":{},\"id\":\"bc223253-33b5-4fb8-a162-2a16793831b3\",\"type\":\"BasicTickFormatter\"},{\"attributes\":{\"formatter\":{\"id\":\"d2690b59-1062-4d96-a61e-e362d4caf333\",\"type\":\"BasicTickFormatter\"},\"plot\":{\"id\":\"3aac8ee0-bc6f-450d-9e30-fb786ad8b667\",\"subtype\":\"Figure\",\"type\":\"Plot\"},\"ticker\":{\"id\":\"daeecc7e-cac1-401b-8e0c-6d41524c05fc\",\"type\":\"BasicTicker\"}},\"id\":\"dee7f490-2cb3-4fda-abab-52064927be1b\",\"type\":\"LinearAxis\"},{\"attributes\":{\"data_source\":{\"id\":\"7ab93546-9fb3-47fa-b114-45b0f75bca31\",\"type\":\"ColumnDataSource\"},\"glyph\":{\"id\":\"1e77b266-c937-4e4e-af40-8d545dfef91c\",\"type\":\"Square\"},\"hover_glyph\":null,\"muted_glyph\":null,\"nonselection_glyph\":{\"id\":\"edf8c248-1851-40ed-af3a-fd303b0c400a\",\"type\":\"Square\"},\"selection_glyph\":null,\"view\":{\"id\":\"c808918c-d482-4ea3-9fef-73899bf0180f\",\"type\":\"CDSView\"}},\"id\":\"baeda5a2-c620-4314-bf05-88747f837f55\",\"type\":\"GlyphRenderer\"},{\"attributes\":{\"plot\":null,\"text\":\"\"},\"id\":\"be5ffa0d-ca09-4c5f-be54-429c6254a8e7\",\"type\":\"Title\"},{\"attributes\":{\"dimension\":1,\"plot\":{\"id\":\"3aac8ee0-bc6f-450d-9e30-fb786ad8b667\",\"subtype\":\"Figure\",\"type\":\"Plot\"},\"ticker\":{\"id\":\"daeecc7e-cac1-401b-8e0c-6d41524c05fc\",\"type\":\"BasicTicker\"}},\"id\":\"62241f40-0d19-4837-b2d3-098d7e7b41e1\",\"type\":\"Grid\"},{\"attributes\":{\"active_drag\":\"auto\",\"active_inspect\":\"auto\",\"active_scroll\":\"auto\",\"active_tap\":\"auto\",\"tools\":[{\"id\":\"69ead585-7c1d-45c3-ba99-1f57f35446f4\",\"type\":\"PanTool\"},{\"id\":\"b19b8146-46b8-4cd0-8ccb-e90f88efcf6a\",\"type\":\"WheelZoomTool\"},{\"id\":\"fa17f630-bd7a-4a9f-90d8-d93bd550bd25\",\"type\":\"BoxZoomTool\"},{\"id\":\"ad209daf-88ad-40fd-a1b5-2a067d29e44d\",\"type\":\"SaveTool\"},{\"id\":\"b3b1516a-33dd-4d38-a629-0a4a26810e79\",\"type\":\"ResetTool\"},{\"id\":\"21721bb7-8c3c-4af7-a43e-e4e6a14c49f2\",\"type\":\"HelpTool\"}]},\"id\":\"6163b9ad-f130-40c7-8f9b-6bc02f5bb55c\",\"type\":\"Toolbar\"},{\"attributes\":{},\"id\":\"daeecc7e-cac1-401b-8e0c-6d41524c05fc\",\"type\":\"BasicTicker\"},{\"attributes\":{\"callback\":null},\"id\":\"e4235538-e494-4f1d-88ec-01b2c6df44e4\",\"type\":\"DataRange1d\"},{\"attributes\":{},\"id\":\"b19b8146-46b8-4cd0-8ccb-e90f88efcf6a\",\"type\":\"WheelZoomTool\"},{\"attributes\":{},\"id\":\"379bfa84-3ffe-4ee5-8ffc-8b4cea326a7b\",\"type\":\"BasicTicker\"},{\"attributes\":{\"callback\":null,\"column_names\":[\"x\",\"y\"],\"data\":{\"x\":{\"__ndarray__\":\"AAAAAAAAAADSRd8C9dm/P9JF3wL12c8/XnQnwnfj1z/SRd8C9dnfP6OLyyE56OM/XnQnwnfj5z8YXYNitt7rP9JF3wL12e8/Rped0Znq8T+ji8shOejzPwCA+XHY5fU/XnQnwnfj9z+7aFUSF+H5Pxhdg2K23vs/dVGxslXc/T/SRd8C9dn/PxidhinK6wBARped0ZnqAUB1kbR5aekCQKOLyyE56ANA0oXiyQjnBEAAgPlx2OUFQC96EBqo5AZAXnQnwnfjB0CMbj5qR+IIQLtoVRIX4QlA6WJsuubfCkAYXYNitt4LQEZXmgqG3QxAdVGxslXcDUCjS8haJdsOQNJF3wL12Q9AACB7VWJsEEAYnYYpyusQQC8akv0xaxFARped0ZnqEUBdFKmlAWoSQHWRtHlp6RJAjA7ATdFoE0Cji8shOegTQLsI1/WgZxRA0oXiyQjnFEDpAu6dcGYVQACA+XHY5RVAGP0ERkBlFkAvehAaqOQWQEb3G+4PZBdAXnQnwnfjF0B18TKW32IYQIxuPmpH4hhAo+tJPq9hGUC7aFUSF+EZQNLlYOZ+YBpA6WJsuubfGkAA4HeOTl8bQBhdg2K23htAL9qONh5eHEBGV5oKht0cQF7Upd7tXB1AdVGxslXcHUCMzryGvVseQKNLyFol2x5Au8jTLo1aH0DSRd8C9dkfQHVhdWuuLCBAACB7VWJsIECM3oA/FqwgQBidhinK6yBAo1uME34rIUAvGpL9MWshQLrYl+flqiFARped0ZnqIUDSVaO7TSoiQF0UqaUBaiJA6dKuj7WpIkB1kbR5aekiQABQumMdKSNAjA7ATdFoI0AYzcU3hagjQKOLyyE56CNAL0rRC+0nJEC7CNf1oGckQEbH3N9UpyRA0oXiyQjnJEBdROizvCYlQOkC7p1wZiVAdcHzhySmJUAAgPlx2OUlQIw+/1uMJSZAGP0ERkBlJkCjuwow9KQmQC96EBqo5CZAuzgWBFwkJ0BG9xvuD2QnQNK1IdjDoydAXnQnwnfjJ0DpMi2sKyMoQHXxMpbfYihAALA4gJOiKECMbj5qR+IoQBgtRFT7ISlA\",\"dtype\":\"float64\",\"shape\":[102]},\"y\":{\"__ndarray__\":\"AAAAAAAAAACixvKT78S/P7PfRDURhs8/4oL0WnNW1z/ofURGgI3eP4Nke4fQpeI/3+o0/xK75T+iTtjJU3roP+zrDI2z2Oo/xFKeXNLM7D+30/XU9E7uP7z2LbUiWe8/zPShfz7n7z/UDnbDFffvP+J5os5piO8/xZYWpvCc7j9gXx5ATjjtP7hW1xsGYOs/5Ze7bmUb6T84PKE+ZnPmPxgZjtqLcuM/XvD8Prkk4D9ghoMUBC7ZP3qMf3btrtE/Pl0dHbTTwz8jrG9tpNifPwFjgrKY2re/nf5e1Himy7+yzzD6GnnVv1n/8PT8ydy/zwC/53bU4b/1/Zn6Xf3kv+vUOjQy0+e/0MpL4LpK6r8SoZl+NFrsv37/qWd3+e2/c5FNExgi778EBnCBgM/vv+QJlWAC/++/yz0squGv778Lab2KV+Puv/+Za4qNnO2/nuH4CJHg67+LetM+P7bpv25DUBIqJue/21GYLHY65L8Rs4fUsv7gv//fwFxY/9q/OiXKKnGW07+dn0VfB8DHvyIQJd+y1K+/XA8l37LUrz+Mn0VfB8DHPzIlyipxltM/6N/AXFj/2j8Gs4fUsv7gP9dRmCx2OuQ/ZUNQEiom5z+EetM+P7bpP5zh+AiR4Os//plrio2c7T8Iab2KV+PuP8o9LKrhr+8/5AmVYAL/7z8GBnCBgM/vP3SRTRMYIu8/g/+pZ3f57T8VoZl+NFrsP9PKS+C6Suo/9NQ6NDLT5z/7/Zn6Xf3kP9wAv+d21OE/b//w9PzJ3D+7zzD6GnnVP97+XtR4pss/RGOCspjatz+Wq29tpNifvw1dHR2008O/aox/du2u0b9YhoMUBC7Zv1Tw/D65JOC/ERmO2oty4784PKE+ZnPmv92Xu25lG+m/tlbXGwZg679aXx5ATjjtv8KWFqbwnO6/4nmizmmI77/UDnbDFffvv830oX8+5++/vfYttSJZ77+80/XU9E7uv8dSnlzSzOy/7esMjbPY6r+qTtjJU3rov+TqNP8Su+W/hGR7h9Cl4r/8fURGgI3ev+yC9FpzVte/8N9ENRGGz7/zxvKT78S/vwdcFDMmpsG8\",\"dtype\":\"float64\",\"shape\":[102]}}},\"id\":\"7ab93546-9fb3-47fa-b114-45b0f75bca31\",\"type\":\"ColumnDataSource\"},{\"attributes\":{},\"id\":\"ad209daf-88ad-40fd-a1b5-2a067d29e44d\",\"type\":\"SaveTool\"},{\"attributes\":{\"source\":{\"id\":\"7ab93546-9fb3-47fa-b114-45b0f75bca31\",\"type\":\"ColumnDataSource\"}},\"id\":\"c808918c-d482-4ea3-9fef-73899bf0180f\",\"type\":\"CDSView\"}],\"root_ids\":[\"3aac8ee0-bc6f-450d-9e30-fb786ad8b667\"]},\"title\":\"Bokeh Application\",\"version\":\"0.12.10\"}};\n",
       "    var render_items = [{\"docid\":\"6409ee8e-1782-40af-9fb4-2b52968534bc\",\"elementid\":\"9f6d43bf-3a41-4f24-a3ee-69efc9d877f0\",\"modelid\":\"3aac8ee0-bc6f-450d-9e30-fb786ad8b667\"}];\n",
       "\n",
       "    root.Bokeh.embed.embed_items(docs_json, render_items);\n",
       "  }\n",
       "\n",
       "  if (root.Bokeh !== undefined) {\n",
       "    embed_document(root);\n",
       "  } else {\n",
       "    var attempts = 0;\n",
       "    var timer = setInterval(function(root) {\n",
       "      if (root.Bokeh !== undefined) {\n",
       "        embed_document(root);\n",
       "        clearInterval(timer);\n",
       "      }\n",
       "      attempts++;\n",
       "      if (attempts > 100) {\n",
       "        console.log(\"Bokeh: ERROR: Unable to embed document because BokehJS library is missing\")\n",
       "        clearInterval(timer);\n",
       "      }\n",
       "    }, 10, root)\n",
       "  }\n",
       "})(window);"
      ],
      "application/vnd.bokehjs_exec.v0+json": ""
     },
     "metadata": {
      "application/vnd.bokehjs_exec.v0+json": {
       "id": "3aac8ee0-bc6f-450d-9e30-fb786ad8b667"
      }
     },
     "output_type": "display_data"
    }
   ],
   "source": [
    "p2 = figure()\n",
    "p2.scatter( x=lin_arr, y=sin_arr, marker=\"square\", color=\"red\", size=7 )\n",
    "show(p2)"
   ]
  },
  {
   "cell_type": "code",
   "execution_count": 16,
   "metadata": {},
   "outputs": [
    {
     "data": {
      "text/html": [
       "\n",
       "<div class=\"bk-root\">\n",
       "    <div class=\"bk-plotdiv\" id=\"935bb667-31fd-4e30-8a32-2c4d315a4928\"></div>\n",
       "</div>"
      ]
     },
     "metadata": {},
     "output_type": "display_data"
    },
    {
     "data": {
      "application/javascript": [
       "(function(root) {\n",
       "  function embed_document(root) {\n",
       "    var docs_json = {\"f8dcaf83-62d4-464b-b7a8-9789aaeccf7d\":{\"roots\":{\"references\":[{\"attributes\":{\"bottom_units\":\"screen\",\"fill_alpha\":{\"value\":0.5},\"fill_color\":{\"value\":\"lightgrey\"},\"left_units\":\"screen\",\"level\":\"overlay\",\"line_alpha\":{\"value\":1.0},\"line_color\":{\"value\":\"black\"},\"line_dash\":[4,4],\"line_width\":{\"value\":2},\"plot\":null,\"render_mode\":\"css\",\"right_units\":\"screen\",\"top_units\":\"screen\"},\"id\":\"afa8d621-3118-47ca-8c30-542b8cec1ccf\",\"type\":\"BoxAnnotation\"},{\"attributes\":{},\"id\":\"942551bb-1d98-43c1-8472-1c1e4da688da\",\"type\":\"PanTool\"},{\"attributes\":{\"below\":[{\"id\":\"bb0f1aaa-6eee-4275-bc7b-56b3d35e8349\",\"type\":\"LinearAxis\"}],\"left\":[{\"id\":\"a40b8645-93f1-4eb2-b8fd-f775bf6a68f5\",\"type\":\"LinearAxis\"}],\"renderers\":[{\"id\":\"bb0f1aaa-6eee-4275-bc7b-56b3d35e8349\",\"type\":\"LinearAxis\"},{\"id\":\"fb663833-f7ce-4894-8908-5f8ffef88722\",\"type\":\"Grid\"},{\"id\":\"a40b8645-93f1-4eb2-b8fd-f775bf6a68f5\",\"type\":\"LinearAxis\"},{\"id\":\"5da9abe2-76de-4f1c-bf55-0a1cf54f0875\",\"type\":\"Grid\"},{\"id\":\"afa8d621-3118-47ca-8c30-542b8cec1ccf\",\"type\":\"BoxAnnotation\"},{\"id\":\"0e3eb531-1540-4b6b-820f-1dcaa325b1b9\",\"type\":\"GlyphRenderer\"}],\"title\":{\"id\":\"8fa1b3f8-e80b-4b25-be15-3ba877284b92\",\"type\":\"Title\"},\"toolbar\":{\"id\":\"9f8e1565-1efc-485b-8d02-c8fe8e68d247\",\"type\":\"Toolbar\"},\"x_range\":{\"id\":\"634fb688-b521-4938-a528-d9379d203a46\",\"type\":\"DataRange1d\"},\"x_scale\":{\"id\":\"107ba2f5-672d-4f4a-b7e6-be871d0937df\",\"type\":\"LinearScale\"},\"y_range\":{\"id\":\"fc49c44d-2ae8-4e16-9a22-5242d302a049\",\"type\":\"DataRange1d\"},\"y_scale\":{\"id\":\"cc650828-45f5-4913-a443-5b06ad26d4f5\",\"type\":\"LinearScale\"}},\"id\":\"30cea462-f962-4ce9-82cc-55efe2c6eb15\",\"subtype\":\"Figure\",\"type\":\"Plot\"},{\"attributes\":{},\"id\":\"b57faea0-792a-400f-869d-788d1b7d2c5d\",\"type\":\"WheelZoomTool\"},{\"attributes\":{\"active_drag\":\"auto\",\"active_inspect\":\"auto\",\"active_scroll\":\"auto\",\"active_tap\":\"auto\",\"tools\":[{\"id\":\"942551bb-1d98-43c1-8472-1c1e4da688da\",\"type\":\"PanTool\"},{\"id\":\"b57faea0-792a-400f-869d-788d1b7d2c5d\",\"type\":\"WheelZoomTool\"},{\"id\":\"5a7fee4e-884f-421f-bd49-532d0ecd588c\",\"type\":\"BoxZoomTool\"},{\"id\":\"db55d494-2c51-43ab-9714-7612b7ad67f7\",\"type\":\"SaveTool\"},{\"id\":\"0861a4e3-9371-4cef-829a-d7d2700c1471\",\"type\":\"ResetTool\"},{\"id\":\"e48fc4d0-154f-419c-a258-becca9325b81\",\"type\":\"HelpTool\"}]},\"id\":\"9f8e1565-1efc-485b-8d02-c8fe8e68d247\",\"type\":\"Toolbar\"},{\"attributes\":{\"overlay\":{\"id\":\"afa8d621-3118-47ca-8c30-542b8cec1ccf\",\"type\":\"BoxAnnotation\"}},\"id\":\"5a7fee4e-884f-421f-bd49-532d0ecd588c\",\"type\":\"BoxZoomTool\"},{\"attributes\":{\"callback\":null},\"id\":\"634fb688-b521-4938-a528-d9379d203a46\",\"type\":\"DataRange1d\"},{\"attributes\":{},\"id\":\"db55d494-2c51-43ab-9714-7612b7ad67f7\",\"type\":\"SaveTool\"},{\"attributes\":{},\"id\":\"0861a4e3-9371-4cef-829a-d7d2700c1471\",\"type\":\"ResetTool\"},{\"attributes\":{\"callback\":null},\"id\":\"fc49c44d-2ae8-4e16-9a22-5242d302a049\",\"type\":\"DataRange1d\"},{\"attributes\":{},\"id\":\"e48fc4d0-154f-419c-a258-becca9325b81\",\"type\":\"HelpTool\"},{\"attributes\":{},\"id\":\"107ba2f5-672d-4f4a-b7e6-be871d0937df\",\"type\":\"LinearScale\"},{\"attributes\":{\"fill_alpha\":{\"value\":0.1},\"fill_color\":{\"value\":\"#1f77b4\"},\"line_alpha\":{\"value\":0.1},\"line_color\":{\"value\":\"#1f77b4\"},\"size\":{\"units\":\"screen\",\"value\":20},\"x\":{\"field\":\"x\"},\"y\":{\"field\":\"y\"}},\"id\":\"d1a5c8bc-20db-4ab2-9a45-8d20a50f877e\",\"type\":\"Asterisk\"},{\"attributes\":{},\"id\":\"cc650828-45f5-4913-a443-5b06ad26d4f5\",\"type\":\"LinearScale\"},{\"attributes\":{\"plot\":{\"id\":\"30cea462-f962-4ce9-82cc-55efe2c6eb15\",\"subtype\":\"Figure\",\"type\":\"Plot\"},\"ticker\":{\"id\":\"a9bccbe8-7827-4ef5-994c-1fe48cc621a4\",\"type\":\"BasicTicker\"}},\"id\":\"fb663833-f7ce-4894-8908-5f8ffef88722\",\"type\":\"Grid\"},{\"attributes\":{},\"id\":\"3acc6fad-1369-436a-93df-85bf4b987c19\",\"type\":\"BasicTickFormatter\"},{\"attributes\":{\"formatter\":{\"id\":\"d1fd56f6-14a7-473a-aca5-a723c2295347\",\"type\":\"BasicTickFormatter\"},\"plot\":{\"id\":\"30cea462-f962-4ce9-82cc-55efe2c6eb15\",\"subtype\":\"Figure\",\"type\":\"Plot\"},\"ticker\":{\"id\":\"a9bccbe8-7827-4ef5-994c-1fe48cc621a4\",\"type\":\"BasicTicker\"}},\"id\":\"bb0f1aaa-6eee-4275-bc7b-56b3d35e8349\",\"type\":\"LinearAxis\"},{\"attributes\":{\"data_source\":{\"id\":\"20174120-3b71-46ed-9e8c-832a9628b843\",\"type\":\"ColumnDataSource\"},\"glyph\":{\"id\":\"58334fc8-d2ab-4f1e-9a82-2a854ca8c68d\",\"type\":\"Asterisk\"},\"hover_glyph\":null,\"muted_glyph\":null,\"nonselection_glyph\":{\"id\":\"d1a5c8bc-20db-4ab2-9a45-8d20a50f877e\",\"type\":\"Asterisk\"},\"selection_glyph\":null,\"view\":{\"id\":\"f9062dc8-3171-4e46-897c-46861eb28e5b\",\"type\":\"CDSView\"}},\"id\":\"0e3eb531-1540-4b6b-820f-1dcaa325b1b9\",\"type\":\"GlyphRenderer\"},{\"attributes\":{},\"id\":\"a9bccbe8-7827-4ef5-994c-1fe48cc621a4\",\"type\":\"BasicTicker\"},{\"attributes\":{\"formatter\":{\"id\":\"3acc6fad-1369-436a-93df-85bf4b987c19\",\"type\":\"BasicTickFormatter\"},\"plot\":{\"id\":\"30cea462-f962-4ce9-82cc-55efe2c6eb15\",\"subtype\":\"Figure\",\"type\":\"Plot\"},\"ticker\":{\"id\":\"ccdbab2f-70cd-4f47-b950-ff1fb6f728fa\",\"type\":\"BasicTicker\"}},\"id\":\"a40b8645-93f1-4eb2-b8fd-f775bf6a68f5\",\"type\":\"LinearAxis\"},{\"attributes\":{},\"id\":\"ccdbab2f-70cd-4f47-b950-ff1fb6f728fa\",\"type\":\"BasicTicker\"},{\"attributes\":{\"source\":{\"id\":\"20174120-3b71-46ed-9e8c-832a9628b843\",\"type\":\"ColumnDataSource\"}},\"id\":\"f9062dc8-3171-4e46-897c-46861eb28e5b\",\"type\":\"CDSView\"},{\"attributes\":{\"dimension\":1,\"plot\":{\"id\":\"30cea462-f962-4ce9-82cc-55efe2c6eb15\",\"subtype\":\"Figure\",\"type\":\"Plot\"},\"ticker\":{\"id\":\"ccdbab2f-70cd-4f47-b950-ff1fb6f728fa\",\"type\":\"BasicTicker\"}},\"id\":\"5da9abe2-76de-4f1c-bf55-0a1cf54f0875\",\"type\":\"Grid\"},{\"attributes\":{},\"id\":\"d1fd56f6-14a7-473a-aca5-a723c2295347\",\"type\":\"BasicTickFormatter\"},{\"attributes\":{\"fill_color\":{\"value\":\"#F0027F\"},\"line_color\":{\"value\":\"#F0027F\"},\"size\":{\"units\":\"screen\",\"value\":20},\"x\":{\"field\":\"x\"},\"y\":{\"field\":\"y\"}},\"id\":\"58334fc8-d2ab-4f1e-9a82-2a854ca8c68d\",\"type\":\"Asterisk\"},{\"attributes\":{\"plot\":null,\"text\":\"\"},\"id\":\"8fa1b3f8-e80b-4b25-be15-3ba877284b92\",\"type\":\"Title\"},{\"attributes\":{\"callback\":null,\"column_names\":[\"x\",\"y\"],\"data\":{\"x\":{\"__ndarray__\":\"AAAAAAAAAACixvKT78S/P7PfRDURhs8/4oL0WnNW1z/ofURGgI3eP4Nke4fQpeI/3+o0/xK75T+iTtjJU3roP+zrDI2z2Oo/xFKeXNLM7D+30/XU9E7uP7z2LbUiWe8/zPShfz7n7z/UDnbDFffvP+J5os5piO8/xZYWpvCc7j9gXx5ATjjtP7hW1xsGYOs/5Ze7bmUb6T84PKE+ZnPmPxgZjtqLcuM/XvD8Prkk4D9ghoMUBC7ZP3qMf3btrtE/Pl0dHbTTwz8jrG9tpNifPwFjgrKY2re/nf5e1Himy7+yzzD6GnnVv1n/8PT8ydy/zwC/53bU4b/1/Zn6Xf3kv+vUOjQy0+e/0MpL4LpK6r8SoZl+NFrsv37/qWd3+e2/c5FNExgi778EBnCBgM/vv+QJlWAC/++/yz0squGv778Lab2KV+Puv/+Za4qNnO2/nuH4CJHg67+LetM+P7bpv25DUBIqJue/21GYLHY65L8Rs4fUsv7gv//fwFxY/9q/OiXKKnGW07+dn0VfB8DHvyIQJd+y1K+/XA8l37LUrz+Mn0VfB8DHPzIlyipxltM/6N/AXFj/2j8Gs4fUsv7gP9dRmCx2OuQ/ZUNQEiom5z+EetM+P7bpP5zh+AiR4Os//plrio2c7T8Iab2KV+PuP8o9LKrhr+8/5AmVYAL/7z8GBnCBgM/vP3SRTRMYIu8/g/+pZ3f57T8VoZl+NFrsP9PKS+C6Suo/9NQ6NDLT5z/7/Zn6Xf3kP9wAv+d21OE/b//w9PzJ3D+7zzD6GnnVP97+XtR4pss/RGOCspjatz+Wq29tpNifvw1dHR2008O/aox/du2u0b9YhoMUBC7Zv1Tw/D65JOC/ERmO2oty4784PKE+ZnPmv92Xu25lG+m/tlbXGwZg679aXx5ATjjtv8KWFqbwnO6/4nmizmmI77/UDnbDFffvv830oX8+5++/vfYttSJZ77+80/XU9E7uv8dSnlzSzOy/7esMjbPY6r+qTtjJU3rov+TqNP8Su+W/hGR7h9Cl4r/8fURGgI3ev+yC9FpzVte/8N9ENRGGz7/zxvKT78S/vwdcFDMmpsG8\",\"dtype\":\"float64\",\"shape\":[102]},\"y\":{\"__ndarray__\":\"AAAAAAAA8D9bZ1O/rMDvP6QcnJ6tA+8/i17Soe7L7T+aZRSfQR7sPyFLVytLAeo/buXLT2h95z95KQZwjZzkP8wS6eMeauE/PAOMwofl2z+8i0TPaIjUPzVDXNELtMk/MKOIrxbjsz979MXOP+Gnv7FaF3SKysW/iFNICEOj0r/4iFIEfRfav8PkZWA5kuC/QKgxQx7X47/OXLXifM3mvxuhWMCbaem/6AEmjiah6794BX0QV2vtv2jARNgXwe6/NBotTCCd779abwiSCfzvv+vweQVc3O+/B2WvBpU+77/mFCoKJSXuv0zXQvFllOy/Qeue0YmS6r8B4r1vgifov4Kgrc3hXOW/6S5WSrQ94r+gY47Oqazdv9x2L8R4aNa/KfOLiy+Xzb/a10GXoNC7v+FJu9yg2Y8/9fkGfaPbwT/oVHuWf7nQP6JiMgL8Qtg/8NYTcHJs3z8xyuIsxQzjP11/G7rrF+Y/BZDCIaHL6D9X1Wa6Mx3rP0qDR0J2A+0/zOxGMeR27j/rXeB5v3HvP65yXkMn8O8/r3JeQyfw7z/rXeB5v3HvP87sRjHkdu4/T4NHQnYD7T9e1Wa6Mx3rPwiQwiGhy+g/Zn8buusX5j87yuIsxQzjP/jWE3BybN8/qmIyAvxC2D8AVXuWf7nQPyb6Bn2j28E//Eq73KDZjz9310GXoNC7vxjzi4svl82/xXYvxHho1r+YY47Oqazdv+UuVkq0PeK/eKCtzeFc5b/74b1vgifovzjrntGJkuq/RtdC8WWU7L/kFCoKJSXuvwNlrwaVPu+/6vB5BVzc779abwiSCfzvvzYaLUwgne+/asBE2BfB7r96BX0QV2vtv+4BJo4moeu/IKFYwJtp6b/OXLXifM3mv0qoMUMe1+O/x+RlYDmS4L8WiVIEfRfav5xTSAhDo9K/w1oXdIrKxb9h9cXOP+Gnv+2iiK8W47M/JENc0Qu0yT+gi0TPaIjUPy0DjMKH5ds/yhLp4x5q4T9vKQZwjZzkP2rly09ofec/IUtXK0sB6j+VZRSfQR7sP4le0qHuy+0/oBycnq0D7z9aZ1O/rMDvPwAAAAAAAPA/\",\"dtype\":\"float64\",\"shape\":[102]}}},\"id\":\"20174120-3b71-46ed-9e8c-832a9628b843\",\"type\":\"ColumnDataSource\"}],\"root_ids\":[\"30cea462-f962-4ce9-82cc-55efe2c6eb15\"]},\"title\":\"Bokeh Application\",\"version\":\"0.12.10\"}};\n",
       "    var render_items = [{\"docid\":\"f8dcaf83-62d4-464b-b7a8-9789aaeccf7d\",\"elementid\":\"935bb667-31fd-4e30-8a32-2c4d315a4928\",\"modelid\":\"30cea462-f962-4ce9-82cc-55efe2c6eb15\"}];\n",
       "\n",
       "    root.Bokeh.embed.embed_items(docs_json, render_items);\n",
       "  }\n",
       "\n",
       "  if (root.Bokeh !== undefined) {\n",
       "    embed_document(root);\n",
       "  } else {\n",
       "    var attempts = 0;\n",
       "    var timer = setInterval(function(root) {\n",
       "      if (root.Bokeh !== undefined) {\n",
       "        embed_document(root);\n",
       "        clearInterval(timer);\n",
       "      }\n",
       "      attempts++;\n",
       "      if (attempts > 100) {\n",
       "        console.log(\"Bokeh: ERROR: Unable to embed document because BokehJS library is missing\")\n",
       "        clearInterval(timer);\n",
       "      }\n",
       "    }, 10, root)\n",
       "  }\n",
       "})(window);"
      ],
      "application/vnd.bokehjs_exec.v0+json": ""
     },
     "metadata": {
      "application/vnd.bokehjs_exec.v0+json": {
       "id": "30cea462-f962-4ce9-82cc-55efe2c6eb15"
      }
     },
     "output_type": "display_data"
    }
   ],
   "source": [
    "p3 = figure()\n",
    "p3.asterisk(x=sin_arr, y=cos_arr, size=20, color=\"#F0027F\")\n",
    "show(p3)"
   ]
  },
  {
   "cell_type": "code",
   "execution_count": 18,
   "metadata": {},
   "outputs": [
    {
     "data": {
      "text/html": [
       "\n",
       "<div class=\"bk-root\">\n",
       "    <div class=\"bk-plotdiv\" id=\"ad99653e-42e7-42fe-a4e4-4cf5c7ad9419\"></div>\n",
       "</div>"
      ]
     },
     "metadata": {},
     "output_type": "display_data"
    },
    {
     "data": {
      "application/javascript": [
       "(function(root) {\n",
       "  function embed_document(root) {\n",
       "    var docs_json = {\"8e11cd7d-8e78-4003-9dd4-7993459af83a\":{\"roots\":{\"references\":[{\"attributes\":{},\"id\":\"1bed508e-83d1-479f-9b1d-f54780cceeea\",\"type\":\"SaveTool\"},{\"attributes\":{},\"id\":\"d2a2ba7e-de81-4f54-baf6-9436e478f47f\",\"type\":\"BasicTickFormatter\"},{\"attributes\":{\"source\":{\"id\":\"5812677b-218a-45da-a387-8c0821f0d41e\",\"type\":\"ColumnDataSource\"}},\"id\":\"8c70446f-3687-4954-b5bd-ac88cf1791e3\",\"type\":\"CDSView\"},{\"attributes\":{\"callback\":null,\"column_names\":[\"size\",\"x\",\"y\"],\"data\":{\"size\":{\"__ndarray__\":\"AAAAAAAAJEDzyJBBJrEjQMBftoF0ySJAsrfvmDBXIUDAq3FOU+IeQKprxcCgahpAwKy2xb2NFUDUWdxdWpgQQGRqTN1RsQdAYNsDWDRm/j8+bSKf+nfwP1DJHVuZztk/oM/nMejlrj82bcmTfEaWPwQvW5qNjNI/uGfl504j6z+87s19y5f6P7wB594VdAVABERkJMHADkA51CcSoE8UQIiKBt/3ORlAKzMGw+PRHUDNlyiqeecgQKwiQCogeSJA/ylmTyeFI0DWgw1FDPsjQFodFtaL0yNACVm29BQRI0ACzYxaor8hQGS+DTz75x9A1L6vwO6UG0AWF4mLUcoWQCvbLnSz0xFAxlVihbT+CUBiRRSj3jIBQAxLpeg5nfM/oMuxSQIa4T94N5j0tji+P1E+09Ul0GM/uvegGiPqyD9b9kE5P9rlP/2XOslH/vY/B6KARzhJA0C+y9Ia9lkMQGpE7IEzERNAfWq22CEEGED+wMtsurccQPLsATPscCBAeUeLfWcgIkCLvZGSuk8jQEwQyvs17CNATRDK+zXsI0CLvZGSuk8jQHxHi31nICJA+OwBM+xwIEANwctsurccQINqttghBBhAekTsgTMRE0Dcy9Ia9lkMQBGigEc4SQNADJg6yUf+9j+a9kE5P9rlP0T4oBoj6sg/sT/T1SXQYz+hNpj0tji+P4zLsUkCGuE/5Eql6Dmd8z9YRRSj3jIBQLpVYoW0/glAG9sudLPTEUALF4mLUcoWQMK+r8DulBtAWL4NPPvnH0AAzYxaor8hQARZtvQUESNAWB0W1ovTI0DWgw1FDPsjQAIqZk8nhSNAriJAKiB5IkDPlyiqeecgQDkzBsPj0R1AkooG3/c5GUA51CcSoE8UQCNEZCTBwA5AxgHn3hV0BUD67s19y5f6P/Nn5edOI+s/Iy9bmo2M0j/kbsmTfEaWP8/O5zHo5a4/LskdW5nO2T8RbSKf+nfwP0DbA1g0Zv4/X2pM3VGxB0DEWdxdWpgQQListsW9jRVAqmvFwKBqGkC0q3FOU+IeQLC375gwVyFAu1+2gXTJIkDxyJBBJrEjQAAAAAAAACRA\",\"dtype\":\"float64\",\"shape\":[102]},\"x\":{\"__ndarray__\":\"AAAAAAAAAADSRd8C9dm/P9JF3wL12c8/XnQnwnfj1z/SRd8C9dnfP6OLyyE56OM/XnQnwnfj5z8YXYNitt7rP9JF3wL12e8/Rped0Znq8T+ji8shOejzPwCA+XHY5fU/XnQnwnfj9z+7aFUSF+H5Pxhdg2K23vs/dVGxslXc/T/SRd8C9dn/PxidhinK6wBARped0ZnqAUB1kbR5aekCQKOLyyE56ANA0oXiyQjnBEAAgPlx2OUFQC96EBqo5AZAXnQnwnfjB0CMbj5qR+IIQLtoVRIX4QlA6WJsuubfCkAYXYNitt4LQEZXmgqG3QxAdVGxslXcDUCjS8haJdsOQNJF3wL12Q9AACB7VWJsEEAYnYYpyusQQC8akv0xaxFARped0ZnqEUBdFKmlAWoSQHWRtHlp6RJAjA7ATdFoE0Cji8shOegTQLsI1/WgZxRA0oXiyQjnFEDpAu6dcGYVQACA+XHY5RVAGP0ERkBlFkAvehAaqOQWQEb3G+4PZBdAXnQnwnfjF0B18TKW32IYQIxuPmpH4hhAo+tJPq9hGUC7aFUSF+EZQNLlYOZ+YBpA6WJsuubfGkAA4HeOTl8bQBhdg2K23htAL9qONh5eHEBGV5oKht0cQF7Upd7tXB1AdVGxslXcHUCMzryGvVseQKNLyFol2x5Au8jTLo1aH0DSRd8C9dkfQHVhdWuuLCBAACB7VWJsIECM3oA/FqwgQBidhinK6yBAo1uME34rIUAvGpL9MWshQLrYl+flqiFARped0ZnqIUDSVaO7TSoiQF0UqaUBaiJA6dKuj7WpIkB1kbR5aekiQABQumMdKSNAjA7ATdFoI0AYzcU3hagjQKOLyyE56CNAL0rRC+0nJEC7CNf1oGckQEbH3N9UpyRA0oXiyQjnJEBdROizvCYlQOkC7p1wZiVAdcHzhySmJUAAgPlx2OUlQIw+/1uMJSZAGP0ERkBlJkCjuwow9KQmQC96EBqo5CZAuzgWBFwkJ0BG9xvuD2QnQNK1IdjDoydAXnQnwnfjJ0DpMi2sKyMoQHXxMpbfYihAALA4gJOiKECMbj5qR+IoQBgtRFT7ISlA\",\"dtype\":\"float64\",\"shape\":[102]},\"y\":{\"__ndarray__\":\"AAAAAAAAAACixvKT78S/P7PfRDURhs8/4oL0WnNW1z/ofURGgI3eP4Nke4fQpeI/3+o0/xK75T+iTtjJU3roP+zrDI2z2Oo/xFKeXNLM7D+30/XU9E7uP7z2LbUiWe8/zPShfz7n7z/UDnbDFffvP+J5os5piO8/xZYWpvCc7j9gXx5ATjjtP7hW1xsGYOs/5Ze7bmUb6T84PKE+ZnPmPxgZjtqLcuM/XvD8Prkk4D9ghoMUBC7ZP3qMf3btrtE/Pl0dHbTTwz8jrG9tpNifPwFjgrKY2re/nf5e1Himy7+yzzD6GnnVv1n/8PT8ydy/zwC/53bU4b/1/Zn6Xf3kv+vUOjQy0+e/0MpL4LpK6r8SoZl+NFrsv37/qWd3+e2/c5FNExgi778EBnCBgM/vv+QJlWAC/++/yz0squGv778Lab2KV+Puv/+Za4qNnO2/nuH4CJHg67+LetM+P7bpv25DUBIqJue/21GYLHY65L8Rs4fUsv7gv//fwFxY/9q/OiXKKnGW07+dn0VfB8DHvyIQJd+y1K+/XA8l37LUrz+Mn0VfB8DHPzIlyipxltM/6N/AXFj/2j8Gs4fUsv7gP9dRmCx2OuQ/ZUNQEiom5z+EetM+P7bpP5zh+AiR4Os//plrio2c7T8Iab2KV+PuP8o9LKrhr+8/5AmVYAL/7z8GBnCBgM/vP3SRTRMYIu8/g/+pZ3f57T8VoZl+NFrsP9PKS+C6Suo/9NQ6NDLT5z/7/Zn6Xf3kP9wAv+d21OE/b//w9PzJ3D+7zzD6GnnVP97+XtR4pss/RGOCspjatz+Wq29tpNifvw1dHR2008O/aox/du2u0b9YhoMUBC7Zv1Tw/D65JOC/ERmO2oty4784PKE+ZnPmv92Xu25lG+m/tlbXGwZg679aXx5ATjjtv8KWFqbwnO6/4nmizmmI77/UDnbDFffvv830oX8+5++/vfYttSJZ77+80/XU9E7uv8dSnlzSzOy/7esMjbPY6r+qTtjJU3rov+TqNP8Su+W/hGR7h9Cl4r/8fURGgI3ev+yC9FpzVte/8N9ENRGGz7/zxvKT78S/vwdcFDMmpsG8\",\"dtype\":\"float64\",\"shape\":[102]}}},\"id\":\"5812677b-218a-45da-a387-8c0821f0d41e\",\"type\":\"ColumnDataSource\"},{\"attributes\":{},\"id\":\"7a14e09b-37e9-46b2-8ea4-143e091f6358\",\"type\":\"ResetTool\"},{\"attributes\":{\"plot\":null,\"text\":\"\"},\"id\":\"e90adbd2-bed5-4da5-b12c-6d158e07c7f5\",\"type\":\"Title\"},{\"attributes\":{\"below\":[{\"id\":\"149d1298-d3a4-457e-8812-41b9e8bc33c8\",\"type\":\"LinearAxis\"}],\"left\":[{\"id\":\"11214653-032f-4f55-b16e-10230f290ebc\",\"type\":\"LinearAxis\"}],\"renderers\":[{\"id\":\"149d1298-d3a4-457e-8812-41b9e8bc33c8\",\"type\":\"LinearAxis\"},{\"id\":\"44bc5fe6-1dec-4dee-8c96-8528b579568a\",\"type\":\"Grid\"},{\"id\":\"11214653-032f-4f55-b16e-10230f290ebc\",\"type\":\"LinearAxis\"},{\"id\":\"5dcc776b-1d93-458a-9299-6f6da86ddeb2\",\"type\":\"Grid\"},{\"id\":\"4725b0b9-9720-4fce-8baa-10f6d2db823d\",\"type\":\"BoxAnnotation\"},{\"id\":\"be3bd7e2-e1eb-432c-bfee-9c293a125e7d\",\"type\":\"GlyphRenderer\"}],\"title\":{\"id\":\"e90adbd2-bed5-4da5-b12c-6d158e07c7f5\",\"type\":\"Title\"},\"toolbar\":{\"id\":\"39b0c5b8-7e93-40c6-9683-24211e0a4d6f\",\"type\":\"Toolbar\"},\"x_range\":{\"id\":\"e5251177-82ea-4ed3-8ce5-f95486451ee3\",\"type\":\"DataRange1d\"},\"x_scale\":{\"id\":\"b31b7037-e606-4eb6-8747-f718ef29a31f\",\"type\":\"LinearScale\"},\"y_range\":{\"id\":\"cca0bb6d-db5c-4aa0-b7af-2ff7a6cc29e4\",\"type\":\"DataRange1d\"},\"y_scale\":{\"id\":\"1cefe06d-acfe-45aa-9b49-46e0e4c1b4e8\",\"type\":\"LinearScale\"}},\"id\":\"eb02a8d8-0989-49a9-a29d-eb538d063b90\",\"subtype\":\"Figure\",\"type\":\"Plot\"},{\"attributes\":{\"active_drag\":\"auto\",\"active_inspect\":\"auto\",\"active_scroll\":\"auto\",\"active_tap\":\"auto\",\"tools\":[{\"id\":\"2f85d381-d3bf-423d-b68f-2ebfc6b98334\",\"type\":\"PanTool\"},{\"id\":\"229e4571-f828-4a79-a69f-a63af40f8e60\",\"type\":\"WheelZoomTool\"},{\"id\":\"f18da348-afff-44b6-9a2c-3cbb28f87033\",\"type\":\"BoxZoomTool\"},{\"id\":\"1bed508e-83d1-479f-9b1d-f54780cceeea\",\"type\":\"SaveTool\"},{\"id\":\"7a14e09b-37e9-46b2-8ea4-143e091f6358\",\"type\":\"ResetTool\"},{\"id\":\"c2737c75-6ba5-4da9-9de8-c3a9e72daa6c\",\"type\":\"HelpTool\"}]},\"id\":\"39b0c5b8-7e93-40c6-9683-24211e0a4d6f\",\"type\":\"Toolbar\"},{\"attributes\":{},\"id\":\"c2737c75-6ba5-4da9-9de8-c3a9e72daa6c\",\"type\":\"HelpTool\"},{\"attributes\":{\"callback\":null},\"id\":\"e5251177-82ea-4ed3-8ce5-f95486451ee3\",\"type\":\"DataRange1d\"},{\"attributes\":{\"plot\":{\"id\":\"eb02a8d8-0989-49a9-a29d-eb538d063b90\",\"subtype\":\"Figure\",\"type\":\"Plot\"},\"ticker\":{\"id\":\"7367a99d-a2d7-4e61-9602-c34e995830e3\",\"type\":\"BasicTicker\"}},\"id\":\"44bc5fe6-1dec-4dee-8c96-8528b579568a\",\"type\":\"Grid\"},{\"attributes\":{},\"id\":\"2f85d381-d3bf-423d-b68f-2ebfc6b98334\",\"type\":\"PanTool\"},{\"attributes\":{},\"id\":\"7367a99d-a2d7-4e61-9602-c34e995830e3\",\"type\":\"BasicTicker\"},{\"attributes\":{\"fill_color\":{\"value\":\"#1f77b4\"},\"line_color\":{\"value\":\"#1f77b4\"},\"size\":{\"field\":\"size\",\"units\":\"screen\"},\"x\":{\"field\":\"x\"},\"y\":{\"field\":\"y\"}},\"id\":\"48c83a08-230a-4e37-8b2c-58cb9b4a94f6\",\"type\":\"Circle\"},{\"attributes\":{\"callback\":null},\"id\":\"cca0bb6d-db5c-4aa0-b7af-2ff7a6cc29e4\",\"type\":\"DataRange1d\"},{\"attributes\":{},\"id\":\"ce37c6a2-dfaf-4765-b97a-745eb410b308\",\"type\":\"BasicTickFormatter\"},{\"attributes\":{\"fill_alpha\":{\"value\":0.1},\"fill_color\":{\"value\":\"#1f77b4\"},\"line_alpha\":{\"value\":0.1},\"line_color\":{\"value\":\"#1f77b4\"},\"size\":{\"field\":\"size\",\"units\":\"screen\"},\"x\":{\"field\":\"x\"},\"y\":{\"field\":\"y\"}},\"id\":\"85d94cb9-5559-4f3a-9865-2472e7f02622\",\"type\":\"Circle\"},{\"attributes\":{\"overlay\":{\"id\":\"4725b0b9-9720-4fce-8baa-10f6d2db823d\",\"type\":\"BoxAnnotation\"}},\"id\":\"f18da348-afff-44b6-9a2c-3cbb28f87033\",\"type\":\"BoxZoomTool\"},{\"attributes\":{\"dimension\":1,\"plot\":{\"id\":\"eb02a8d8-0989-49a9-a29d-eb538d063b90\",\"subtype\":\"Figure\",\"type\":\"Plot\"},\"ticker\":{\"id\":\"7256eb82-003d-40a1-84c7-a2deb295847f\",\"type\":\"BasicTicker\"}},\"id\":\"5dcc776b-1d93-458a-9299-6f6da86ddeb2\",\"type\":\"Grid\"},{\"attributes\":{\"data_source\":{\"id\":\"5812677b-218a-45da-a387-8c0821f0d41e\",\"type\":\"ColumnDataSource\"},\"glyph\":{\"id\":\"48c83a08-230a-4e37-8b2c-58cb9b4a94f6\",\"type\":\"Circle\"},\"hover_glyph\":null,\"muted_glyph\":null,\"nonselection_glyph\":{\"id\":\"85d94cb9-5559-4f3a-9865-2472e7f02622\",\"type\":\"Circle\"},\"selection_glyph\":null,\"view\":{\"id\":\"8c70446f-3687-4954-b5bd-ac88cf1791e3\",\"type\":\"CDSView\"}},\"id\":\"be3bd7e2-e1eb-432c-bfee-9c293a125e7d\",\"type\":\"GlyphRenderer\"},{\"attributes\":{},\"id\":\"1cefe06d-acfe-45aa-9b49-46e0e4c1b4e8\",\"type\":\"LinearScale\"},{\"attributes\":{\"formatter\":{\"id\":\"d2a2ba7e-de81-4f54-baf6-9436e478f47f\",\"type\":\"BasicTickFormatter\"},\"plot\":{\"id\":\"eb02a8d8-0989-49a9-a29d-eb538d063b90\",\"subtype\":\"Figure\",\"type\":\"Plot\"},\"ticker\":{\"id\":\"7256eb82-003d-40a1-84c7-a2deb295847f\",\"type\":\"BasicTicker\"}},\"id\":\"11214653-032f-4f55-b16e-10230f290ebc\",\"type\":\"LinearAxis\"},{\"attributes\":{},\"id\":\"229e4571-f828-4a79-a69f-a63af40f8e60\",\"type\":\"WheelZoomTool\"},{\"attributes\":{\"bottom_units\":\"screen\",\"fill_alpha\":{\"value\":0.5},\"fill_color\":{\"value\":\"lightgrey\"},\"left_units\":\"screen\",\"level\":\"overlay\",\"line_alpha\":{\"value\":1.0},\"line_color\":{\"value\":\"black\"},\"line_dash\":[4,4],\"line_width\":{\"value\":2},\"plot\":null,\"render_mode\":\"css\",\"right_units\":\"screen\",\"top_units\":\"screen\"},\"id\":\"4725b0b9-9720-4fce-8baa-10f6d2db823d\",\"type\":\"BoxAnnotation\"},{\"attributes\":{\"formatter\":{\"id\":\"ce37c6a2-dfaf-4765-b97a-745eb410b308\",\"type\":\"BasicTickFormatter\"},\"plot\":{\"id\":\"eb02a8d8-0989-49a9-a29d-eb538d063b90\",\"subtype\":\"Figure\",\"type\":\"Plot\"},\"ticker\":{\"id\":\"7367a99d-a2d7-4e61-9602-c34e995830e3\",\"type\":\"BasicTicker\"}},\"id\":\"149d1298-d3a4-457e-8812-41b9e8bc33c8\",\"type\":\"LinearAxis\"},{\"attributes\":{},\"id\":\"7256eb82-003d-40a1-84c7-a2deb295847f\",\"type\":\"BasicTicker\"},{\"attributes\":{},\"id\":\"b31b7037-e606-4eb6-8747-f718ef29a31f\",\"type\":\"LinearScale\"}],\"root_ids\":[\"eb02a8d8-0989-49a9-a29d-eb538d063b90\"]},\"title\":\"Bokeh Application\",\"version\":\"0.12.10\"}};\n",
       "    var render_items = [{\"docid\":\"8e11cd7d-8e78-4003-9dd4-7993459af83a\",\"elementid\":\"ad99653e-42e7-42fe-a4e4-4cf5c7ad9419\",\"modelid\":\"eb02a8d8-0989-49a9-a29d-eb538d063b90\"}];\n",
       "\n",
       "    root.Bokeh.embed.embed_items(docs_json, render_items);\n",
       "  }\n",
       "\n",
       "  if (root.Bokeh !== undefined) {\n",
       "    embed_document(root);\n",
       "  } else {\n",
       "    var attempts = 0;\n",
       "    var timer = setInterval(function(root) {\n",
       "      if (root.Bokeh !== undefined) {\n",
       "        embed_document(root);\n",
       "        clearInterval(timer);\n",
       "      }\n",
       "      attempts++;\n",
       "      if (attempts > 100) {\n",
       "        console.log(\"Bokeh: ERROR: Unable to embed document because BokehJS library is missing\")\n",
       "        clearInterval(timer);\n",
       "      }\n",
       "    }, 10, root)\n",
       "  }\n",
       "})(window);"
      ],
      "application/vnd.bokehjs_exec.v0+json": ""
     },
     "metadata": {
      "application/vnd.bokehjs_exec.v0+json": {
       "id": "eb02a8d8-0989-49a9-a29d-eb538d063b90"
      }
     },
     "output_type": "display_data"
    }
   ],
   "source": [
    "# pass vector as a size\n",
    "p5 = figure()\n",
    "# **2 to make is positive and make it bigger by 10 so size changes when data chanegs\n",
    "p5.scatter(x=lin_arr, y=sin_arr, size=cos_arr**2*10)\n",
    "show(p5)"
   ]
  },
  {
   "cell_type": "code",
   "execution_count": 27,
   "metadata": {},
   "outputs": [
    {
     "name": "stdout",
     "output_type": "stream",
     "text": [
      "Brewer Palettes: dict_keys(['YlGn', 'YlGnBu', 'GnBu', 'BuGn', 'PuBuGn', 'PuBu', 'BuPu', 'RdPu', 'PuRd', 'OrRd', 'YlOrRd', 'YlOrBr', 'Purples', 'Blues', 'Greens', 'Oranges', 'Reds', 'Greys', 'PuOr', 'BrBG', 'PRGn', 'PiYG', 'RdBu', 'RdGy', 'RdYlBu', 'Spectral', 'RdYlGn', 'Accent', 'Dark2', 'Paired', 'Pastel1', 'Pastel2', 'Set1', 'Set2', 'Set3'])\n",
      "Brewer Grey Palettes: dict_keys([3, 4, 5, 6, 7, 8, 9, 256])\n"
     ]
    }
   ],
   "source": [
    "# change colors with data\n",
    "from bokeh.palettes import brewer\n",
    "\n",
    "print(\"Brewer Palettes:\", brewer.keys())\n",
    "print(\"Brewer Grey Palettes:\", brewer[\"Greys\"].keys())\n",
    "# say color and number of shades of it\n",
    "palette = brewer[\"Spectral\"][9] + list(reversed(brewer[\"Spectral\"][9]))\n",
    "colors = palette * int(len(lin_arr) / len(palette)) + palette[0:len(lin_arr) % len(palette)]"
   ]
  },
  {
   "cell_type": "code",
   "execution_count": 28,
   "metadata": {},
   "outputs": [
    {
     "data": {
      "text/html": [
       "\n",
       "<div class=\"bk-root\">\n",
       "    <div class=\"bk-plotdiv\" id=\"eac8f4b2-bf97-41a7-bcc5-f46a1ec0cbe0\"></div>\n",
       "</div>"
      ]
     },
     "metadata": {},
     "output_type": "display_data"
    },
    {
     "data": {
      "application/javascript": [
       "(function(root) {\n",
       "  function embed_document(root) {\n",
       "    var docs_json = {\"f86ed5ac-ea9c-4a75-82d3-3ec9904c8076\":{\"roots\":{\"references\":[{\"attributes\":{},\"id\":\"4bc1f395-787c-4c25-a7b8-670ed4e3f6c5\",\"type\":\"LinearScale\"},{\"attributes\":{},\"id\":\"bc66e5c9-8eb2-419b-8bcb-99c78e25e6d3\",\"type\":\"BasicTickFormatter\"},{\"attributes\":{},\"id\":\"c797538e-3c01-47d4-8eee-5bec7be1d4db\",\"type\":\"PanTool\"},{\"attributes\":{\"plot\":{\"id\":\"81bca665-c28b-49cb-9d8f-61fbd38dc4d0\",\"subtype\":\"Figure\",\"type\":\"Plot\"},\"ticker\":{\"id\":\"10df9398-177f-412f-aaa6-d1ed6a90da97\",\"type\":\"BasicTicker\"}},\"id\":\"58950699-a5fd-42ca-845e-34eb53339ff9\",\"type\":\"Grid\"},{\"attributes\":{},\"id\":\"7b17b7ad-7b23-465c-9d7d-248f660e4bd6\",\"type\":\"WheelZoomTool\"},{\"attributes\":{\"bottom_units\":\"screen\",\"fill_alpha\":{\"value\":0.5},\"fill_color\":{\"value\":\"lightgrey\"},\"left_units\":\"screen\",\"level\":\"overlay\",\"line_alpha\":{\"value\":1.0},\"line_color\":{\"value\":\"black\"},\"line_dash\":[4,4],\"line_width\":{\"value\":2},\"plot\":null,\"render_mode\":\"css\",\"right_units\":\"screen\",\"top_units\":\"screen\"},\"id\":\"ac1b0aa1-c73e-4fb6-bdfc-112cee6c4ec4\",\"type\":\"BoxAnnotation\"},{\"attributes\":{\"callback\":null},\"id\":\"89a84baf-2215-4ce9-af6c-97d6aaad505a\",\"type\":\"DataRange1d\"},{\"attributes\":{\"dimension\":1,\"plot\":{\"id\":\"81bca665-c28b-49cb-9d8f-61fbd38dc4d0\",\"subtype\":\"Figure\",\"type\":\"Plot\"},\"ticker\":{\"id\":\"e6a93797-e273-45c6-89f9-236f94755f27\",\"type\":\"BasicTicker\"}},\"id\":\"f4e426cb-1223-4ec6-8346-8a3c4a4d5181\",\"type\":\"Grid\"},{\"attributes\":{\"source\":{\"id\":\"e4aeec41-5a9a-447e-bf82-b856064f934f\",\"type\":\"ColumnDataSource\"}},\"id\":\"ac30e5a4-1885-46ca-ae86-93691056dd43\",\"type\":\"CDSView\"},{\"attributes\":{\"data_source\":{\"id\":\"e4aeec41-5a9a-447e-bf82-b856064f934f\",\"type\":\"ColumnDataSource\"},\"glyph\":{\"id\":\"cc61e1da-9f78-4e4b-a6a1-d6a16c0c651e\",\"type\":\"Circle\"},\"hover_glyph\":null,\"muted_glyph\":null,\"nonselection_glyph\":{\"id\":\"29395743-2685-4aca-ad35-fa1eb7325654\",\"type\":\"Circle\"},\"selection_glyph\":null,\"view\":{\"id\":\"ac30e5a4-1885-46ca-ae86-93691056dd43\",\"type\":\"CDSView\"}},\"id\":\"f4c6635d-6c65-40ef-b7e2-5a082c44f2df\",\"type\":\"GlyphRenderer\"},{\"attributes\":{},\"id\":\"e6a93797-e273-45c6-89f9-236f94755f27\",\"type\":\"BasicTicker\"},{\"attributes\":{\"fill_alpha\":{\"value\":0.1},\"fill_color\":{\"value\":\"#1f77b4\"},\"line_alpha\":{\"value\":0.1},\"line_color\":{\"value\":\"#1f77b4\"},\"size\":{\"field\":\"size\",\"units\":\"screen\"},\"x\":{\"field\":\"x\"},\"y\":{\"field\":\"y\"}},\"id\":\"29395743-2685-4aca-ad35-fa1eb7325654\",\"type\":\"Circle\"},{\"attributes\":{\"formatter\":{\"id\":\"bc66e5c9-8eb2-419b-8bcb-99c78e25e6d3\",\"type\":\"BasicTickFormatter\"},\"plot\":{\"id\":\"81bca665-c28b-49cb-9d8f-61fbd38dc4d0\",\"subtype\":\"Figure\",\"type\":\"Plot\"},\"ticker\":{\"id\":\"e6a93797-e273-45c6-89f9-236f94755f27\",\"type\":\"BasicTicker\"}},\"id\":\"aa807bfd-563a-4988-9bae-437a8fca6d6d\",\"type\":\"LinearAxis\"},{\"attributes\":{\"fill_color\":{\"field\":\"fill_color\"},\"line_color\":{\"value\":\"#1f77b4\"},\"size\":{\"field\":\"size\",\"units\":\"screen\"},\"x\":{\"field\":\"x\"},\"y\":{\"field\":\"y\"}},\"id\":\"cc61e1da-9f78-4e4b-a6a1-d6a16c0c651e\",\"type\":\"Circle\"},{\"attributes\":{\"formatter\":{\"id\":\"daa43ba3-3137-4e41-911a-9d345cfde502\",\"type\":\"BasicTickFormatter\"},\"plot\":{\"id\":\"81bca665-c28b-49cb-9d8f-61fbd38dc4d0\",\"subtype\":\"Figure\",\"type\":\"Plot\"},\"ticker\":{\"id\":\"10df9398-177f-412f-aaa6-d1ed6a90da97\",\"type\":\"BasicTicker\"}},\"id\":\"b72a4e63-3c95-422c-b2a5-57d0e008ebf5\",\"type\":\"LinearAxis\"},{\"attributes\":{\"plot\":null,\"text\":\"\"},\"id\":\"11e9c63e-8a8d-471e-8012-6fb7e4ac7ffb\",\"type\":\"Title\"},{\"attributes\":{},\"id\":\"10df9398-177f-412f-aaa6-d1ed6a90da97\",\"type\":\"BasicTicker\"},{\"attributes\":{},\"id\":\"6c73d5d2-0007-4b09-8505-1ccb10255444\",\"type\":\"HelpTool\"},{\"attributes\":{\"callback\":null,\"column_names\":[\"size\",\"x\",\"y\",\"fill_color\"],\"data\":{\"fill_color\":[\"#3288bd\",\"#66c2a5\",\"#abdda4\",\"#e6f598\",\"#ffffbf\",\"#fee08b\",\"#fdae61\",\"#f46d43\",\"#d53e4f\",\"#d53e4f\",\"#f46d43\",\"#fdae61\",\"#fee08b\",\"#ffffbf\",\"#e6f598\",\"#abdda4\",\"#66c2a5\",\"#3288bd\",\"#3288bd\",\"#66c2a5\",\"#abdda4\",\"#e6f598\",\"#ffffbf\",\"#fee08b\",\"#fdae61\",\"#f46d43\",\"#d53e4f\",\"#d53e4f\",\"#f46d43\",\"#fdae61\",\"#fee08b\",\"#ffffbf\",\"#e6f598\",\"#abdda4\",\"#66c2a5\",\"#3288bd\",\"#3288bd\",\"#66c2a5\",\"#abdda4\",\"#e6f598\",\"#ffffbf\",\"#fee08b\",\"#fdae61\",\"#f46d43\",\"#d53e4f\",\"#d53e4f\",\"#f46d43\",\"#fdae61\",\"#fee08b\",\"#ffffbf\",\"#e6f598\",\"#abdda4\",\"#66c2a5\",\"#3288bd\",\"#3288bd\",\"#66c2a5\",\"#abdda4\",\"#e6f598\",\"#ffffbf\",\"#fee08b\",\"#fdae61\",\"#f46d43\",\"#d53e4f\",\"#d53e4f\",\"#f46d43\",\"#fdae61\",\"#fee08b\",\"#ffffbf\",\"#e6f598\",\"#abdda4\",\"#66c2a5\",\"#3288bd\",\"#3288bd\",\"#66c2a5\",\"#abdda4\",\"#e6f598\",\"#ffffbf\",\"#fee08b\",\"#fdae61\",\"#f46d43\",\"#d53e4f\",\"#d53e4f\",\"#f46d43\",\"#fdae61\",\"#fee08b\",\"#ffffbf\",\"#e6f598\",\"#abdda4\",\"#66c2a5\",\"#3288bd\",\"#3288bd\",\"#66c2a5\",\"#abdda4\",\"#e6f598\",\"#ffffbf\",\"#fee08b\",\"#fdae61\",\"#f46d43\",\"#d53e4f\",\"#d53e4f\",\"#f46d43\",\"#fdae61\"],\"size\":{\"__ndarray__\":\"AAAAAAAALkDzyJBBJrEtQMBftoF0ySxAsrfvmDBXK0Dg1TinKXEpQNW1YmBQNSdAYFbb4t7GJEDqLO4uLUwiQDI1pu6o2B9A2PYAFo2ZG0BQm8in/h0YQJXcsZXpnBVAn89j0Ms9FEBtyZN8RhYUQPCypdnIKBVA96z83GlkF0Cve3Pf8qUaQN6Ac+8Kuh5AAREZSTCwIUAc6hMJ0CckQERFg+/7nCZAlhmD4fHoKEDNlyiqeecqQKwiQCogeSxA/ylmTyeFLUDWgw1FDPstQFodFtaL0y1ACVm29BQRLUACzYxaor8rQDLfBp798ylAat9XYHfKJ0CLi8TFKGUlQJZtF7rZ6SJAcpVYIa1/IECxIopRb5kcQMNSKXpO5xhAdDk2SUAjFkDeYNLb4ngUQGi6ugR6AhRAvgfVGFHHFEDLPijnR7sWQP+lTvKRvxlABFHAI5ykHUDwsrSGfRYhQDUi9sCZiCNAPjVb7BACJkB/4GU23VsoQPLsATPscCpAeUeLfWcgLECLvZGSuk8tQEwQyvs17C1ATRDK+zXsLUCLvZGSuk8tQHxHi31nICxA+OwBM+xwKkCG4GU23VsoQEI1W+wQAiZAPSL2wJmII0D3srSGfRYhQAhRwCOcpB1AA6ZO8pG/GUDTPijnR7sWQMIH1RhRxxRAaLq6BHoCFEDbYNLb4ngUQHI5NklAIxZAuVIpek7nGECsIopRb5kcQG6VWCGtfyBAjm0XutnpIkCGi8TFKGUlQGHfV2B3yidALN8Gnv3zKUAAzYxaor8rQARZtvQUES1AWB0W1ovTLUDWgw1FDPstQAIqZk8nhS1AriJAKiB5LEDPlyiqeecqQJwZg+Hx6ChASUWD7/ucJkAc6hMJ0CckQAkRGUkwsCFA44Bz7wq6HkC+e3Pf8qUaQP6s/NxpZBdA8rKl2cgoFUBvyZN8RhYUQJ7PY9DLPRRAk9yxlemcFUBEm8in/h0YQND2ABaNmRtAMDWm7qjYH0DiLO4uLUwiQFxW2+LexiRA1bViYFA1J0Da1TinKXEpQLC375gwVytAu1+2gXTJLEDxyJBBJrEtQAAAAAAAAC5A\",\"dtype\":\"float64\",\"shape\":[102]},\"x\":{\"__ndarray__\":\"AAAAAAAAAADSRd8C9dm/P9JF3wL12c8/XnQnwnfj1z/SRd8C9dnfP6OLyyE56OM/XnQnwnfj5z8YXYNitt7rP9JF3wL12e8/Rped0Znq8T+ji8shOejzPwCA+XHY5fU/XnQnwnfj9z+7aFUSF+H5Pxhdg2K23vs/dVGxslXc/T/SRd8C9dn/PxidhinK6wBARped0ZnqAUB1kbR5aekCQKOLyyE56ANA0oXiyQjnBEAAgPlx2OUFQC96EBqo5AZAXnQnwnfjB0CMbj5qR+IIQLtoVRIX4QlA6WJsuubfCkAYXYNitt4LQEZXmgqG3QxAdVGxslXcDUCjS8haJdsOQNJF3wL12Q9AACB7VWJsEEAYnYYpyusQQC8akv0xaxFARped0ZnqEUBdFKmlAWoSQHWRtHlp6RJAjA7ATdFoE0Cji8shOegTQLsI1/WgZxRA0oXiyQjnFEDpAu6dcGYVQACA+XHY5RVAGP0ERkBlFkAvehAaqOQWQEb3G+4PZBdAXnQnwnfjF0B18TKW32IYQIxuPmpH4hhAo+tJPq9hGUC7aFUSF+EZQNLlYOZ+YBpA6WJsuubfGkAA4HeOTl8bQBhdg2K23htAL9qONh5eHEBGV5oKht0cQF7Upd7tXB1AdVGxslXcHUCMzryGvVseQKNLyFol2x5Au8jTLo1aH0DSRd8C9dkfQHVhdWuuLCBAACB7VWJsIECM3oA/FqwgQBidhinK6yBAo1uME34rIUAvGpL9MWshQLrYl+flqiFARped0ZnqIUDSVaO7TSoiQF0UqaUBaiJA6dKuj7WpIkB1kbR5aekiQABQumMdKSNAjA7ATdFoI0AYzcU3hagjQKOLyyE56CNAL0rRC+0nJEC7CNf1oGckQEbH3N9UpyRA0oXiyQjnJEBdROizvCYlQOkC7p1wZiVAdcHzhySmJUAAgPlx2OUlQIw+/1uMJSZAGP0ERkBlJkCjuwow9KQmQC96EBqo5CZAuzgWBFwkJ0BG9xvuD2QnQNK1IdjDoydAXnQnwnfjJ0DpMi2sKyMoQHXxMpbfYihAALA4gJOiKECMbj5qR+IoQBgtRFT7ISlA\",\"dtype\":\"float64\",\"shape\":[102]},\"y\":{\"__ndarray__\":\"AAAAAAAAAACixvKT78S/P7PfRDURhs8/4oL0WnNW1z/ofURGgI3eP4Nke4fQpeI/3+o0/xK75T+iTtjJU3roP+zrDI2z2Oo/xFKeXNLM7D+30/XU9E7uP7z2LbUiWe8/zPShfz7n7z/UDnbDFffvP+J5os5piO8/xZYWpvCc7j9gXx5ATjjtP7hW1xsGYOs/5Ze7bmUb6T84PKE+ZnPmPxgZjtqLcuM/XvD8Prkk4D9ghoMUBC7ZP3qMf3btrtE/Pl0dHbTTwz8jrG9tpNifPwFjgrKY2re/nf5e1Himy7+yzzD6GnnVv1n/8PT8ydy/zwC/53bU4b/1/Zn6Xf3kv+vUOjQy0+e/0MpL4LpK6r8SoZl+NFrsv37/qWd3+e2/c5FNExgi778EBnCBgM/vv+QJlWAC/++/yz0squGv778Lab2KV+Puv/+Za4qNnO2/nuH4CJHg67+LetM+P7bpv25DUBIqJue/21GYLHY65L8Rs4fUsv7gv//fwFxY/9q/OiXKKnGW07+dn0VfB8DHvyIQJd+y1K+/XA8l37LUrz+Mn0VfB8DHPzIlyipxltM/6N/AXFj/2j8Gs4fUsv7gP9dRmCx2OuQ/ZUNQEiom5z+EetM+P7bpP5zh+AiR4Os//plrio2c7T8Iab2KV+PuP8o9LKrhr+8/5AmVYAL/7z8GBnCBgM/vP3SRTRMYIu8/g/+pZ3f57T8VoZl+NFrsP9PKS+C6Suo/9NQ6NDLT5z/7/Zn6Xf3kP9wAv+d21OE/b//w9PzJ3D+7zzD6GnnVP97+XtR4pss/RGOCspjatz+Wq29tpNifvw1dHR2008O/aox/du2u0b9YhoMUBC7Zv1Tw/D65JOC/ERmO2oty4784PKE+ZnPmv92Xu25lG+m/tlbXGwZg679aXx5ATjjtv8KWFqbwnO6/4nmizmmI77/UDnbDFffvv830oX8+5++/vfYttSJZ77+80/XU9E7uv8dSnlzSzOy/7esMjbPY6r+qTtjJU3rov+TqNP8Su+W/hGR7h9Cl4r/8fURGgI3ev+yC9FpzVte/8N9ENRGGz7/zxvKT78S/vwdcFDMmpsG8\",\"dtype\":\"float64\",\"shape\":[102]}}},\"id\":\"e4aeec41-5a9a-447e-bf82-b856064f934f\",\"type\":\"ColumnDataSource\"},{\"attributes\":{\"below\":[{\"id\":\"b72a4e63-3c95-422c-b2a5-57d0e008ebf5\",\"type\":\"LinearAxis\"}],\"left\":[{\"id\":\"aa807bfd-563a-4988-9bae-437a8fca6d6d\",\"type\":\"LinearAxis\"}],\"renderers\":[{\"id\":\"b72a4e63-3c95-422c-b2a5-57d0e008ebf5\",\"type\":\"LinearAxis\"},{\"id\":\"58950699-a5fd-42ca-845e-34eb53339ff9\",\"type\":\"Grid\"},{\"id\":\"aa807bfd-563a-4988-9bae-437a8fca6d6d\",\"type\":\"LinearAxis\"},{\"id\":\"f4e426cb-1223-4ec6-8346-8a3c4a4d5181\",\"type\":\"Grid\"},{\"id\":\"ac1b0aa1-c73e-4fb6-bdfc-112cee6c4ec4\",\"type\":\"BoxAnnotation\"},{\"id\":\"f4c6635d-6c65-40ef-b7e2-5a082c44f2df\",\"type\":\"GlyphRenderer\"}],\"title\":{\"id\":\"11e9c63e-8a8d-471e-8012-6fb7e4ac7ffb\",\"type\":\"Title\"},\"toolbar\":{\"id\":\"8c1ca6a7-55eb-40d4-a056-1b4ddc2b423f\",\"type\":\"Toolbar\"},\"x_range\":{\"id\":\"89a84baf-2215-4ce9-af6c-97d6aaad505a\",\"type\":\"DataRange1d\"},\"x_scale\":{\"id\":\"4bc1f395-787c-4c25-a7b8-670ed4e3f6c5\",\"type\":\"LinearScale\"},\"y_range\":{\"id\":\"85327307-0222-401b-88e2-25ff0823efd2\",\"type\":\"DataRange1d\"},\"y_scale\":{\"id\":\"3123e295-011b-4416-95f4-c06ee72fc7e5\",\"type\":\"LinearScale\"}},\"id\":\"81bca665-c28b-49cb-9d8f-61fbd38dc4d0\",\"subtype\":\"Figure\",\"type\":\"Plot\"},{\"attributes\":{\"callback\":null},\"id\":\"85327307-0222-401b-88e2-25ff0823efd2\",\"type\":\"DataRange1d\"},{\"attributes\":{},\"id\":\"5ab4abdd-e2e5-4b09-9745-2285b599dc70\",\"type\":\"ResetTool\"},{\"attributes\":{},\"id\":\"fce0cbeb-b3fa-44e0-965b-80a7c351d9bf\",\"type\":\"SaveTool\"},{\"attributes\":{},\"id\":\"daa43ba3-3137-4e41-911a-9d345cfde502\",\"type\":\"BasicTickFormatter\"},{\"attributes\":{\"overlay\":{\"id\":\"ac1b0aa1-c73e-4fb6-bdfc-112cee6c4ec4\",\"type\":\"BoxAnnotation\"}},\"id\":\"22444163-a267-4d4c-a322-937111f9271b\",\"type\":\"BoxZoomTool\"},{\"attributes\":{\"active_drag\":\"auto\",\"active_inspect\":\"auto\",\"active_scroll\":\"auto\",\"active_tap\":\"auto\",\"tools\":[{\"id\":\"c797538e-3c01-47d4-8eee-5bec7be1d4db\",\"type\":\"PanTool\"},{\"id\":\"7b17b7ad-7b23-465c-9d7d-248f660e4bd6\",\"type\":\"WheelZoomTool\"},{\"id\":\"22444163-a267-4d4c-a322-937111f9271b\",\"type\":\"BoxZoomTool\"},{\"id\":\"fce0cbeb-b3fa-44e0-965b-80a7c351d9bf\",\"type\":\"SaveTool\"},{\"id\":\"5ab4abdd-e2e5-4b09-9745-2285b599dc70\",\"type\":\"ResetTool\"},{\"id\":\"6c73d5d2-0007-4b09-8505-1ccb10255444\",\"type\":\"HelpTool\"}]},\"id\":\"8c1ca6a7-55eb-40d4-a056-1b4ddc2b423f\",\"type\":\"Toolbar\"},{\"attributes\":{},\"id\":\"3123e295-011b-4416-95f4-c06ee72fc7e5\",\"type\":\"LinearScale\"}],\"root_ids\":[\"81bca665-c28b-49cb-9d8f-61fbd38dc4d0\"]},\"title\":\"Bokeh Application\",\"version\":\"0.12.10\"}};\n",
       "    var render_items = [{\"docid\":\"f86ed5ac-ea9c-4a75-82d3-3ec9904c8076\",\"elementid\":\"eac8f4b2-bf97-41a7-bcc5-f46a1ec0cbe0\",\"modelid\":\"81bca665-c28b-49cb-9d8f-61fbd38dc4d0\"}];\n",
       "\n",
       "    root.Bokeh.embed.embed_items(docs_json, render_items);\n",
       "  }\n",
       "\n",
       "  if (root.Bokeh !== undefined) {\n",
       "    embed_document(root);\n",
       "  } else {\n",
       "    var attempts = 0;\n",
       "    var timer = setInterval(function(root) {\n",
       "      if (root.Bokeh !== undefined) {\n",
       "        embed_document(root);\n",
       "        clearInterval(timer);\n",
       "      }\n",
       "      attempts++;\n",
       "      if (attempts > 100) {\n",
       "        console.log(\"Bokeh: ERROR: Unable to embed document because BokehJS library is missing\")\n",
       "        clearInterval(timer);\n",
       "      }\n",
       "    }, 10, root)\n",
       "  }\n",
       "})(window);"
      ],
      "application/vnd.bokehjs_exec.v0+json": ""
     },
     "metadata": {
      "application/vnd.bokehjs_exec.v0+json": {
       "id": "81bca665-c28b-49cb-9d8f-61fbd38dc4d0"
      }
     },
     "output_type": "display_data"
    }
   ],
   "source": [
    "pp5 = figure()\n",
    "pp5.scatter(x=lin_arr, y=sin_arr, size=cos_arr**2*10 + 5, fill_color=colors)\n",
    "show(pp5)"
   ]
  },
  {
   "cell_type": "markdown",
   "metadata": {},
   "source": [
    "\n",
    "# Tools\n",
    "If you notice the bar at the top of the you see several places to interact with the plot.\n",
    "These are tools and there a many different tools built into the Bokeh.\n",
    "Let's take a look at HoverTools, but first we use Bokeh's data source which watches changes."
   ]
  },
  {
   "cell_type": "code",
   "execution_count": 29,
   "metadata": {
    "collapsed": true
   },
   "outputs": [],
   "source": [
    "source = ColumnDataSource(\n",
    "    data=dict(\n",
    "        x=lin_arr,\n",
    "        y=sin_arr,\n",
    "        size=cos_arr**2*10 + 5,\n",
    "        colors=colors\n",
    "    )\n",
    ")"
   ]
  },
  {
   "cell_type": "code",
   "execution_count": 30,
   "metadata": {},
   "outputs": [
    {
     "data": {
      "text/html": [
       "\n",
       "<div class=\"bk-root\">\n",
       "    <div class=\"bk-plotdiv\" id=\"59c66cfa-f445-44bf-ae6c-3cd07b43b599\"></div>\n",
       "</div>"
      ]
     },
     "metadata": {},
     "output_type": "display_data"
    },
    {
     "data": {
      "application/javascript": [
       "(function(root) {\n",
       "  function embed_document(root) {\n",
       "    var docs_json = {\"c97d2345-8f65-428c-a530-571f67a4dc76\":{\"roots\":{\"references\":[{\"attributes\":{\"fill_alpha\":{\"value\":0.6},\"fill_color\":{\"field\":\"colors\"},\"line_color\":{\"value\":null},\"size\":{\"field\":\"size\",\"units\":\"screen\"},\"x\":{\"field\":\"x\"},\"y\":{\"field\":\"y\"}},\"id\":\"ad30d9e2-2f68-4d81-972b-753baf79dec1\",\"type\":\"Circle\"},{\"attributes\":{\"overlay\":{\"id\":\"0b237604-5448-40d1-9d68-c63439223633\",\"type\":\"BoxAnnotation\"}},\"id\":\"1949420b-bad2-43b6-a143-bccda9cce44e\",\"type\":\"BoxZoomTool\"},{\"attributes\":{},\"id\":\"9cb836e7-2db7-4677-919b-460fa5797a82\",\"type\":\"LinearScale\"},{\"attributes\":{\"callback\":null,\"column_names\":[\"x\",\"y\",\"size\",\"colors\"],\"data\":{\"colors\":[\"#3288bd\",\"#66c2a5\",\"#abdda4\",\"#e6f598\",\"#ffffbf\",\"#fee08b\",\"#fdae61\",\"#f46d43\",\"#d53e4f\",\"#d53e4f\",\"#f46d43\",\"#fdae61\",\"#fee08b\",\"#ffffbf\",\"#e6f598\",\"#abdda4\",\"#66c2a5\",\"#3288bd\",\"#3288bd\",\"#66c2a5\",\"#abdda4\",\"#e6f598\",\"#ffffbf\",\"#fee08b\",\"#fdae61\",\"#f46d43\",\"#d53e4f\",\"#d53e4f\",\"#f46d43\",\"#fdae61\",\"#fee08b\",\"#ffffbf\",\"#e6f598\",\"#abdda4\",\"#66c2a5\",\"#3288bd\",\"#3288bd\",\"#66c2a5\",\"#abdda4\",\"#e6f598\",\"#ffffbf\",\"#fee08b\",\"#fdae61\",\"#f46d43\",\"#d53e4f\",\"#d53e4f\",\"#f46d43\",\"#fdae61\",\"#fee08b\",\"#ffffbf\",\"#e6f598\",\"#abdda4\",\"#66c2a5\",\"#3288bd\",\"#3288bd\",\"#66c2a5\",\"#abdda4\",\"#e6f598\",\"#ffffbf\",\"#fee08b\",\"#fdae61\",\"#f46d43\",\"#d53e4f\",\"#d53e4f\",\"#f46d43\",\"#fdae61\",\"#fee08b\",\"#ffffbf\",\"#e6f598\",\"#abdda4\",\"#66c2a5\",\"#3288bd\",\"#3288bd\",\"#66c2a5\",\"#abdda4\",\"#e6f598\",\"#ffffbf\",\"#fee08b\",\"#fdae61\",\"#f46d43\",\"#d53e4f\",\"#d53e4f\",\"#f46d43\",\"#fdae61\",\"#fee08b\",\"#ffffbf\",\"#e6f598\",\"#abdda4\",\"#66c2a5\",\"#3288bd\",\"#3288bd\",\"#66c2a5\",\"#abdda4\",\"#e6f598\",\"#ffffbf\",\"#fee08b\",\"#fdae61\",\"#f46d43\",\"#d53e4f\",\"#d53e4f\",\"#f46d43\",\"#fdae61\"],\"size\":{\"__ndarray__\":\"AAAAAAAALkDzyJBBJrEtQMBftoF0ySxAsrfvmDBXK0Dg1TinKXEpQNW1YmBQNSdAYFbb4t7GJEDqLO4uLUwiQDI1pu6o2B9A2PYAFo2ZG0BQm8in/h0YQJXcsZXpnBVAn89j0Ms9FEBtyZN8RhYUQPCypdnIKBVA96z83GlkF0Cve3Pf8qUaQN6Ac+8Kuh5AAREZSTCwIUAc6hMJ0CckQERFg+/7nCZAlhmD4fHoKEDNlyiqeecqQKwiQCogeSxA/ylmTyeFLUDWgw1FDPstQFodFtaL0y1ACVm29BQRLUACzYxaor8rQDLfBp798ylAat9XYHfKJ0CLi8TFKGUlQJZtF7rZ6SJAcpVYIa1/IECxIopRb5kcQMNSKXpO5xhAdDk2SUAjFkDeYNLb4ngUQGi6ugR6AhRAvgfVGFHHFEDLPijnR7sWQP+lTvKRvxlABFHAI5ykHUDwsrSGfRYhQDUi9sCZiCNAPjVb7BACJkB/4GU23VsoQPLsATPscCpAeUeLfWcgLECLvZGSuk8tQEwQyvs17C1ATRDK+zXsLUCLvZGSuk8tQHxHi31nICxA+OwBM+xwKkCG4GU23VsoQEI1W+wQAiZAPSL2wJmII0D3srSGfRYhQAhRwCOcpB1AA6ZO8pG/GUDTPijnR7sWQMIH1RhRxxRAaLq6BHoCFEDbYNLb4ngUQHI5NklAIxZAuVIpek7nGECsIopRb5kcQG6VWCGtfyBAjm0XutnpIkCGi8TFKGUlQGHfV2B3yidALN8Gnv3zKUAAzYxaor8rQARZtvQUES1AWB0W1ovTLUDWgw1FDPstQAIqZk8nhS1AriJAKiB5LEDPlyiqeecqQJwZg+Hx6ChASUWD7/ucJkAc6hMJ0CckQAkRGUkwsCFA44Bz7wq6HkC+e3Pf8qUaQP6s/NxpZBdA8rKl2cgoFUBvyZN8RhYUQJ7PY9DLPRRAk9yxlemcFUBEm8in/h0YQND2ABaNmRtAMDWm7qjYH0DiLO4uLUwiQFxW2+LexiRA1bViYFA1J0Da1TinKXEpQLC375gwVytAu1+2gXTJLEDxyJBBJrEtQAAAAAAAAC5A\",\"dtype\":\"float64\",\"shape\":[102]},\"x\":{\"__ndarray__\":\"AAAAAAAAAADSRd8C9dm/P9JF3wL12c8/XnQnwnfj1z/SRd8C9dnfP6OLyyE56OM/XnQnwnfj5z8YXYNitt7rP9JF3wL12e8/Rped0Znq8T+ji8shOejzPwCA+XHY5fU/XnQnwnfj9z+7aFUSF+H5Pxhdg2K23vs/dVGxslXc/T/SRd8C9dn/PxidhinK6wBARped0ZnqAUB1kbR5aekCQKOLyyE56ANA0oXiyQjnBEAAgPlx2OUFQC96EBqo5AZAXnQnwnfjB0CMbj5qR+IIQLtoVRIX4QlA6WJsuubfCkAYXYNitt4LQEZXmgqG3QxAdVGxslXcDUCjS8haJdsOQNJF3wL12Q9AACB7VWJsEEAYnYYpyusQQC8akv0xaxFARped0ZnqEUBdFKmlAWoSQHWRtHlp6RJAjA7ATdFoE0Cji8shOegTQLsI1/WgZxRA0oXiyQjnFEDpAu6dcGYVQACA+XHY5RVAGP0ERkBlFkAvehAaqOQWQEb3G+4PZBdAXnQnwnfjF0B18TKW32IYQIxuPmpH4hhAo+tJPq9hGUC7aFUSF+EZQNLlYOZ+YBpA6WJsuubfGkAA4HeOTl8bQBhdg2K23htAL9qONh5eHEBGV5oKht0cQF7Upd7tXB1AdVGxslXcHUCMzryGvVseQKNLyFol2x5Au8jTLo1aH0DSRd8C9dkfQHVhdWuuLCBAACB7VWJsIECM3oA/FqwgQBidhinK6yBAo1uME34rIUAvGpL9MWshQLrYl+flqiFARped0ZnqIUDSVaO7TSoiQF0UqaUBaiJA6dKuj7WpIkB1kbR5aekiQABQumMdKSNAjA7ATdFoI0AYzcU3hagjQKOLyyE56CNAL0rRC+0nJEC7CNf1oGckQEbH3N9UpyRA0oXiyQjnJEBdROizvCYlQOkC7p1wZiVAdcHzhySmJUAAgPlx2OUlQIw+/1uMJSZAGP0ERkBlJkCjuwow9KQmQC96EBqo5CZAuzgWBFwkJ0BG9xvuD2QnQNK1IdjDoydAXnQnwnfjJ0DpMi2sKyMoQHXxMpbfYihAALA4gJOiKECMbj5qR+IoQBgtRFT7ISlA\",\"dtype\":\"float64\",\"shape\":[102]},\"y\":{\"__ndarray__\":\"AAAAAAAAAACixvKT78S/P7PfRDURhs8/4oL0WnNW1z/ofURGgI3eP4Nke4fQpeI/3+o0/xK75T+iTtjJU3roP+zrDI2z2Oo/xFKeXNLM7D+30/XU9E7uP7z2LbUiWe8/zPShfz7n7z/UDnbDFffvP+J5os5piO8/xZYWpvCc7j9gXx5ATjjtP7hW1xsGYOs/5Ze7bmUb6T84PKE+ZnPmPxgZjtqLcuM/XvD8Prkk4D9ghoMUBC7ZP3qMf3btrtE/Pl0dHbTTwz8jrG9tpNifPwFjgrKY2re/nf5e1Himy7+yzzD6GnnVv1n/8PT8ydy/zwC/53bU4b/1/Zn6Xf3kv+vUOjQy0+e/0MpL4LpK6r8SoZl+NFrsv37/qWd3+e2/c5FNExgi778EBnCBgM/vv+QJlWAC/++/yz0squGv778Lab2KV+Puv/+Za4qNnO2/nuH4CJHg67+LetM+P7bpv25DUBIqJue/21GYLHY65L8Rs4fUsv7gv//fwFxY/9q/OiXKKnGW07+dn0VfB8DHvyIQJd+y1K+/XA8l37LUrz+Mn0VfB8DHPzIlyipxltM/6N/AXFj/2j8Gs4fUsv7gP9dRmCx2OuQ/ZUNQEiom5z+EetM+P7bpP5zh+AiR4Os//plrio2c7T8Iab2KV+PuP8o9LKrhr+8/5AmVYAL/7z8GBnCBgM/vP3SRTRMYIu8/g/+pZ3f57T8VoZl+NFrsP9PKS+C6Suo/9NQ6NDLT5z/7/Zn6Xf3kP9wAv+d21OE/b//w9PzJ3D+7zzD6GnnVP97+XtR4pss/RGOCspjatz+Wq29tpNifvw1dHR2008O/aox/du2u0b9YhoMUBC7Zv1Tw/D65JOC/ERmO2oty4784PKE+ZnPmv92Xu25lG+m/tlbXGwZg679aXx5ATjjtv8KWFqbwnO6/4nmizmmI77/UDnbDFffvv830oX8+5++/vfYttSJZ77+80/XU9E7uv8dSnlzSzOy/7esMjbPY6r+qTtjJU3rov+TqNP8Su+W/hGR7h9Cl4r/8fURGgI3ev+yC9FpzVte/8N9ENRGGz7/zxvKT78S/vwdcFDMmpsG8\",\"dtype\":\"float64\",\"shape\":[102]}}},\"id\":\"f5b6bebb-380c-4270-be76-a123d7085cfb\",\"type\":\"ColumnDataSource\"},{\"attributes\":{\"callback\":null},\"id\":\"8925934a-cdd4-4f5d-b9c9-dc60fa0bc421\",\"type\":\"DataRange1d\"},{\"attributes\":{},\"id\":\"ae8d47ea-8d88-47b1-8c54-dbba3617c439\",\"type\":\"ResetTool\"},{\"attributes\":{},\"id\":\"e4c01c8b-1450-4d9c-afde-d06203e0ef3d\",\"type\":\"LinearScale\"},{\"attributes\":{\"callback\":null,\"tooltips\":[[\"index\",\"$index\"],[\"(x,y)\",\"(@x, @y)\"],[\"size\",\"@size\"],[\"fill color\",\"$color[hex, swatch]:fill_color\"]]},\"id\":\"0826a716-b79a-4a86-ac30-bc0c8e70201c\",\"type\":\"HoverTool\"},{\"attributes\":{},\"id\":\"0882a758-bc37-4ee2-bdf0-812038b76e13\",\"type\":\"SaveTool\"},{\"attributes\":{\"bottom_units\":\"screen\",\"fill_alpha\":{\"value\":0.5},\"fill_color\":{\"value\":\"lightgrey\"},\"left_units\":\"screen\",\"level\":\"overlay\",\"line_alpha\":{\"value\":1.0},\"line_color\":{\"value\":\"black\"},\"line_dash\":[4,4],\"line_width\":{\"value\":2},\"plot\":null,\"render_mode\":\"css\",\"right_units\":\"screen\",\"top_units\":\"screen\"},\"id\":\"0b237604-5448-40d1-9d68-c63439223633\",\"type\":\"BoxAnnotation\"},{\"attributes\":{\"formatter\":{\"id\":\"9069fe90-39da-4d57-a022-e4759ce17b17\",\"type\":\"BasicTickFormatter\"},\"plot\":{\"id\":\"57901c08-5ba9-4767-a659-da739b69963c\",\"subtype\":\"Figure\",\"type\":\"Plot\"},\"ticker\":{\"id\":\"0eec0b70-6288-4574-837d-8ee3949fa68b\",\"type\":\"BasicTicker\"}},\"id\":\"b2c5ac46-4136-4465-a582-deb4ec2e9e20\",\"type\":\"LinearAxis\"},{\"attributes\":{\"plot\":{\"id\":\"57901c08-5ba9-4767-a659-da739b69963c\",\"subtype\":\"Figure\",\"type\":\"Plot\"},\"ticker\":{\"id\":\"0eec0b70-6288-4574-837d-8ee3949fa68b\",\"type\":\"BasicTicker\"}},\"id\":\"d11344d6-c26d-4334-ab7f-c410ccf14cb0\",\"type\":\"Grid\"},{\"attributes\":{},\"id\":\"0eec0b70-6288-4574-837d-8ee3949fa68b\",\"type\":\"BasicTicker\"},{\"attributes\":{\"source\":{\"id\":\"f5b6bebb-380c-4270-be76-a123d7085cfb\",\"type\":\"ColumnDataSource\"}},\"id\":\"4105352c-aacc-4d61-bcfb-782d23f0bd3c\",\"type\":\"CDSView\"},{\"attributes\":{\"formatter\":{\"id\":\"44ca95a7-250e-4b2d-98de-70608ea35213\",\"type\":\"BasicTickFormatter\"},\"plot\":{\"id\":\"57901c08-5ba9-4767-a659-da739b69963c\",\"subtype\":\"Figure\",\"type\":\"Plot\"},\"ticker\":{\"id\":\"53220dc2-e2b2-42e1-bb64-cb7b2f4c7015\",\"type\":\"BasicTicker\"}},\"id\":\"a0b45b45-5698-4be5-a851-f97c4c6e3229\",\"type\":\"LinearAxis\"},{\"attributes\":{},\"id\":\"53220dc2-e2b2-42e1-bb64-cb7b2f4c7015\",\"type\":\"BasicTicker\"},{\"attributes\":{\"dimension\":1,\"plot\":{\"id\":\"57901c08-5ba9-4767-a659-da739b69963c\",\"subtype\":\"Figure\",\"type\":\"Plot\"},\"ticker\":{\"id\":\"53220dc2-e2b2-42e1-bb64-cb7b2f4c7015\",\"type\":\"BasicTicker\"}},\"id\":\"b70dfd79-87a5-4c62-a829-0178a46ae9a1\",\"type\":\"Grid\"},{\"attributes\":{},\"id\":\"9069fe90-39da-4d57-a022-e4759ce17b17\",\"type\":\"BasicTickFormatter\"},{\"attributes\":{\"fill_alpha\":{\"value\":0.1},\"fill_color\":{\"value\":\"#1f77b4\"},\"line_alpha\":{\"value\":0.1},\"line_color\":{\"value\":\"#1f77b4\"},\"size\":{\"field\":\"size\",\"units\":\"screen\"},\"x\":{\"field\":\"x\"},\"y\":{\"field\":\"y\"}},\"id\":\"f40b8c43-77ce-4abd-b3f9-088efe907029\",\"type\":\"Circle\"},{\"attributes\":{\"below\":[{\"id\":\"b2c5ac46-4136-4465-a582-deb4ec2e9e20\",\"type\":\"LinearAxis\"}],\"left\":[{\"id\":\"a0b45b45-5698-4be5-a851-f97c4c6e3229\",\"type\":\"LinearAxis\"}],\"renderers\":[{\"id\":\"b2c5ac46-4136-4465-a582-deb4ec2e9e20\",\"type\":\"LinearAxis\"},{\"id\":\"d11344d6-c26d-4334-ab7f-c410ccf14cb0\",\"type\":\"Grid\"},{\"id\":\"a0b45b45-5698-4be5-a851-f97c4c6e3229\",\"type\":\"LinearAxis\"},{\"id\":\"b70dfd79-87a5-4c62-a829-0178a46ae9a1\",\"type\":\"Grid\"},{\"id\":\"0b237604-5448-40d1-9d68-c63439223633\",\"type\":\"BoxAnnotation\"},{\"id\":\"0fb414f6-e7f8-4cde-9f80-50d3c9a12239\",\"type\":\"GlyphRenderer\"}],\"title\":{\"id\":\"f93ad23e-0431-4ada-9953-40878254bc2b\",\"type\":\"Title\"},\"toolbar\":{\"id\":\"a94a0ed7-2902-4dca-a399-900624a4ee58\",\"type\":\"Toolbar\"},\"x_range\":{\"id\":\"4af80b1d-a734-4599-8575-b65f896cad80\",\"type\":\"DataRange1d\"},\"x_scale\":{\"id\":\"9cb836e7-2db7-4677-919b-460fa5797a82\",\"type\":\"LinearScale\"},\"y_range\":{\"id\":\"8925934a-cdd4-4f5d-b9c9-dc60fa0bc421\",\"type\":\"DataRange1d\"},\"y_scale\":{\"id\":\"e4c01c8b-1450-4d9c-afde-d06203e0ef3d\",\"type\":\"LinearScale\"}},\"id\":\"57901c08-5ba9-4767-a659-da739b69963c\",\"subtype\":\"Figure\",\"type\":\"Plot\"},{\"attributes\":{\"data_source\":{\"id\":\"f5b6bebb-380c-4270-be76-a123d7085cfb\",\"type\":\"ColumnDataSource\"},\"glyph\":{\"id\":\"ad30d9e2-2f68-4d81-972b-753baf79dec1\",\"type\":\"Circle\"},\"hover_glyph\":null,\"muted_glyph\":null,\"nonselection_glyph\":{\"id\":\"f40b8c43-77ce-4abd-b3f9-088efe907029\",\"type\":\"Circle\"},\"selection_glyph\":null,\"view\":{\"id\":\"4105352c-aacc-4d61-bcfb-782d23f0bd3c\",\"type\":\"CDSView\"}},\"id\":\"0fb414f6-e7f8-4cde-9f80-50d3c9a12239\",\"type\":\"GlyphRenderer\"},{\"attributes\":{},\"id\":\"44ca95a7-250e-4b2d-98de-70608ea35213\",\"type\":\"BasicTickFormatter\"},{\"attributes\":{},\"id\":\"7e0d7763-fad1-40f9-8bdc-b2fd6333b6a3\",\"type\":\"CrosshairTool\"},{\"attributes\":{\"plot\":null,\"text\":\"Hoverful Scatter\"},\"id\":\"f93ad23e-0431-4ada-9953-40878254bc2b\",\"type\":\"Title\"},{\"attributes\":{},\"id\":\"802516be-324d-44fb-9f43-e66e6fdf7b3d\",\"type\":\"WheelZoomTool\"},{\"attributes\":{\"callback\":null},\"id\":\"4af80b1d-a734-4599-8575-b65f896cad80\",\"type\":\"DataRange1d\"},{\"attributes\":{},\"id\":\"060ec263-9774-4eab-916d-3d9bf9302603\",\"type\":\"PanTool\"},{\"attributes\":{\"active_drag\":\"auto\",\"active_inspect\":\"auto\",\"active_scroll\":\"auto\",\"active_tap\":\"auto\",\"tools\":[{\"id\":\"7e0d7763-fad1-40f9-8bdc-b2fd6333b6a3\",\"type\":\"CrosshairTool\"},{\"id\":\"060ec263-9774-4eab-916d-3d9bf9302603\",\"type\":\"PanTool\"},{\"id\":\"802516be-324d-44fb-9f43-e66e6fdf7b3d\",\"type\":\"WheelZoomTool\"},{\"id\":\"1949420b-bad2-43b6-a143-bccda9cce44e\",\"type\":\"BoxZoomTool\"},{\"id\":\"ae8d47ea-8d88-47b1-8c54-dbba3617c439\",\"type\":\"ResetTool\"},{\"id\":\"0826a716-b79a-4a86-ac30-bc0c8e70201c\",\"type\":\"HoverTool\"},{\"id\":\"0882a758-bc37-4ee2-bdf0-812038b76e13\",\"type\":\"SaveTool\"}]},\"id\":\"a94a0ed7-2902-4dca-a399-900624a4ee58\",\"type\":\"Toolbar\"}],\"root_ids\":[\"57901c08-5ba9-4767-a659-da739b69963c\"]},\"title\":\"Bokeh Application\",\"version\":\"0.12.10\"}};\n",
       "    var render_items = [{\"docid\":\"c97d2345-8f65-428c-a530-571f67a4dc76\",\"elementid\":\"59c66cfa-f445-44bf-ae6c-3cd07b43b599\",\"modelid\":\"57901c08-5ba9-4767-a659-da739b69963c\"}];\n",
       "\n",
       "    root.Bokeh.embed.embed_items(docs_json, render_items);\n",
       "  }\n",
       "\n",
       "  if (root.Bokeh !== undefined) {\n",
       "    embed_document(root);\n",
       "  } else {\n",
       "    var attempts = 0;\n",
       "    var timer = setInterval(function(root) {\n",
       "      if (root.Bokeh !== undefined) {\n",
       "        embed_document(root);\n",
       "        clearInterval(timer);\n",
       "      }\n",
       "      attempts++;\n",
       "      if (attempts > 100) {\n",
       "        console.log(\"Bokeh: ERROR: Unable to embed document because BokehJS library is missing\")\n",
       "        clearInterval(timer);\n",
       "      }\n",
       "    }, 10, root)\n",
       "  }\n",
       "})(window);"
      ],
      "application/vnd.bokehjs_exec.v0+json": ""
     },
     "metadata": {
      "application/vnd.bokehjs_exec.v0+json": {
       "id": "57901c08-5ba9-4767-a659-da739b69963c"
      }
     },
     "output_type": "display_data"
    }
   ],
   "source": [
    "from bokeh.models import HoverTool\n",
    "from collections import OrderedDict\n",
    "\n",
    "TOOLS=\"crosshair,pan,wheel_zoom,box_zoom,reset,hover,previewsave\"\n",
    "p6 = figure(title=\"Hoverful Scatter\", tools=TOOLS)\n",
    "p6.circle(x=\"x\", y=\"y\", size=\"size\", source=source,\n",
    "    fill_color=\"colors\", fill_alpha=0.6, line_color=None)\n",
    "\n",
    "hover = p6.select(dict(type=HoverTool))\n",
    "hover.tooltips = OrderedDict([\n",
    "    (\"index\", \"$index\"),\n",
    "    (\"(x,y)\", \"(@x, @y)\"),\n",
    "    (\"size\", \"@size\"),\n",
    "    (\"fill color\", \"$color[hex, swatch]:fill_color\"),\n",
    "])\n",
    "show(p6)"
   ]
  },
  {
   "cell_type": "markdown",
   "metadata": {},
   "source": [
    "\n",
    "## Linking two plots\n",
    "One of the best aspects of Bokeh is linking plots. We can link the brushing. This will allow you to select and pan with the plots both reacting to each other."
   ]
  },
  {
   "cell_type": "code",
   "execution_count": 32,
   "metadata": {},
   "outputs": [
    {
     "data": {
      "text/html": [
       "\n",
       "<div class=\"bk-root\">\n",
       "    <div class=\"bk-plotdiv\" id=\"664126e8-36dd-4160-9ee6-3124856ad320\"></div>\n",
       "</div>"
      ]
     },
     "metadata": {},
     "output_type": "display_data"
    },
    {
     "data": {
      "application/javascript": [
       "(function(root) {\n",
       "  function embed_document(root) {\n",
       "    var docs_json = {\"d39e80f0-1dec-4979-b60f-3609b1e62ba2\":{\"roots\":{\"references\":[{\"attributes\":{\"overlay\":{\"id\":\"f1168432-aebb-4e1d-aeb0-7401988d5f7e\",\"type\":\"BoxAnnotation\"}},\"id\":\"19e44240-ff33-47bf-8f66-9690649ce5fc\",\"type\":\"BoxZoomTool\"},{\"attributes\":{},\"id\":\"cdffee36-afc5-4a25-aaba-7b8098b755f3\",\"type\":\"LinearScale\"},{\"attributes\":{\"data_source\":{\"id\":\"9e64df64-209e-41e9-9147-b6eaddbf758f\",\"type\":\"ColumnDataSource\"},\"glyph\":{\"id\":\"3e46592f-0870-461c-95b1-04ec75cb0968\",\"type\":\"Circle\"},\"hover_glyph\":null,\"muted_glyph\":null,\"nonselection_glyph\":{\"id\":\"440e76ef-d054-4e23-9ef3-f8c75d3b05ab\",\"type\":\"Circle\"},\"selection_glyph\":null,\"view\":{\"id\":\"92599d2e-35bd-4e3b-b352-320fcd621eb5\",\"type\":\"CDSView\"}},\"id\":\"efbc3ba3-0e68-4354-af0a-e08925a1f928\",\"type\":\"GlyphRenderer\"},{\"attributes\":{},\"id\":\"1c37493c-76d4-47e4-88db-3cad1d10f768\",\"type\":\"ResetTool\"},{\"attributes\":{\"fill_alpha\":{\"value\":0.1},\"fill_color\":{\"value\":\"#1f77b4\"},\"line_alpha\":{\"value\":0.1},\"line_color\":{\"value\":\"#1f77b4\"},\"x\":{\"field\":\"x\"},\"y\":{\"field\":\"y1\"}},\"id\":\"6b73f9dc-c850-411a-b725-3864733c169d\",\"type\":\"Circle\"},{\"attributes\":{},\"id\":\"c6ec71e1-adc5-40d4-82ea-f9bf74446797\",\"type\":\"SaveTool\"},{\"attributes\":{},\"id\":\"2faabc3c-f174-46e7-82a3-751b8316f0ed\",\"type\":\"BasicTicker\"},{\"attributes\":{},\"id\":\"a2bd9285-6770-4478-8016-50302cf5797d\",\"type\":\"BasicTickFormatter\"},{\"attributes\":{\"callback\":null,\"overlay\":{\"id\":\"576ea23e-4bb1-4646-a9ed-13601f6dd428\",\"type\":\"BoxAnnotation\"},\"renderers\":[{\"id\":\"efbc3ba3-0e68-4354-af0a-e08925a1f928\",\"type\":\"GlyphRenderer\"}]},\"id\":\"98bf4446-ea0d-4687-a219-770656aa46de\",\"type\":\"BoxSelectTool\"},{\"attributes\":{\"formatter\":{\"id\":\"ee46fe1f-9ee3-4375-9498-1b30fcc4b772\",\"type\":\"BasicTickFormatter\"},\"plot\":{\"id\":\"3aa0a0c2-f549-4af5-9b48-1cb64884c4da\",\"subtype\":\"Figure\",\"type\":\"Plot\"},\"ticker\":{\"id\":\"9d926e9d-0e10-4f71-a082-64e43b16bceb\",\"type\":\"BasicTicker\"}},\"id\":\"0b096965-9c49-40fe-889a-158813e61e4d\",\"type\":\"LinearAxis\"},{\"attributes\":{\"bottom_units\":\"screen\",\"fill_alpha\":{\"value\":0.5},\"fill_color\":{\"value\":\"lightgrey\"},\"left_units\":\"screen\",\"level\":\"overlay\",\"line_alpha\":{\"value\":1.0},\"line_color\":{\"value\":\"black\"},\"line_dash\":[4,4],\"line_width\":{\"value\":2},\"plot\":null,\"render_mode\":\"css\",\"right_units\":\"screen\",\"top_units\":\"screen\"},\"id\":\"b5c188b4-cc60-4d54-a63d-a831696d99bb\",\"type\":\"BoxAnnotation\"},{\"attributes\":{\"callback\":null,\"overlay\":{\"id\":\"bd4e9edf-bf9d-48f4-b096-aec6b0ee1ac6\",\"type\":\"PolyAnnotation\"}},\"id\":\"d6b36ee3-d8e1-449e-8521-7c1a08655aff\",\"type\":\"LassoSelectTool\"},{\"attributes\":{},\"id\":\"441e25f6-9edb-4905-9dca-cb94ea87201d\",\"type\":\"PanTool\"},{\"attributes\":{\"source\":{\"id\":\"9e64df64-209e-41e9-9147-b6eaddbf758f\",\"type\":\"ColumnDataSource\"}},\"id\":\"92599d2e-35bd-4e3b-b352-320fcd621eb5\",\"type\":\"CDSView\"},{\"attributes\":{\"fill_alpha\":{\"value\":0.5},\"fill_color\":{\"value\":\"lightgrey\"},\"level\":\"overlay\",\"line_alpha\":{\"value\":1.0},\"line_color\":{\"value\":\"black\"},\"line_dash\":[4,4],\"line_width\":{\"value\":2},\"plot\":null,\"xs_units\":\"screen\",\"ys_units\":\"screen\"},\"id\":\"1f3802c2-5e78-4fc9-9468-a936efd6d71d\",\"type\":\"PolyAnnotation\"},{\"attributes\":{\"bottom_units\":\"screen\",\"fill_alpha\":{\"value\":0.5},\"fill_color\":{\"value\":\"lightgrey\"},\"left_units\":\"screen\",\"level\":\"overlay\",\"line_alpha\":{\"value\":1.0},\"line_color\":{\"value\":\"black\"},\"line_dash\":[4,4],\"line_width\":{\"value\":2},\"plot\":null,\"render_mode\":\"css\",\"right_units\":\"screen\",\"top_units\":\"screen\"},\"id\":\"576ea23e-4bb1-4646-a9ed-13601f6dd428\",\"type\":\"BoxAnnotation\"},{\"attributes\":{},\"id\":\"590c329b-75f4-4f0e-a22b-7782fd1bd0aa\",\"type\":\"WheelZoomTool\"},{\"attributes\":{\"plot\":null,\"text\":\"\"},\"id\":\"f29a81e1-4a41-4a19-aa7b-ced11ca4a8d5\",\"type\":\"Title\"},{\"attributes\":{\"overlay\":{\"id\":\"b5c188b4-cc60-4d54-a63d-a831696d99bb\",\"type\":\"BoxAnnotation\"}},\"id\":\"6ad8db1b-06da-4f29-a69c-417b7536da85\",\"type\":\"BoxZoomTool\"},{\"attributes\":{},\"id\":\"e0295298-1e48-44d2-8f34-a771c5e9ebda\",\"type\":\"BasicTickFormatter\"},{\"attributes\":{},\"id\":\"b47bc160-40c8-4cbf-9a0d-93973f3c94cc\",\"type\":\"LinearScale\"},{\"attributes\":{},\"id\":\"ae0a7c1c-e5c4-4dd4-92a0-399ed5dd9fb4\",\"type\":\"ResetTool\"},{\"attributes\":{\"children\":[{\"id\":\"b06b3641-5d89-434e-b6bb-691943605261\",\"type\":\"ToolbarBox\"},{\"id\":\"9670481f-3fbc-4519-8d19-8b95b2623adf\",\"type\":\"Column\"}]},\"id\":\"f702c64e-7048-4f1d-9cc7-a8b1420cadbf\",\"type\":\"Column\"},{\"attributes\":{},\"id\":\"0b0d2f19-40ad-4b88-8c55-769e6d4c0939\",\"type\":\"SaveTool\"},{\"attributes\":{\"callback\":null,\"overlay\":{\"id\":\"1029ec67-7214-4d92-a8ec-7856d8152de0\",\"type\":\"BoxAnnotation\"},\"renderers\":[{\"id\":\"a6276848-55c2-44e7-91d3-9d52b7d4dc99\",\"type\":\"GlyphRenderer\"}]},\"id\":\"2d2ceccf-e409-49c1-8c6e-3e5b8f2c309c\",\"type\":\"BoxSelectTool\"},{\"attributes\":{\"callback\":null,\"overlay\":{\"id\":\"1f3802c2-5e78-4fc9-9468-a936efd6d71d\",\"type\":\"PolyAnnotation\"}},\"id\":\"560d6044-87a7-46ad-b6ef-df8cd0c92580\",\"type\":\"LassoSelectTool\"},{\"attributes\":{\"children\":[{\"id\":\"3aa0a0c2-f549-4af5-9b48-1cb64884c4da\",\"subtype\":\"Figure\",\"type\":\"Plot\"},{\"id\":\"98c52db0-7762-4cfe-990e-4d6c81dfc4d0\",\"subtype\":\"Figure\",\"type\":\"Plot\"}]},\"id\":\"6be873c0-d16a-4883-aa62-7dcebd0a5b2a\",\"type\":\"Row\"},{\"attributes\":{\"data_source\":{\"id\":\"9e64df64-209e-41e9-9147-b6eaddbf758f\",\"type\":\"ColumnDataSource\"},\"glyph\":{\"id\":\"6db6cb9c-f589-4fc5-ae6d-05ae43ebc074\",\"type\":\"Circle\"},\"hover_glyph\":null,\"muted_glyph\":null,\"nonselection_glyph\":{\"id\":\"6b73f9dc-c850-411a-b725-3864733c169d\",\"type\":\"Circle\"},\"selection_glyph\":null,\"view\":{\"id\":\"1060c472-d10e-441b-ac82-0673921cecb1\",\"type\":\"CDSView\"}},\"id\":\"a6276848-55c2-44e7-91d3-9d52b7d4dc99\",\"type\":\"GlyphRenderer\"},{\"attributes\":{\"bottom_units\":\"screen\",\"fill_alpha\":{\"value\":0.5},\"fill_color\":{\"value\":\"lightgrey\"},\"left_units\":\"screen\",\"level\":\"overlay\",\"line_alpha\":{\"value\":1.0},\"line_color\":{\"value\":\"black\"},\"line_dash\":[4,4],\"line_width\":{\"value\":2},\"plot\":null,\"render_mode\":\"css\",\"right_units\":\"screen\",\"top_units\":\"screen\"},\"id\":\"1029ec67-7214-4d92-a8ec-7856d8152de0\",\"type\":\"BoxAnnotation\"},{\"attributes\":{\"source\":{\"id\":\"9e64df64-209e-41e9-9147-b6eaddbf758f\",\"type\":\"ColumnDataSource\"}},\"id\":\"1060c472-d10e-441b-ac82-0673921cecb1\",\"type\":\"CDSView\"},{\"attributes\":{\"plot\":null,\"text\":\"\"},\"id\":\"e0dc3a28-fc32-4f95-9902-8d17ec83cb54\",\"type\":\"Title\"},{\"attributes\":{},\"id\":\"dce2effb-86a3-4209-9559-bac746696c40\",\"type\":\"BasicTickFormatter\"},{\"attributes\":{\"callback\":null},\"id\":\"7259b1f6-7a47-45f9-9f1a-1f0f67886b16\",\"type\":\"DataRange1d\"},{\"attributes\":{},\"id\":\"ee46fe1f-9ee3-4375-9498-1b30fcc4b772\",\"type\":\"BasicTickFormatter\"},{\"attributes\":{\"plot\":{\"id\":\"98c52db0-7762-4cfe-990e-4d6c81dfc4d0\",\"subtype\":\"Figure\",\"type\":\"Plot\"},\"ticker\":{\"id\":\"75e4f130-dd07-4817-b4e2-981d2838c7a1\",\"type\":\"BasicTicker\"}},\"id\":\"81daccf4-008a-4378-ac0a-8c741def9d40\",\"type\":\"Grid\"},{\"attributes\":{\"sizing_mode\":\"scale_width\",\"toolbar_location\":\"above\",\"tools\":[{\"id\":\"441e25f6-9edb-4905-9dca-cb94ea87201d\",\"type\":\"PanTool\"},{\"id\":\"590c329b-75f4-4f0e-a22b-7782fd1bd0aa\",\"type\":\"WheelZoomTool\"},{\"id\":\"6ad8db1b-06da-4f29-a69c-417b7536da85\",\"type\":\"BoxZoomTool\"},{\"id\":\"ae0a7c1c-e5c4-4dd4-92a0-399ed5dd9fb4\",\"type\":\"ResetTool\"},{\"id\":\"0b0d2f19-40ad-4b88-8c55-769e6d4c0939\",\"type\":\"SaveTool\"},{\"id\":\"2d2ceccf-e409-49c1-8c6e-3e5b8f2c309c\",\"type\":\"BoxSelectTool\"},{\"id\":\"560d6044-87a7-46ad-b6ef-df8cd0c92580\",\"type\":\"LassoSelectTool\"},{\"id\":\"c107c853-1a1f-415f-b485-27ed5b062b98\",\"type\":\"PanTool\"},{\"id\":\"8817f9e7-a727-4213-8919-c25ad79d0d6a\",\"type\":\"WheelZoomTool\"},{\"id\":\"19e44240-ff33-47bf-8f66-9690649ce5fc\",\"type\":\"BoxZoomTool\"},{\"id\":\"1c37493c-76d4-47e4-88db-3cad1d10f768\",\"type\":\"ResetTool\"},{\"id\":\"c6ec71e1-adc5-40d4-82ea-f9bf74446797\",\"type\":\"SaveTool\"},{\"id\":\"98bf4446-ea0d-4687-a219-770656aa46de\",\"type\":\"BoxSelectTool\"},{\"id\":\"d6b36ee3-d8e1-449e-8521-7c1a08655aff\",\"type\":\"LassoSelectTool\"}]},\"id\":\"b06b3641-5d89-434e-b6bb-691943605261\",\"type\":\"ToolbarBox\"},{\"attributes\":{\"active_drag\":\"auto\",\"active_inspect\":\"auto\",\"active_scroll\":\"auto\",\"active_tap\":\"auto\",\"tools\":[{\"id\":\"c107c853-1a1f-415f-b485-27ed5b062b98\",\"type\":\"PanTool\"},{\"id\":\"8817f9e7-a727-4213-8919-c25ad79d0d6a\",\"type\":\"WheelZoomTool\"},{\"id\":\"19e44240-ff33-47bf-8f66-9690649ce5fc\",\"type\":\"BoxZoomTool\"},{\"id\":\"1c37493c-76d4-47e4-88db-3cad1d10f768\",\"type\":\"ResetTool\"},{\"id\":\"c6ec71e1-adc5-40d4-82ea-f9bf74446797\",\"type\":\"SaveTool\"},{\"id\":\"98bf4446-ea0d-4687-a219-770656aa46de\",\"type\":\"BoxSelectTool\"},{\"id\":\"d6b36ee3-d8e1-449e-8521-7c1a08655aff\",\"type\":\"LassoSelectTool\"}]},\"id\":\"a856f2e7-83ce-4f58-9a14-d8eae5f673e9\",\"type\":\"Toolbar\"},{\"attributes\":{\"fill_color\":{\"value\":\"#1f77b4\"},\"line_color\":{\"value\":\"#1f77b4\"},\"x\":{\"field\":\"x\"},\"y\":{\"field\":\"y1\"}},\"id\":\"6db6cb9c-f589-4fc5-ae6d-05ae43ebc074\",\"type\":\"Circle\"},{\"attributes\":{\"below\":[{\"id\":\"0b096965-9c49-40fe-889a-158813e61e4d\",\"type\":\"LinearAxis\"}],\"left\":[{\"id\":\"99a33a4b-7f3d-40dd-8d5c-74919fb5dc5f\",\"type\":\"LinearAxis\"}],\"plot_height\":350,\"plot_width\":350,\"renderers\":[{\"id\":\"0b096965-9c49-40fe-889a-158813e61e4d\",\"type\":\"LinearAxis\"},{\"id\":\"5bb38d96-7a48-425d-b462-1b4056fb1291\",\"type\":\"Grid\"},{\"id\":\"99a33a4b-7f3d-40dd-8d5c-74919fb5dc5f\",\"type\":\"LinearAxis\"},{\"id\":\"b4cc3feb-f54c-44c4-83b7-3a457247de2a\",\"type\":\"Grid\"},{\"id\":\"b5c188b4-cc60-4d54-a63d-a831696d99bb\",\"type\":\"BoxAnnotation\"},{\"id\":\"1029ec67-7214-4d92-a8ec-7856d8152de0\",\"type\":\"BoxAnnotation\"},{\"id\":\"1f3802c2-5e78-4fc9-9468-a936efd6d71d\",\"type\":\"PolyAnnotation\"},{\"id\":\"a6276848-55c2-44e7-91d3-9d52b7d4dc99\",\"type\":\"GlyphRenderer\"}],\"title\":{\"id\":\"e0dc3a28-fc32-4f95-9902-8d17ec83cb54\",\"type\":\"Title\"},\"toolbar\":{\"id\":\"37c67369-951e-4144-a3ca-9bf3f082515e\",\"type\":\"Toolbar\"},\"toolbar_location\":null,\"x_range\":{\"id\":\"929ab619-8820-4307-b18a-62965717bdaf\",\"type\":\"DataRange1d\"},\"x_scale\":{\"id\":\"b47bc160-40c8-4cbf-9a0d-93973f3c94cc\",\"type\":\"LinearScale\"},\"y_range\":{\"id\":\"b015cf5a-4978-4e47-8d65-a5b01e082652\",\"type\":\"DataRange1d\"},\"y_scale\":{\"id\":\"cdffee36-afc5-4a25-aaba-7b8098b755f3\",\"type\":\"LinearScale\"}},\"id\":\"3aa0a0c2-f549-4af5-9b48-1cb64884c4da\",\"subtype\":\"Figure\",\"type\":\"Plot\"},{\"attributes\":{\"callback\":null},\"id\":\"929ab619-8820-4307-b18a-62965717bdaf\",\"type\":\"DataRange1d\"},{\"attributes\":{\"formatter\":{\"id\":\"e0295298-1e48-44d2-8f34-a771c5e9ebda\",\"type\":\"BasicTickFormatter\"},\"plot\":{\"id\":\"98c52db0-7762-4cfe-990e-4d6c81dfc4d0\",\"subtype\":\"Figure\",\"type\":\"Plot\"},\"ticker\":{\"id\":\"75e4f130-dd07-4817-b4e2-981d2838c7a1\",\"type\":\"BasicTicker\"}},\"id\":\"e2b6604f-2685-4367-bb89-f03f4ead4590\",\"type\":\"LinearAxis\"},{\"attributes\":{},\"id\":\"85c90a71-fe51-4e52-b5c1-f6b2feeaa24a\",\"type\":\"LinearScale\"},{\"attributes\":{},\"id\":\"57e5d994-d257-42c6-8818-d2ad9874e0fe\",\"type\":\"LinearScale\"},{\"attributes\":{},\"id\":\"9d926e9d-0e10-4f71-a082-64e43b16bceb\",\"type\":\"BasicTicker\"},{\"attributes\":{},\"id\":\"75e4f130-dd07-4817-b4e2-981d2838c7a1\",\"type\":\"BasicTicker\"},{\"attributes\":{\"below\":[{\"id\":\"e2b6604f-2685-4367-bb89-f03f4ead4590\",\"type\":\"LinearAxis\"}],\"left\":[{\"id\":\"8754d56b-1279-4766-b050-b06ee8da37b2\",\"type\":\"LinearAxis\"}],\"plot_height\":350,\"plot_width\":350,\"renderers\":[{\"id\":\"e2b6604f-2685-4367-bb89-f03f4ead4590\",\"type\":\"LinearAxis\"},{\"id\":\"81daccf4-008a-4378-ac0a-8c741def9d40\",\"type\":\"Grid\"},{\"id\":\"8754d56b-1279-4766-b050-b06ee8da37b2\",\"type\":\"LinearAxis\"},{\"id\":\"7fcf80b8-ad38-4a4b-b327-2e343f14700a\",\"type\":\"Grid\"},{\"id\":\"f1168432-aebb-4e1d-aeb0-7401988d5f7e\",\"type\":\"BoxAnnotation\"},{\"id\":\"576ea23e-4bb1-4646-a9ed-13601f6dd428\",\"type\":\"BoxAnnotation\"},{\"id\":\"bd4e9edf-bf9d-48f4-b096-aec6b0ee1ac6\",\"type\":\"PolyAnnotation\"},{\"id\":\"efbc3ba3-0e68-4354-af0a-e08925a1f928\",\"type\":\"GlyphRenderer\"}],\"title\":{\"id\":\"f29a81e1-4a41-4a19-aa7b-ced11ca4a8d5\",\"type\":\"Title\"},\"toolbar\":{\"id\":\"a856f2e7-83ce-4f58-9a14-d8eae5f673e9\",\"type\":\"Toolbar\"},\"toolbar_location\":null,\"x_range\":{\"id\":\"929ab619-8820-4307-b18a-62965717bdaf\",\"type\":\"DataRange1d\"},\"x_scale\":{\"id\":\"85c90a71-fe51-4e52-b5c1-f6b2feeaa24a\",\"type\":\"LinearScale\"},\"y_range\":{\"id\":\"7259b1f6-7a47-45f9-9f1a-1f0f67886b16\",\"type\":\"DataRange1d\"},\"y_scale\":{\"id\":\"57e5d994-d257-42c6-8818-d2ad9874e0fe\",\"type\":\"LinearScale\"}},\"id\":\"98c52db0-7762-4cfe-990e-4d6c81dfc4d0\",\"subtype\":\"Figure\",\"type\":\"Plot\"},{\"attributes\":{\"formatter\":{\"id\":\"dce2effb-86a3-4209-9559-bac746696c40\",\"type\":\"BasicTickFormatter\"},\"plot\":{\"id\":\"98c52db0-7762-4cfe-990e-4d6c81dfc4d0\",\"subtype\":\"Figure\",\"type\":\"Plot\"},\"ticker\":{\"id\":\"6b582e38-3306-4a17-9a25-e715f8fe750d\",\"type\":\"BasicTicker\"}},\"id\":\"8754d56b-1279-4766-b050-b06ee8da37b2\",\"type\":\"LinearAxis\"},{\"attributes\":{},\"id\":\"6b582e38-3306-4a17-9a25-e715f8fe750d\",\"type\":\"BasicTicker\"},{\"attributes\":{\"dimension\":1,\"plot\":{\"id\":\"98c52db0-7762-4cfe-990e-4d6c81dfc4d0\",\"subtype\":\"Figure\",\"type\":\"Plot\"},\"ticker\":{\"id\":\"6b582e38-3306-4a17-9a25-e715f8fe750d\",\"type\":\"BasicTicker\"}},\"id\":\"7fcf80b8-ad38-4a4b-b327-2e343f14700a\",\"type\":\"Grid\"},{\"attributes\":{\"fill_alpha\":{\"value\":0.5},\"fill_color\":{\"value\":\"lightgrey\"},\"level\":\"overlay\",\"line_alpha\":{\"value\":1.0},\"line_color\":{\"value\":\"black\"},\"line_dash\":[4,4],\"line_width\":{\"value\":2},\"plot\":null,\"xs_units\":\"screen\",\"ys_units\":\"screen\"},\"id\":\"bd4e9edf-bf9d-48f4-b096-aec6b0ee1ac6\",\"type\":\"PolyAnnotation\"},{\"attributes\":{\"fill_alpha\":{\"value\":0.1},\"fill_color\":{\"value\":\"#1f77b4\"},\"line_alpha\":{\"value\":0.1},\"line_color\":{\"value\":\"#1f77b4\"},\"x\":{\"field\":\"x\"},\"y\":{\"field\":\"y2\"}},\"id\":\"440e76ef-d054-4e23-9ef3-f8c75d3b05ab\",\"type\":\"Circle\"},{\"attributes\":{\"callback\":null,\"column_names\":[\"x\",\"y1\",\"y2\"],\"data\":{\"x\":{\"__ndarray__\":\"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\",\"dtype\":\"float64\",\"shape\":[300]},\"y1\":{\"__ndarray__\":\"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\",\"dtype\":\"float64\",\"shape\":[300]},\"y2\":{\"__ndarray__\":\"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\",\"dtype\":\"float64\",\"shape\":[300]}}},\"id\":\"9e64df64-209e-41e9-9147-b6eaddbf758f\",\"type\":\"ColumnDataSource\"},{\"attributes\":{\"plot\":{\"id\":\"3aa0a0c2-f549-4af5-9b48-1cb64884c4da\",\"subtype\":\"Figure\",\"type\":\"Plot\"},\"ticker\":{\"id\":\"9d926e9d-0e10-4f71-a082-64e43b16bceb\",\"type\":\"BasicTicker\"}},\"id\":\"5bb38d96-7a48-425d-b462-1b4056fb1291\",\"type\":\"Grid\"},{\"attributes\":{\"fill_color\":{\"value\":\"#1f77b4\"},\"line_color\":{\"value\":\"#1f77b4\"},\"x\":{\"field\":\"x\"},\"y\":{\"field\":\"y2\"}},\"id\":\"3e46592f-0870-461c-95b1-04ec75cb0968\",\"type\":\"Circle\"},{\"attributes\":{\"active_drag\":\"auto\",\"active_inspect\":\"auto\",\"active_scroll\":\"auto\",\"active_tap\":\"auto\",\"tools\":[{\"id\":\"441e25f6-9edb-4905-9dca-cb94ea87201d\",\"type\":\"PanTool\"},{\"id\":\"590c329b-75f4-4f0e-a22b-7782fd1bd0aa\",\"type\":\"WheelZoomTool\"},{\"id\":\"6ad8db1b-06da-4f29-a69c-417b7536da85\",\"type\":\"BoxZoomTool\"},{\"id\":\"ae0a7c1c-e5c4-4dd4-92a0-399ed5dd9fb4\",\"type\":\"ResetTool\"},{\"id\":\"0b0d2f19-40ad-4b88-8c55-769e6d4c0939\",\"type\":\"SaveTool\"},{\"id\":\"2d2ceccf-e409-49c1-8c6e-3e5b8f2c309c\",\"type\":\"BoxSelectTool\"},{\"id\":\"560d6044-87a7-46ad-b6ef-df8cd0c92580\",\"type\":\"LassoSelectTool\"}]},\"id\":\"37c67369-951e-4144-a3ca-9bf3f082515e\",\"type\":\"Toolbar\"},{\"attributes\":{\"bottom_units\":\"screen\",\"fill_alpha\":{\"value\":0.5},\"fill_color\":{\"value\":\"lightgrey\"},\"left_units\":\"screen\",\"level\":\"overlay\",\"line_alpha\":{\"value\":1.0},\"line_color\":{\"value\":\"black\"},\"line_dash\":[4,4],\"line_width\":{\"value\":2},\"plot\":null,\"render_mode\":\"css\",\"right_units\":\"screen\",\"top_units\":\"screen\"},\"id\":\"f1168432-aebb-4e1d-aeb0-7401988d5f7e\",\"type\":\"BoxAnnotation\"},{\"attributes\":{\"dimension\":1,\"plot\":{\"id\":\"3aa0a0c2-f549-4af5-9b48-1cb64884c4da\",\"subtype\":\"Figure\",\"type\":\"Plot\"},\"ticker\":{\"id\":\"2faabc3c-f174-46e7-82a3-751b8316f0ed\",\"type\":\"BasicTicker\"}},\"id\":\"b4cc3feb-f54c-44c4-83b7-3a457247de2a\",\"type\":\"Grid\"},{\"attributes\":{\"callback\":null},\"id\":\"b015cf5a-4978-4e47-8d65-a5b01e082652\",\"type\":\"DataRange1d\"},{\"attributes\":{},\"id\":\"c107c853-1a1f-415f-b485-27ed5b062b98\",\"type\":\"PanTool\"},{\"attributes\":{\"formatter\":{\"id\":\"a2bd9285-6770-4478-8016-50302cf5797d\",\"type\":\"BasicTickFormatter\"},\"plot\":{\"id\":\"3aa0a0c2-f549-4af5-9b48-1cb64884c4da\",\"subtype\":\"Figure\",\"type\":\"Plot\"},\"ticker\":{\"id\":\"2faabc3c-f174-46e7-82a3-751b8316f0ed\",\"type\":\"BasicTicker\"}},\"id\":\"99a33a4b-7f3d-40dd-8d5c-74919fb5dc5f\",\"type\":\"LinearAxis\"},{\"attributes\":{\"children\":[{\"id\":\"6be873c0-d16a-4883-aa62-7dcebd0a5b2a\",\"type\":\"Row\"}]},\"id\":\"9670481f-3fbc-4519-8d19-8b95b2623adf\",\"type\":\"Column\"},{\"attributes\":{},\"id\":\"8817f9e7-a727-4213-8919-c25ad79d0d6a\",\"type\":\"WheelZoomTool\"}],\"root_ids\":[\"f702c64e-7048-4f1d-9cc7-a8b1420cadbf\"]},\"title\":\"Bokeh Application\",\"version\":\"0.12.10\"}};\n",
       "    var render_items = [{\"docid\":\"d39e80f0-1dec-4979-b60f-3609b1e62ba2\",\"elementid\":\"664126e8-36dd-4160-9ee6-3124856ad320\",\"modelid\":\"f702c64e-7048-4f1d-9cc7-a8b1420cadbf\"}];\n",
       "\n",
       "    root.Bokeh.embed.embed_items(docs_json, render_items);\n",
       "  }\n",
       "\n",
       "  if (root.Bokeh !== undefined) {\n",
       "    embed_document(root);\n",
       "  } else {\n",
       "    var attempts = 0;\n",
       "    var timer = setInterval(function(root) {\n",
       "      if (root.Bokeh !== undefined) {\n",
       "        embed_document(root);\n",
       "        clearInterval(timer);\n",
       "      }\n",
       "      attempts++;\n",
       "      if (attempts > 100) {\n",
       "        console.log(\"Bokeh: ERROR: Unable to embed document because BokehJS library is missing\")\n",
       "        clearInterval(timer);\n",
       "      }\n",
       "    }, 10, root)\n",
       "  }\n",
       "})(window);"
      ],
      "application/vnd.bokehjs_exec.v0+json": ""
     },
     "metadata": {
      "application/vnd.bokehjs_exec.v0+json": {
       "id": "f702c64e-7048-4f1d-9cc7-a8b1420cadbf"
      }
     },
     "output_type": "display_data"
    }
   ],
   "source": [
    "N = 300\n",
    "x = np.linspace(0, 4*np.pi, N)\n",
    "y1 = np.sin(x)\n",
    "y2 = np.cos(x)\n",
    "\n",
    "source = ColumnDataSource()\n",
    "source.add(data=x, name='x')\n",
    "source.add(data=y1, name='y1')\n",
    "source.add(data=y2, name='y2')\n",
    "\n",
    "TOOLS = \"pan,wheel_zoom,box_zoom,reset,save,box_select,lasso_select\"\n",
    "\n",
    "s1 = figure(tools=TOOLS, plot_width=350, plot_height=350)\n",
    "s1.scatter('x', 'y1', source=source)\n",
    "\n",
    "# Linked brushing in Bokeh is expressed by sharing data sources between\n",
    "# renderers. Note below that s2.scatter is called with the `source`\n",
    "# keyword argument, and supplied with the same data source from s1.scatter\n",
    "s2 = figure(tools=TOOLS, plot_width=350, plot_height=350, x_range=s1.x_range)\n",
    "s2.scatter('x', 'y2', source=source, )\n",
    "\n",
    "p = gridplot([[s1,s2]])\n",
    "show(p)"
   ]
  },
  {
   "cell_type": "markdown",
   "metadata": {},
   "source": [
    "# Basic interactivity\n",
    "Bokeh lets you use a Python update function to update your plots.\n",
    "In IPython notebook we can use the interactive widgets provided by the notebook. One can also use Flask or Bokeh-server to embed in outside the notebook."
   ]
  },
  {
   "cell_type": "code",
   "execution_count": 33,
   "metadata": {},
   "outputs": [
    {
     "ename": "RuntimeError",
     "evalue": "\nSupplying a user-defined data source AND iterable values to glyph methods is\nnot possibe. Either:\n\nPass all data directly as literals:\n\n    p.circe(x=a_list, y=an_array, ...)\n\nOr, put all data in a ColumnDataSource and pass column names:\n\n    source = ColumnDataSource(data=dict(x=a_list, y=an_array))\n    p.circe(x='x', y='x', source=source, ...)\n\n",
     "output_type": "error",
     "traceback": [
      "\u001b[1;31m---------------------------------------------------------------------------\u001b[0m",
      "\u001b[1;31mRuntimeError\u001b[0m                              Traceback (most recent call last)",
      "\u001b[1;32m<ipython-input-33-be9e8a7f7bea>\u001b[0m in \u001b[0;36m<module>\u001b[1;34m()\u001b[0m\n\u001b[0;32m      5\u001b[0m \u001b[1;33m\u001b[0m\u001b[0m\n\u001b[0;32m      6\u001b[0m \u001b[0mp\u001b[0m \u001b[1;33m=\u001b[0m \u001b[0mfigure\u001b[0m\u001b[1;33m(\u001b[0m\u001b[0mtitle\u001b[0m\u001b[1;33m=\u001b[0m\u001b[1;34m\"simple line example\"\u001b[0m\u001b[1;33m,\u001b[0m \u001b[0mplot_height\u001b[0m\u001b[1;33m=\u001b[0m\u001b[1;36m300\u001b[0m\u001b[1;33m,\u001b[0m \u001b[0mplot_width\u001b[0m\u001b[1;33m=\u001b[0m\u001b[1;36m600\u001b[0m\u001b[1;33m)\u001b[0m\u001b[1;33m\u001b[0m\u001b[0m\n\u001b[1;32m----> 7\u001b[1;33m \u001b[0mp\u001b[0m\u001b[1;33m.\u001b[0m\u001b[0mline\u001b[0m\u001b[1;33m(\u001b[0m\u001b[0mx\u001b[0m\u001b[1;33m,\u001b[0m \u001b[0my\u001b[0m\u001b[1;33m,\u001b[0m \u001b[0mcolor\u001b[0m\u001b[1;33m=\u001b[0m\u001b[1;34m\"#2222aa\"\u001b[0m\u001b[1;33m,\u001b[0m \u001b[0mline_width\u001b[0m\u001b[1;33m=\u001b[0m\u001b[1;36m3\u001b[0m\u001b[1;33m,\u001b[0m \u001b[0msource\u001b[0m\u001b[1;33m=\u001b[0m\u001b[0msource\u001b[0m\u001b[1;33m,\u001b[0m \u001b[0mname\u001b[0m\u001b[1;33m=\u001b[0m\u001b[1;34m\"foo\"\u001b[0m\u001b[1;33m)\u001b[0m\u001b[1;33m\u001b[0m\u001b[0m\n\u001b[0m",
      "\u001b[1;32mfakesource\u001b[0m in \u001b[0;36mline\u001b[1;34m(self, x, y, **kwargs)\u001b[0m\n",
      "\u001b[1;32m~\\Anaconda3\\lib\\site-packages\\bokeh\\plotting\\helpers.py\u001b[0m in \u001b[0;36mfunc\u001b[1;34m(self, **kwargs)\u001b[0m\n\u001b[0;32m    718\u001b[0m         \u001b[1;31m# handle the main glyph, need to process literals\u001b[0m\u001b[1;33m\u001b[0m\u001b[1;33m\u001b[0m\u001b[0m\n\u001b[0;32m    719\u001b[0m         \u001b[0mglyph_ca\u001b[0m \u001b[1;33m=\u001b[0m \u001b[0m_pop_colors_and_alpha\u001b[0m\u001b[1;33m(\u001b[0m\u001b[0mglyphclass\u001b[0m\u001b[1;33m,\u001b[0m \u001b[0mkwargs\u001b[0m\u001b[1;33m)\u001b[0m\u001b[1;33m\u001b[0m\u001b[0m\n\u001b[1;32m--> 720\u001b[1;33m         \u001b[0m_process_sequence_literals\u001b[0m\u001b[1;33m(\u001b[0m\u001b[0mglyphclass\u001b[0m\u001b[1;33m,\u001b[0m \u001b[0mkwargs\u001b[0m\u001b[1;33m,\u001b[0m \u001b[0msource\u001b[0m\u001b[1;33m,\u001b[0m \u001b[0mis_user_source\u001b[0m\u001b[1;33m)\u001b[0m\u001b[1;33m\u001b[0m\u001b[0m\n\u001b[0m\u001b[0;32m    721\u001b[0m         \u001b[0m_process_sequence_literals\u001b[0m\u001b[1;33m(\u001b[0m\u001b[0mglyphclass\u001b[0m\u001b[1;33m,\u001b[0m \u001b[0mglyph_ca\u001b[0m\u001b[1;33m,\u001b[0m \u001b[0msource\u001b[0m\u001b[1;33m,\u001b[0m \u001b[0mis_user_source\u001b[0m\u001b[1;33m)\u001b[0m\u001b[1;33m\u001b[0m\u001b[0m\n\u001b[0;32m    722\u001b[0m \u001b[1;33m\u001b[0m\u001b[0m\n",
      "\u001b[1;32m~\\Anaconda3\\lib\\site-packages\\bokeh\\plotting\\helpers.py\u001b[0m in \u001b[0;36m_process_sequence_literals\u001b[1;34m(glyphclass, kwargs, source, is_user_source)\u001b[0m\n\u001b[0;32m    294\u001b[0m \u001b[1;33m\u001b[0m\u001b[0m\n\u001b[0;32m    295\u001b[0m         \u001b[1;32mif\u001b[0m \u001b[0mis_user_source\u001b[0m\u001b[1;33m:\u001b[0m\u001b[1;33m\u001b[0m\u001b[0m\n\u001b[1;32m--> 296\u001b[1;33m             \u001b[1;32mraise\u001b[0m \u001b[0mRuntimeError\u001b[0m\u001b[1;33m(\u001b[0m\u001b[0m_GLYPH_SOURCE_MSG\u001b[0m\u001b[1;33m)\u001b[0m\u001b[1;33m\u001b[0m\u001b[0m\n\u001b[0m\u001b[0;32m    297\u001b[0m \u001b[1;33m\u001b[0m\u001b[0m\n\u001b[0;32m    298\u001b[0m         \u001b[0msource\u001b[0m\u001b[1;33m.\u001b[0m\u001b[0madd\u001b[0m\u001b[1;33m(\u001b[0m\u001b[0mval\u001b[0m\u001b[1;33m,\u001b[0m \u001b[0mname\u001b[0m\u001b[1;33m=\u001b[0m\u001b[0mvar\u001b[0m\u001b[1;33m)\u001b[0m\u001b[1;33m\u001b[0m\u001b[0m\n",
      "\u001b[1;31mRuntimeError\u001b[0m: \nSupplying a user-defined data source AND iterable values to glyph methods is\nnot possibe. Either:\n\nPass all data directly as literals:\n\n    p.circe(x=a_list, y=an_array, ...)\n\nOr, put all data in a ColumnDataSource and pass column names:\n\n    source = ColumnDataSource(data=dict(x=a_list, y=an_array))\n    p.circe(x='x', y='x', source=source, ...)\n\n"
     ]
    }
   ],
   "source": [
    "x = np.linspace(0, 2*np.pi, 2000)\n",
    "y = np.sin(x)\n",
    "\n",
    "source = ColumnDataSource(data=dict(x=x, y=y))\n",
    "\n",
    "p = figure(title=\"simple line example\", plot_height=300, plot_width=600)\n",
    "p.line(x, y, color=\"#2222aa\", line_width=3, source=source, name=\"foo\")"
   ]
  },
  {
   "cell_type": "code",
   "execution_count": 42,
   "metadata": {},
   "outputs": [
    {
     "data": {
      "application/vnd.jupyter.widget-view+json": {
       "model_id": "6cf127320f934e459caa88f8a0c5aacc",
       "version_major": 2,
       "version_minor": 0
      },
      "text/plain": [
       "A Jupyter Widget"
      ]
     },
     "metadata": {},
     "output_type": "display_data"
    }
   ],
   "source": [
    "from ipywidgets import interact\n",
    "import bokeh\n",
    "@interact(f=[\"sin\", \"cos\", \"tan\"], w=(0,100), A=(1,10), phi=(0, 10, 0.1))\n",
    "def update(f, w=1, A=1, phi=0):\n",
    "    if   f == \"sin\": func = np.sin\n",
    "    elif f == \"cos\": func = np.cos\n",
    "    elif f == \"tan\": func = np.tan\n",
    "    source.data['y'] = A * func(w * x + phi)\n",
    "    bokeh.io.push_notebook()"
   ]
  },
  {
   "cell_type": "code",
   "execution_count": 43,
   "metadata": {},
   "outputs": [
    {
     "name": "stderr",
     "output_type": "stream",
     "text": [
      "W-1001 (NO_DATA_RENDERERS): Plot has no data renderers: Figure(id='88868bae-7e83-4a0b-9bc1-9523aa721dc7', ...)\n"
     ]
    },
    {
     "data": {
      "text/html": [
       "\n",
       "<div class=\"bk-root\">\n",
       "    <div class=\"bk-plotdiv\" id=\"d8667d6a-c340-4b5b-a36b-547c1688d70d\"></div>\n",
       "</div>"
      ]
     },
     "metadata": {},
     "output_type": "display_data"
    },
    {
     "data": {
      "application/javascript": [
       "(function(root) {\n",
       "  function embed_document(root) {\n",
       "    var docs_json = {\"7dd2758e-5ab9-4750-b8e5-261197b5c89c\":{\"roots\":{\"references\":[{\"attributes\":{},\"id\":\"e7e1fc6b-d837-44bc-a1c3-66a259980579\",\"type\":\"BasicTickFormatter\"},{\"attributes\":{\"plot\":null,\"text\":\"simple line example\"},\"id\":\"7ad5091c-0987-48f1-ad1a-41818c9e8647\",\"type\":\"Title\"},{\"attributes\":{\"bottom_units\":\"screen\",\"fill_alpha\":{\"value\":0.5},\"fill_color\":{\"value\":\"lightgrey\"},\"left_units\":\"screen\",\"level\":\"overlay\",\"line_alpha\":{\"value\":1.0},\"line_color\":{\"value\":\"black\"},\"line_dash\":[4,4],\"line_width\":{\"value\":2},\"plot\":null,\"render_mode\":\"css\",\"right_units\":\"screen\",\"top_units\":\"screen\"},\"id\":\"3ff70d57-4f22-4153-b3ed-c8af3e29985f\",\"type\":\"BoxAnnotation\"},{\"attributes\":{},\"id\":\"2d2de395-997c-49d0-b980-662d10c6b79a\",\"type\":\"LinearScale\"},{\"attributes\":{\"below\":[{\"id\":\"d47ebf53-397b-4421-8017-8a8c51623814\",\"type\":\"LinearAxis\"}],\"left\":[{\"id\":\"79da7f03-c226-456d-8a34-4e7999fde5e7\",\"type\":\"LinearAxis\"}],\"plot_height\":300,\"renderers\":[{\"id\":\"d47ebf53-397b-4421-8017-8a8c51623814\",\"type\":\"LinearAxis\"},{\"id\":\"0d40c7f1-c3c4-4ee4-862e-dfecd0420ccf\",\"type\":\"Grid\"},{\"id\":\"79da7f03-c226-456d-8a34-4e7999fde5e7\",\"type\":\"LinearAxis\"},{\"id\":\"299ff011-1401-4b64-adda-4575914ebcf7\",\"type\":\"Grid\"},{\"id\":\"3ff70d57-4f22-4153-b3ed-c8af3e29985f\",\"type\":\"BoxAnnotation\"}],\"title\":{\"id\":\"7ad5091c-0987-48f1-ad1a-41818c9e8647\",\"type\":\"Title\"},\"toolbar\":{\"id\":\"4e5a7420-f652-441b-a9fb-19baef3b5549\",\"type\":\"Toolbar\"},\"x_range\":{\"id\":\"4a2fb748-bf11-4e52-87f7-ea5ca0931cc4\",\"type\":\"DataRange1d\"},\"x_scale\":{\"id\":\"ae78090f-3162-4166-b58c-513f44597d37\",\"type\":\"LinearScale\"},\"y_range\":{\"id\":\"6ef75b37-d40b-428e-875b-1daca66584a7\",\"type\":\"DataRange1d\"},\"y_scale\":{\"id\":\"2d2de395-997c-49d0-b980-662d10c6b79a\",\"type\":\"LinearScale\"}},\"id\":\"88868bae-7e83-4a0b-9bc1-9523aa721dc7\",\"subtype\":\"Figure\",\"type\":\"Plot\"},{\"attributes\":{\"formatter\":{\"id\":\"e7e1fc6b-d837-44bc-a1c3-66a259980579\",\"type\":\"BasicTickFormatter\"},\"plot\":{\"id\":\"88868bae-7e83-4a0b-9bc1-9523aa721dc7\",\"subtype\":\"Figure\",\"type\":\"Plot\"},\"ticker\":{\"id\":\"7f2f51f1-01d0-4b6d-9555-9e834fe5998b\",\"type\":\"BasicTicker\"}},\"id\":\"79da7f03-c226-456d-8a34-4e7999fde5e7\",\"type\":\"LinearAxis\"},{\"attributes\":{\"dimension\":1,\"plot\":{\"id\":\"88868bae-7e83-4a0b-9bc1-9523aa721dc7\",\"subtype\":\"Figure\",\"type\":\"Plot\"},\"ticker\":{\"id\":\"7f2f51f1-01d0-4b6d-9555-9e834fe5998b\",\"type\":\"BasicTicker\"}},\"id\":\"299ff011-1401-4b64-adda-4575914ebcf7\",\"type\":\"Grid\"},{\"attributes\":{\"formatter\":{\"id\":\"e1229b68-272e-437d-9847-18a6eabfebb9\",\"type\":\"BasicTickFormatter\"},\"plot\":{\"id\":\"88868bae-7e83-4a0b-9bc1-9523aa721dc7\",\"subtype\":\"Figure\",\"type\":\"Plot\"},\"ticker\":{\"id\":\"01041fba-e8b0-4816-9e97-d26d3415b3e7\",\"type\":\"BasicTicker\"}},\"id\":\"d47ebf53-397b-4421-8017-8a8c51623814\",\"type\":\"LinearAxis\"},{\"attributes\":{},\"id\":\"7f2f51f1-01d0-4b6d-9555-9e834fe5998b\",\"type\":\"BasicTicker\"},{\"attributes\":{},\"id\":\"92c0e0eb-677c-4713-8a04-0acf3ff9e9e5\",\"type\":\"WheelZoomTool\"},{\"attributes\":{},\"id\":\"01041fba-e8b0-4816-9e97-d26d3415b3e7\",\"type\":\"BasicTicker\"},{\"attributes\":{\"plot\":{\"id\":\"88868bae-7e83-4a0b-9bc1-9523aa721dc7\",\"subtype\":\"Figure\",\"type\":\"Plot\"},\"ticker\":{\"id\":\"01041fba-e8b0-4816-9e97-d26d3415b3e7\",\"type\":\"BasicTicker\"}},\"id\":\"0d40c7f1-c3c4-4ee4-862e-dfecd0420ccf\",\"type\":\"Grid\"},{\"attributes\":{},\"id\":\"8c849f29-438e-4aaa-9fba-344d1203c907\",\"type\":\"ResetTool\"},{\"attributes\":{\"active_drag\":\"auto\",\"active_inspect\":\"auto\",\"active_scroll\":\"auto\",\"active_tap\":\"auto\",\"tools\":[{\"id\":\"e2505033-e6a5-4526-9343-3997447a2129\",\"type\":\"PanTool\"},{\"id\":\"92c0e0eb-677c-4713-8a04-0acf3ff9e9e5\",\"type\":\"WheelZoomTool\"},{\"id\":\"1da0becd-7363-4c6e-8d21-cdf5687f8e1d\",\"type\":\"BoxZoomTool\"},{\"id\":\"eb16f155-9804-4860-a251-aee4ceb5cd5b\",\"type\":\"SaveTool\"},{\"id\":\"8c849f29-438e-4aaa-9fba-344d1203c907\",\"type\":\"ResetTool\"},{\"id\":\"d2a12c6b-fce3-4b83-8b74-07b2b0ed1b6d\",\"type\":\"HelpTool\"}]},\"id\":\"4e5a7420-f652-441b-a9fb-19baef3b5549\",\"type\":\"Toolbar\"},{\"attributes\":{},\"id\":\"d2a12c6b-fce3-4b83-8b74-07b2b0ed1b6d\",\"type\":\"HelpTool\"},{\"attributes\":{},\"id\":\"ae78090f-3162-4166-b58c-513f44597d37\",\"type\":\"LinearScale\"},{\"attributes\":{\"callback\":null},\"id\":\"6ef75b37-d40b-428e-875b-1daca66584a7\",\"type\":\"DataRange1d\"},{\"attributes\":{\"overlay\":{\"id\":\"3ff70d57-4f22-4153-b3ed-c8af3e29985f\",\"type\":\"BoxAnnotation\"}},\"id\":\"1da0becd-7363-4c6e-8d21-cdf5687f8e1d\",\"type\":\"BoxZoomTool\"},{\"attributes\":{\"callback\":null},\"id\":\"4a2fb748-bf11-4e52-87f7-ea5ca0931cc4\",\"type\":\"DataRange1d\"},{\"attributes\":{},\"id\":\"eb16f155-9804-4860-a251-aee4ceb5cd5b\",\"type\":\"SaveTool\"},{\"attributes\":{},\"id\":\"e1229b68-272e-437d-9847-18a6eabfebb9\",\"type\":\"BasicTickFormatter\"},{\"attributes\":{},\"id\":\"e2505033-e6a5-4526-9343-3997447a2129\",\"type\":\"PanTool\"}],\"root_ids\":[\"88868bae-7e83-4a0b-9bc1-9523aa721dc7\"]},\"title\":\"Bokeh Application\",\"version\":\"0.12.10\"}};\n",
       "    var render_items = [{\"docid\":\"7dd2758e-5ab9-4750-b8e5-261197b5c89c\",\"elementid\":\"d8667d6a-c340-4b5b-a36b-547c1688d70d\",\"modelid\":\"88868bae-7e83-4a0b-9bc1-9523aa721dc7\"}];\n",
       "\n",
       "    root.Bokeh.embed.embed_items(docs_json, render_items);\n",
       "  }\n",
       "\n",
       "  if (root.Bokeh !== undefined) {\n",
       "    embed_document(root);\n",
       "  } else {\n",
       "    var attempts = 0;\n",
       "    var timer = setInterval(function(root) {\n",
       "      if (root.Bokeh !== undefined) {\n",
       "        embed_document(root);\n",
       "        clearInterval(timer);\n",
       "      }\n",
       "      attempts++;\n",
       "      if (attempts > 100) {\n",
       "        console.log(\"Bokeh: ERROR: Unable to embed document because BokehJS library is missing\")\n",
       "        clearInterval(timer);\n",
       "      }\n",
       "    }, 10, root)\n",
       "  }\n",
       "})(window);"
      ],
      "application/vnd.bokehjs_exec.v0+json": ""
     },
     "metadata": {
      "application/vnd.bokehjs_exec.v0+json": {
       "id": "88868bae-7e83-4a0b-9bc1-9523aa721dc7"
      }
     },
     "output_type": "display_data"
    }
   ],
   "source": [
    "show(p)"
   ]
  },
  {
   "cell_type": "code",
   "execution_count": null,
   "metadata": {
    "collapsed": true
   },
   "outputs": [],
   "source": []
  },
  {
   "cell_type": "code",
   "execution_count": null,
   "metadata": {
    "collapsed": true
   },
   "outputs": [],
   "source": []
  },
  {
   "cell_type": "code",
   "execution_count": null,
   "metadata": {
    "collapsed": true
   },
   "outputs": [],
   "source": []
  },
  {
   "cell_type": "code",
   "execution_count": null,
   "metadata": {
    "collapsed": true
   },
   "outputs": [],
   "source": []
  },
  {
   "cell_type": "code",
   "execution_count": null,
   "metadata": {
    "collapsed": true
   },
   "outputs": [],
   "source": []
  },
  {
   "cell_type": "code",
   "execution_count": null,
   "metadata": {
    "collapsed": true
   },
   "outputs": [],
   "source": []
  },
  {
   "cell_type": "code",
   "execution_count": null,
   "metadata": {
    "collapsed": true
   },
   "outputs": [],
   "source": []
  },
  {
   "cell_type": "code",
   "execution_count": null,
   "metadata": {
    "collapsed": true
   },
   "outputs": [],
   "source": []
  },
  {
   "cell_type": "code",
   "execution_count": null,
   "metadata": {
    "collapsed": true
   },
   "outputs": [],
   "source": []
  },
  {
   "cell_type": "code",
   "execution_count": null,
   "metadata": {
    "collapsed": true
   },
   "outputs": [],
   "source": []
  },
  {
   "cell_type": "code",
   "execution_count": null,
   "metadata": {
    "collapsed": true
   },
   "outputs": [],
   "source": []
  },
  {
   "cell_type": "code",
   "execution_count": null,
   "metadata": {
    "collapsed": true
   },
   "outputs": [],
   "source": []
  },
  {
   "cell_type": "code",
   "execution_count": null,
   "metadata": {
    "collapsed": true
   },
   "outputs": [],
   "source": []
  },
  {
   "cell_type": "code",
   "execution_count": null,
   "metadata": {
    "collapsed": true
   },
   "outputs": [],
   "source": []
  },
  {
   "cell_type": "code",
   "execution_count": null,
   "metadata": {
    "collapsed": true
   },
   "outputs": [],
   "source": []
  }
 ],
 "metadata": {
  "kernelspec": {
   "display_name": "Python 3",
   "language": "python",
   "name": "python3"
  },
  "language_info": {
   "codemirror_mode": {
    "name": "ipython",
    "version": 3
   },
   "file_extension": ".py",
   "mimetype": "text/x-python",
   "name": "python",
   "nbconvert_exporter": "python",
   "pygments_lexer": "ipython3",
   "version": "3.6.3"
  }
 },
 "nbformat": 4,
 "nbformat_minor": 2
}
